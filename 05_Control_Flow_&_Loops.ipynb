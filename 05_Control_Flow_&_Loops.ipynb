{
  "cells": [
    {
      "cell_type": "markdown",
      "metadata": {
        "id": "nje0wz3tM5ZI"
      },
      "source": [
        "\n",
        "---\n",
        "\n",
        "## **1. Introduction to Control Flow (Asaan Alfaaz Mein)**\n",
        "\n",
        "**Control Flow** ka matlab hota hai:  \n",
        "👉 **Program ke andhar kis line ke baad kaunsi line chalegi** — yani code kis order mein chalega.\n",
        "\n",
        "Python mein agar tum **decision lena chahte ho** (jaise: agar yeh ho to yeh karo, warna kuch aur),  \n",
        "to tum **`if`, `elif`, aur `else`** ka use karte ho.\n",
        "\n",
        "Inke saath tum **comparison operators** (`==`, `>`, `<`, etc.) aur **logical operators** (`and`, `or`, `not`) bhi use karte ho taake condition check kar sako.\n",
        "\n",
        "---\n",
        "\n",
        "Agar chaho to iska **real example** bhi de sakta hoon jaise:\n",
        "```python\n",
        "age = 18\n",
        "\n",
        "if age >= 18:\n",
        "    print(\"Aap vote de sakte hain\")\n",
        "else:\n",
        "    print(\"Aap vote nahi de sakte\")\n",
        "```\n",
        "\n"
      ]
    },
    {
      "cell_type": "markdown",
      "metadata": {
        "id": "cdKktT4gNNgX"
      },
      "source": [
        "## **2. Comparison Operators**\n",
        "\n",
        "<font color=\"Green\" size=3> (Already done in Lesson 02) </font>\n",
        "\n",
        "Comparison operators are used to compare values and return True or False. Here are the most common ones:\n",
        "\n",
        "* == (equal to)\n",
        "* != &nbsp;(not equal to)\n",
        "* \\> &nbsp;&nbsp;(greater than)\n",
        "* < &nbsp;&nbsp;(less than)\n",
        "* \\>= (greater than or equal to)\n",
        "* <= (less than or equal to)\n",
        "\n",
        "<br>\n",
        "\n",
        "Example Code:"
      ]
    },
    {
      "cell_type": "code",
      "execution_count": null,
      "metadata": {
        "colab": {
          "base_uri": "https://localhost:8080/"
        },
        "id": "gUxrlEW-Mj--",
        "outputId": "0861f50f-3dba-4074-b8af-be23c7d7bac4"
      },
      "outputs": [
        {
          "name": "stdout",
          "output_type": "stream",
          "text": [
            "x == y =  False\n",
            "x != y =  True\n",
            "x > y  =  False\n",
            "x < y  =  True\n",
            "x >= y =  False\n",
            "x <= y =  True\n"
          ]
        }
      ],
      "source": [
        "x: int = 10\n",
        "y: int = 20\n",
        "\n",
        "print(\"x == y = \", x == y)  # False\n",
        "print(\"x != y = \", x != y)  # True\n",
        "print(\"x > y  = \", x > y)   # False\n",
        "print(\"x < y  = \", x < y)   # True\n",
        "print(\"x >= y = \", x >= y)  # False\n",
        "print(\"x <= y = \", x <= y)  # True"
      ]
    },
    {
      "cell_type": "markdown",
      "metadata": {
        "id": "qGjQea4gOYZW"
      },
      "source": [
        "# **3. Logical Operators**\n",
        "\n",
        "<font color=\"Green\" size=3> (Already done in Lesson 02) </font>\n",
        "\n",
        "\n",
        "Logical operators combine multiple conditions:\n",
        "\n",
        "* and (True if both conditions are True)\n",
        "* or (True if at least one condition is True)\n",
        "* not (reverses the result of a condition)"
      ]
    },
    {
      "cell_type": "code",
      "execution_count": null,
      "metadata": {
        "colab": {
          "base_uri": "https://localhost:8080/"
        },
        "id": "Qh0hehGnOp3G",
        "outputId": "f8705e64-51fd-46c8-8619-9008feef4086"
      },
      "outputs": [
        {
          "name": "stdout",
          "output_type": "stream",
          "text": [
            "You are eligible for a student discount.\n"
          ]
        }
      ],
      "source": [
        "age: int = 25\n",
        "is_student: bool = True\n",
        "\n",
        "# Check if age is greater than 18 AND is_student is True\n",
        "if age > 18 and is_student:\n",
        "    print(\"You are eligible for a student discount.\")\n",
        "\n",
        "# Check if age is less than 12 OR greater than 60\n",
        "if age < 12 or age > 60:\n",
        "    print(\"You qualify for a special discount.\")\n",
        "\n",
        "# Check if the person is NOT a student\n",
        "if not is_student:\n",
        "    print(\"You are not a student.\")"
      ]
    },
    {
      "cell_type": "markdown",
      "metadata": {
        "id": "3mxsAIXFO9mV"
      },
      "source": [
        "# **4. The if Statement**\n",
        "\n",
        "The if statement is used to execute a block of code only if a condition is True.\n",
        "\n",
        "<br>\n",
        "\n",
        "Example Code:"
      ]
    },
    {
      "cell_type": "code",
      "execution_count": null,
      "metadata": {
        "colab": {
          "base_uri": "https://localhost:8080/"
        },
        "id": "P-Btma3SPEnV",
        "outputId": "bda53857-69ac-4374-bea3-d5467e39204c"
      },
      "outputs": [
        {
          "name": "stdout",
          "output_type": "stream",
          "text": [
            "The number is positive.\n"
          ]
        }
      ],
      "source": [
        "num: int = 10\n",
        "\n",
        "if num > 0:\n",
        "    print(\"The number is positive.\")"
      ]
    },
    {
      "cell_type": "markdown",
      "metadata": {
        "id": "OKk1YFpYPIrN"
      },
      "source": [
        "# **5. The else Statement**\n",
        "\n",
        "The else statement is used to execute a block of code if the if condition is False.\n",
        "\n",
        "<br>\n",
        "\n",
        "Example Code:"
      ]
    },
    {
      "cell_type": "code",
      "execution_count": null,
      "metadata": {
        "colab": {
          "base_uri": "https://localhost:8080/"
        },
        "id": "iVWOSzW5POk1",
        "outputId": "065c6cdf-54cc-4be9-f243-8a666faa187f"
      },
      "outputs": [
        {
          "name": "stdout",
          "output_type": "stream",
          "text": [
            "The number is not positive.\n"
          ]
        }
      ],
      "source": [
        "num: int = -5\n",
        "\n",
        "if num > 0:\n",
        "    print(\"The number is positive.\")\n",
        "else:\n",
        "    print(\"The number is not positive.\")"
      ]
    },
    {
      "cell_type": "markdown",
      "metadata": {
        "id": "xuBQJ3zqPWQF"
      },
      "source": [
        "# **6. The elif Statement**\n",
        "\n",
        "The elif statement is used to check multiple conditions. It stands for \"else if.\"\n",
        "<br>\n",
        "\n",
        "Example Code:"
      ]
    },
    {
      "cell_type": "code",
      "execution_count": null,
      "metadata": {
        "colab": {
          "base_uri": "https://localhost:8080/"
        },
        "id": "Nf2lpunmPePV",
        "outputId": "e15b689d-4a29-42ba-c7f8-1046ff6c6c3c"
      },
      "outputs": [
        {
          "name": "stdout",
          "output_type": "stream",
          "text": [
            "The number is zero.\n"
          ]
        }
      ],
      "source": [
        "num: int = 0\n",
        "\n",
        "if num > 0: # Program execution step# 1 if condition = False\n",
        "    print(\"The number is positive.\")\n",
        "elif num < 0: # Program execution step# 2 if condition = False\n",
        "    print(\"The number is negative.\")\n",
        "else: # Program execution step# 3 python will execute the else block\n",
        "    print(\"The number is zero.\")"
      ]
    },
    {
      "cell_type": "markdown",
      "metadata": {
        "id": "0VTvdL1wPjh1"
      },
      "source": [
        "# **7. Nested if Statements**\n",
        "\n",
        "if statements can be nested inside other if statements to check multiple conditions.\n",
        "\n",
        "<br>\n",
        "\n",
        "Example Code:"
      ]
    },
    {
      "cell_type": "code",
      "execution_count": null,
      "metadata": {
        "colab": {
          "base_uri": "https://localhost:8080/"
        },
        "id": "Fvyg6Zc2PsV0",
        "outputId": "4c5a09e4-d2cc-4041-aa05-e3eba1636ede"
      },
      "outputs": [
        {
          "name": "stdout",
          "output_type": "stream",
          "text": [
            "The number is positive and even.\n"
          ]
        }
      ],
      "source": [
        "num: int = 10\n",
        "#num: int = -10\n",
        "\n",
        "if num > 0: # check wather the number is positive or negative\n",
        "\n",
        "    if num % 2 == 0: # Modulus operator, remainder 0 = even_number,\n",
        "        print(\"The number is positive and even.\")\n",
        "    else: # remainder 1 = odd_number,\n",
        "        print(\"The number is positive and odd.\")\n",
        "\n",
        "else:\n",
        "    print(\"The number is negative.\")"
      ]
    },
    {
      "cell_type": "markdown",
      "metadata": {
        "id": "dz7WWYZcRf87"
      },
      "source": [
        "# **8. Practical Examples**\n",
        "\n",
        "Here are two practical examples to solidify these concepts.\n",
        "\n",
        "Example 1: Simple Calculator"
      ]
    },
    {
      "cell_type": "code",
      "execution_count": null,
      "metadata": {
        "colab": {
          "base_uri": "https://localhost:8080/"
        },
        "id": "UHsjLNQRRj1E",
        "outputId": "485f8ed7-b94c-4c3a-d552-5685554ca8f1"
      },
      "outputs": [
        {
          "name": "stdout",
          "output_type": "stream",
          "text": [
            "Enter the operation (+, -, *, /): +\n",
            "Enter the first number: 5.3\n",
            "Enter the second number: 2.0\n",
            "Result: 7.3\n"
          ]
        }
      ],
      "source": [
        "operation: str = input(\"Enter the operation (+, -, *, /): \")\n",
        "num1: float = float(input(\"Enter the first number: \"))\n",
        "num2: float = float(input(\"Enter the second number: \"))\n",
        "\n",
        "if operation == '+':\n",
        "    result = num1 + num2\n",
        "elif operation == '-':\n",
        "    result = num1 - num2\n",
        "elif operation == '*':\n",
        "    result = num1 * num2\n",
        "elif operation == '/':\n",
        "    if num2 != 0:\n",
        "        result = num1 / num2\n",
        "    else:\n",
        "        result = \"Error: Division by zero.\"\n",
        "else:\n",
        "    result = \"Invalid operation.\"\n",
        "\n",
        "print(\"Result:\", result)"
      ]
    },
    {
      "cell_type": "markdown",
      "metadata": {
        "id": "1wPmhW5cTkhp"
      },
      "source": [
        "<font color=\"#a83285\" size=5> From now onwards you will be seeing the power of Generative AI in our tutorial </font>"
      ]
    },
    {
      "cell_type": "code",
      "execution_count": null,
      "metadata": {
        "colab": {
          "base_uri": "https://localhost:8080/"
        },
        "id": "oWg8AtU8Rski",
        "outputId": "524dc042-0757-43dc-c045-7ff2fae638f2"
      },
      "outputs": [
        {
          "name": "stdout",
          "output_type": "stream",
          "text": [
            "Enter the operation (+, -, *, /, %, //, ** or 'q' to quit): **\n",
            "Enter the first number: 5\n",
            "Enter the second number: 2\n",
            "Result: 25.0\n",
            "Enter the operation (+, -, *, /, %, //, ** or 'q' to quit): q\n"
          ]
        }
      ],
      "source": [
        "# prompt: build a calculator which takes input from the user, beside basic functionality include modulus, floor division, Exponentiation\n",
        "\n",
        "def calculator():\n",
        "  \"\"\"\n",
        "  A calculator function that takes user input for numbers and operations,\n",
        "  including modulus, floor division, and exponentiation.\n",
        "  \"\"\"\n",
        "  while True:\n",
        "    operation = input(\"Enter the operation (+, -, *, /, %, //, ** or 'q' to quit): \")\n",
        "    if operation.lower() == 'q':\n",
        "      break\n",
        "    if operation not in ('+', '-', '*', '/', '%', '//', '**'):\n",
        "      print(\"Invalid operation.\")\n",
        "      continue\n",
        "\n",
        "    try:\n",
        "      num1 = float(input(\"Enter the first number: \"))\n",
        "      num2 = float(input(\"Enter the second number: \"))\n",
        "    except ValueError:\n",
        "      print(\"Invalid input. Please enter numbers only.\")\n",
        "      continue\n",
        "\n",
        "    if operation == '+':\n",
        "      result = num1 + num2\n",
        "    elif operation == '-':\n",
        "      result = num1 - num2\n",
        "    elif operation == '*':\n",
        "      result = num1 * num2\n",
        "    elif operation == '/':\n",
        "      if num2 != 0:\n",
        "        result = num1 / num2\n",
        "      else:\n",
        "        result = \"Error: Division by zero.\"\n",
        "        print(result)\n",
        "        continue\n",
        "    elif operation == '%':\n",
        "      result = num1 % num2\n",
        "    elif operation == '//':\n",
        "      if num2 != 0:\n",
        "        result = num1 // num2\n",
        "      else:\n",
        "        result = \"Error: Division by zero.\"\n",
        "        print(result)\n",
        "        continue\n",
        "    elif operation == '**':\n",
        "      result = num1 ** num2\n",
        "\n",
        "    print(\"Result:\", result)\n",
        "\n",
        "calculator()\n"
      ]
    },
    {
      "cell_type": "code",
      "execution_count": null,
      "metadata": {
        "colab": {
          "base_uri": "https://localhost:8080/"
        },
        "id": "sJNd7U_TTFmR",
        "outputId": "9949d3ab-480c-44f0-9674-53c20664f942"
      },
      "outputs": [
        {
          "name": "stdout",
          "output_type": "stream",
          "text": [
            "Enter the marks: 59\n",
            "The grade for 59.0 marks is: D\n"
          ]
        }
      ],
      "source": [
        "# prompt: generate a grading system for school which takes marks as an  input show grade according to the marks\n",
        "\n",
        "def grading_system(marks):\n",
        "  \"\"\"\n",
        "  This function takes marks as input and returns the corresponding grade.\n",
        "\n",
        "  Args:\n",
        "    marks: The marks obtained by the student.\n",
        "\n",
        "  Returns:\n",
        "    The grade corresponding to the marks.\n",
        "  \"\"\"\n",
        "  if marks >= 90:\n",
        "    grade = \"A+\"\n",
        "  elif marks >= 80:\n",
        "    grade = \"A\"\n",
        "  elif marks >= 70:\n",
        "    grade = \"B\"\n",
        "  elif marks >= 60:\n",
        "    grade = \"C\"\n",
        "  elif marks >= 50:\n",
        "    grade = \"D\"\n",
        "  else:\n",
        "    grade = \"F\"\n",
        "  return grade\n",
        "\n",
        "# Get marks as input from the user\n",
        "while True:\n",
        "  try:\n",
        "    marks = float(input(\"Enter the marks: \"))\n",
        "    if 0 <= marks <= 100:\n",
        "      break\n",
        "    else:\n",
        "      print(\"Marks must be between 0 and 100.\")\n",
        "  except ValueError:\n",
        "    print(\"Invalid input. Please enter a number.\")\n",
        "\n",
        "# Determine the grade\n",
        "grade = grading_system(marks)\n",
        "\n",
        "# Print the grade\n",
        "print(f\"The grade for {marks} marks is: {grade}\")\n"
      ]
    },
    {
      "cell_type": "markdown",
      "metadata": {
        "id": "qt5olnWF_T1v"
      },
      "source": [
        "## **Python `match-case` Statement**\n",
        "\n",
        "Python introduced the `match-case` statement in **Python 3.10** as a way to implement **structural pattern matching**, which provides a cleaner and more readable alternative to traditional `if-elif-else` chains.\n",
        "\n",
        "---\n",
        "\n",
        "## **1. Basic Syntax**\n",
        "The `match-case` statement works by comparing an expression against multiple patterns. The syntax is:"
      ]
    },
    {
      "cell_type": "code",
      "execution_count": null,
      "metadata": {
        "colab": {
          "base_uri": "https://localhost:8080/"
        },
        "id": "sQa075B-_LTp",
        "outputId": "c78a039c-2169-4e72-fada-bdcd2b648ad2"
      },
      "outputs": [
        {
          "name": "stdout",
          "output_type": "stream",
          "text": [
            "OK\n",
            "Not Found\n",
            "Unknown Status\n"
          ]
        }
      ],
      "source": [
        "def check_status(code):\n",
        "    match code:\n",
        "        case 200:\n",
        "            print(\"OK\")\n",
        "        case 400:\n",
        "            print(\"Bad Request\")\n",
        "        case 404:\n",
        "            print(\"Not Found\")\n",
        "        case _:\n",
        "            print(\"Unknown Status\")\n",
        "\n",
        "check_status(200)  # Output: OK\n",
        "check_status(404)  # Output: Not Found\n",
        "check_status(500)  # Output: Unknown Status"
      ]
    },
    {
      "cell_type": "markdown",
      "metadata": {
        "id": "VS6hMVcq_nNY"
      },
      "source": [
        "[See appendix for more detail on match-case](https://github.com/panaversity/learn-modern-ai-python/blob/main/00_python_colab/Appendix/The%20%60match-case%60%20Statement.md)"
      ]
    },
    {
      "cell_type": "markdown",
      "metadata": {
        "id": "owZCVAzMYXuk"
      },
      "source": [
        "# **Tutorial: Loops and Iteration in Python**\n",
        "\n",
        "## **1. Introduction to Loops**\n",
        "\n",
        "Loops are used to repeat a block of code multiple times. Python supports two types of loops:\n",
        "\n",
        "* for loops: Used to iterate over a sequence (e.g., lists, strings, or ranges).\n",
        "* while loops: Used to repeat a block of code as long as a condition is True.\n",
        "\n",
        "When to use scenario:\n",
        "\n",
        "  **A. For Loop:**\n",
        "\n",
        "  - **`Grading a class of students`**: You have a `list of 30 students` and you want to calculate the average score for each student. You use a `for` loop to iterate over the list of students and calculate the average score for each one.\n",
        "\n",
        "  - Washing Machine(number spins), Microwave Oven e.t.c.\n",
        "\n",
        "**B. While Loop:**\n",
        "\n",
        "  - **`Filling up a gas tank`**: You want to fill up your gas tank `until it's full.` You don't know how many times you'll need to fill up the tank, but you'll keep filling it up until it's full. You use a `while` loop to fill up the tank until it's full.\n",
        "\n",
        "  - Air Conditioner, Refigrator, Heater, Washing Machine(filling water) e.t.c."
      ]
    },
    {
      "cell_type": "markdown",
      "metadata": {
        "id": "YpIiRimQZNTz"
      },
      "source": [
        "## **2. The for Loop**\n",
        "\n",
        "The for loop iterates over a sequence (like a list, string, or range) and executes a block of code for each item `for a specified or fixed number of times`.\n",
        "\n",
        "Example Code:"
      ]
    },
    {
      "cell_type": "code",
      "execution_count": null,
      "metadata": {
        "colab": {
          "base_uri": "https://localhost:8080/"
        },
        "id": "EijmL3ZQZbGE",
        "outputId": "cf3e98bc-6297-48f6-a25c-5e00542e0365"
      },
      "outputs": [
        {
          "name": "stdout",
          "output_type": "stream",
          "text": [
            "apple\n",
            "banana\n",
            "cherry\n"
          ]
        }
      ],
      "source": [
        "# Iterate over a list\n",
        "fruits: list = [\"apple\", \"banana\", \"cherry\"]\n",
        "for fruit in fruits:\n",
        "    print(fruit)\n",
        "\n",
        "# Note: Membership Operators in Python in, not in"
      ]
    },
    {
      "cell_type": "code",
      "execution_count": null,
      "metadata": {
        "colab": {
          "base_uri": "https://localhost:8080/"
        },
        "id": "o7irFcDpcUJ6",
        "outputId": "344aa3be-4fae-431a-884c-6d8ee7e25f4c"
      },
      "outputs": [
        {
          "name": "stdout",
          "output_type": "stream",
          "text": [
            "P\n",
            "y\n",
            "t\n",
            "h\n",
            "o\n",
            "n\n"
          ]
        }
      ],
      "source": [
        "# Iterate over a string\n",
        "word: str = \"Python\"\n",
        "for letter in word:\n",
        "    print(letter)"
      ]
    },
    {
      "cell_type": "markdown",
      "metadata": {
        "id": "ojHRbf4XX0ty"
      },
      "source": [
        "## **for Loop with else in Python**\n",
        "\n",
        "In Python, a for loop can have an else block. The else block runs only if the loop completes without a break statement.\n",
        "\n",
        "*(Contributor: Daniel Hashmi from Karachi)*"
      ]
    },
    {
      "cell_type": "markdown",
      "metadata": {
        "id": "0g6CuSppX75P"
      },
      "source": [
        "## **Example 1: for loop with else (No break)**"
      ]
    },
    {
      "cell_type": "code",
      "execution_count": null,
      "metadata": {
        "colab": {
          "base_uri": "https://localhost:8080/"
        },
        "id": "S70vV677X-nf",
        "outputId": "fca2f3aa-5bb5-45f3-c651-c4aef7497856"
      },
      "outputs": [
        {
          "name": "stdout",
          "output_type": "stream",
          "text": [
            "1\n",
            "2\n",
            "3\n",
            "4\n",
            "5\n",
            "Loop completed successfully!\n"
          ]
        }
      ],
      "source": [
        "numbers = [1, 2, 3, 4, 5]\n",
        "\n",
        "for num in numbers:\n",
        "    print(num)\n",
        "else:\n",
        "    print(\"Loop completed successfully!\")"
      ]
    },
    {
      "cell_type": "markdown",
      "metadata": {
        "id": "fwOAXMHlYK8_"
      },
      "source": [
        "## **Example 2: for loop with break (Skipping else)**"
      ]
    },
    {
      "cell_type": "code",
      "execution_count": null,
      "metadata": {
        "colab": {
          "base_uri": "https://localhost:8080/"
        },
        "id": "7_-6MufBYNKH",
        "outputId": "ac9c6c73-9a84-43d2-ff12-4524c28bc4cb"
      },
      "outputs": [
        {
          "name": "stdout",
          "output_type": "stream",
          "text": [
            "1\n",
            "2\n",
            "3\n",
            "Breaking the loop!\n"
          ]
        }
      ],
      "source": [
        "numbers = [1, 2, 3, 4, 5]\n",
        "\n",
        "for num in numbers:\n",
        "    print(num)\n",
        "    if num == 3:\n",
        "        print(\"Breaking the loop!\")\n",
        "        break\n",
        "else:\n",
        "    print(\"Loop completed successfully!\")  # This will NOT run"
      ]
    },
    {
      "cell_type": "markdown",
      "metadata": {
        "id": "-HvAZx3zYTNR"
      },
      "source": [
        "## **Example 3: Searching with else**"
      ]
    },
    {
      "cell_type": "code",
      "execution_count": 2,
      "metadata": {
        "colab": {
          "base_uri": "https://localhost:8080/"
        },
        "id": "S71XjOgBYVHh",
        "outputId": "3c2a6507-d54e-4982-823c-39474decae4c"
      },
      "outputs": [
        {
          "name": "stdout",
          "output_type": "stream",
          "text": [
            "Number not found!\n"
          ]
        }
      ],
      "source": [
        "numbers = [1, 2, 3, 4, 5]\n",
        "\n",
        "for num in numbers:\n",
        "    if num == 6:\n",
        "        print(\"Number found!\")\n",
        "        break\n",
        "else:\n",
        "    print(\"Number not found!\")  # Runs because 6 is not in the list"
      ]
    },
    {
      "cell_type": "markdown",
      "metadata": {
        "id": "PrlehLuCazVL"
      },
      "source": [
        "<font color=\"Green\" size=3> In Lesson 01 we learned about range() </font>"
      ]
    },
    {
      "cell_type": "code",
      "execution_count": null,
      "metadata": {
        "colab": {
          "base_uri": "https://localhost:8080/"
        },
        "id": "5Tm1WArNafKD",
        "outputId": "38418418-6f0f-4236-a6b0-33b9b7fcdc24"
      },
      "outputs": [
        {
          "name": "stdout",
          "output_type": "stream",
          "text": [
            "0\n",
            "1\n",
            "2\n",
            "3\n",
            "4\n"
          ]
        }
      ],
      "source": [
        "# Print numbers from 0 to 4\n",
        "for i in range(5):\n",
        "    print(i)"
      ]
    },
    {
      "cell_type": "code",
      "execution_count": null,
      "metadata": {
        "colab": {
          "base_uri": "https://localhost:8080/"
        },
        "id": "F50qApdlcaa5",
        "outputId": "3c1391b8-0fd2-4efa-bbc1-0be35ff7b88a"
      },
      "outputs": [
        {
          "name": "stdout",
          "output_type": "stream",
          "text": [
            "2\n",
            "4\n",
            "6\n",
            "8\n",
            "10\n"
          ]
        }
      ],
      "source": [
        "# Print even numbers from 2 to 10\n",
        "for i in range(2, 11, 2):\n",
        "    print(i)"
      ]
    },
    {
      "cell_type": "markdown",
      "metadata": {
        "id": "e8oUU81zRdth"
      },
      "source": [
        "`_` (*underscore*) This is a **`throwaway variable`**, which is a common Python convention for a variable that you **`don't plan to use`**. In this case, the loop variable is not used within the loop, so it's assigned to `_`.\n",
        "\n",
        "If you want to use the loop variable, you can replace `_` with a more meaningful variable name. For example:\n",
        "\n",
        "Bilkul! Yahaan pe jo baat ho rahi hai, wo Python programming ki aik chhoti si baat hai. Asan alfaaz mein samjhta hoon:\n",
        "\n",
        "---\n",
        "\n",
        "### 🔹 `_` yaani **underscore** ka matlab:\n",
        "\n",
        "Jab hum Python mein loop chalaate hain aur humein us loop ke number ya variable ki zarurat nahi hoti, to hum uska naam kuch bhi rakhne ke bajaye sirf **underscore `_`** likhtay hain.\n",
        "\n",
        "Yeh Python programmers ka ek **signal hota hai** ke:\n",
        "\n",
        "> \"Yeh variable zaruri nahi, isay ignore karo.\"\n",
        "\n",
        "---\n",
        "\n",
        "### 🔸 Misal (example):\n",
        "\n",
        "```python\n",
        "for _ in range(5):\n",
        "    print(\"Hello\")\n",
        "```\n",
        "\n",
        "Iska matlab hai:\n",
        "\n",
        "> \"Yeh loop 5 martaba chalega, lekin mujhe har baar ka number (0, 1, 2...) chahiye nahi — sirf kaam repeat karwana hai.\"\n",
        "\n",
        "---\n",
        "\n",
        "### 🔸 Agar aapko number chahiye ho:\n",
        "\n",
        "Agar aap chahte ho ke loop ke har round ka number mile, to `_` ke bajaye koi meaningful naam do, jaise:\n",
        "\n",
        "```python\n",
        "for i in range(5):\n",
        "    print(\"Number:\", i)\n",
        "```\n",
        "\n",
        "Yeh karega:\n",
        "\n",
        "```\n",
        "Number: 0  \n",
        "Number: 1  \n",
        "Number: 2  \n",
        "Number: 3  \n",
        "Number: 4\n",
        "```\n",
        "\n",
        "---\n",
        "\n",
        "Aasan alfaazon mein baat yeh hai:\n",
        "> Jab koi cheez kaam ki nahi hoti, to usay `_` se ignore kar dete hain Python mein.\n",
        "\n"
      ]
    },
    {
      "cell_type": "code",
      "execution_count": null,
      "metadata": {
        "colab": {
          "base_uri": "https://localhost:8080/"
        },
        "id": "IN8mIoFoRhAR",
        "outputId": "a793ec0c-da8b-43cb-8bb3-5a8695488e5b"
      },
      "outputs": [
        {
          "name": "stdout",
          "output_type": "stream",
          "text": [
            "Hello, World! Iteration 0\n",
            "Hello, World! Iteration 1\n",
            "Hello, World! Iteration 2\n",
            "Hello, World! Iteration 3\n",
            "Hello, World! Iteration 4\n",
            "Hello, World! Iteration 5\n",
            "Hello, World! Iteration 6\n",
            "Hello, World! Iteration 7\n",
            "Hello, World! Iteration 8\n",
            "Hello, World! Iteration 9\n"
          ]
        }
      ],
      "source": [
        "for _ in range(10): # Just to show that _ is a loop variable, but its throwaway variable\n",
        "    # Code to be executed 100,000 times\n",
        "    print(f\"Hello, World! Iteration { _ }\")"
      ]
    },
    {
      "cell_type": "markdown",
      "metadata": {
        "id": "qUifWJgZbgNa"
      },
      "source": [
        "## **3. The while Loop**\n",
        "\n",
        "The while loop repeats a block of code `as long as a condition is True.`\n",
        "\n",
        "<br>\n",
        "\n",
        "Example Code:"
      ]
    },
    {
      "cell_type": "code",
      "execution_count": null,
      "metadata": {
        "colab": {
          "base_uri": "https://localhost:8080/"
        },
        "id": "nittGh5gbrx6",
        "outputId": "92435731-a983-484f-ec28-a17ca315168f"
      },
      "outputs": [
        {
          "name": "stdout",
          "output_type": "stream",
          "text": [
            "1\n",
            "2\n",
            "3\n",
            "4\n",
            "5\n"
          ]
        }
      ],
      "source": [
        "# Print numbers from 1 to 5\n",
        "count: int = 1\n",
        "while count <= 5:\n",
        "    print(count)\n",
        "    count += 1"
      ]
    },
    {
      "cell_type": "markdown",
      "metadata": {
        "id": "yHMeShp0b87i"
      },
      "source": [
        "## **4. Controlling Loops**\n",
        "\n",
        "Python provides two keywords (`break` & `continue`) to control loops:\n",
        "\n",
        "* **break**: `Exits` the loop immediately.\n",
        "* **continue**: `Skips` the rest of the code in the current iteration and moves to the next iteration.\n",
        "\n",
        "<br>\n",
        "\n",
        "\n",
        "\n",
        "\n",
        "---\n",
        "\n",
        "## **4. Controlling Loops (Loops ko control karna)**\n",
        "\n",
        "Python humein do special keywords deta hai loops ko control karne ke liye:\n",
        "\n",
        "---\n",
        "\n",
        "### 🔹 **`break`** — **Loop se turant bahar nikal jaata hai**\n",
        "\n",
        "Agar kisi condition pe humein loop ko beech mein hi rok dena ho, to hum `break` ka use karte hain.\n",
        "\n",
        "#### 🧪 Misal:\n",
        "```python\n",
        "for i in range(10):\n",
        "    if i == 5:\n",
        "        break\n",
        "    print(i)\n",
        "```\n",
        "\n",
        "👆 Is code ka matlab:\n",
        "> Jab `i` 5 ho jaaye, to loop band ho jaaye. Us se pehle jitne numbers hain woh print ho jaayen.\n",
        "\n",
        "📤 Output:\n",
        "```\n",
        "0  \n",
        "1  \n",
        "2  \n",
        "3  \n",
        "4\n",
        "```\n",
        "\n",
        "---\n",
        "\n",
        "### 🔹 **`continue`** — **Is baar ka kaam skip karo, next pe jao**\n",
        "\n",
        "Agar humein kisi specific condition pe loop ka current round skip karna ho (baaki loop chalta rahe), to hum `continue` likhtay hain.\n",
        "\n",
        "#### 🧪 Misal:\n",
        "```python\n",
        "for i in range(5):\n",
        "    if i == 2:\n",
        "        continue\n",
        "    print(i)\n",
        "```\n",
        "\n",
        "👆 Is code ka matlab:\n",
        "> Jab `i` 2 ho, to kuch mat karo — us round ko skip karo. Baaki sab print karo.\n",
        "\n",
        "📤 Output:\n",
        "```\n",
        "0  \n",
        "1  \n",
        "3  \n",
        "4\n",
        "```\n",
        "\n",
        "(2 skip ho gaya)\n",
        "\n",
        "---\n",
        "\n",
        "### 💡 Summary (Yaani khulasa):\n",
        "\n",
        "| Keyword    | Kya karta hai?                                |\n",
        "|------------|-----------------------------------------------|\n",
        "| `break`    | Loop ko turant band kar deta hai              |\n",
        "| `continue` | Sirf us waqt ka round skip karta hai, next round pe chala jaata hai |\n",
        "\n",
        "---\n",
        "\n"
      ]
    },
    {
      "cell_type": "code",
      "execution_count": null,
      "metadata": {
        "colab": {
          "base_uri": "https://localhost:8080/"
        },
        "id": "BMXsZH8ocGLz",
        "outputId": "3aeb43ae-efb2-410e-dbee-70dc35977c36"
      },
      "outputs": [
        {
          "name": "stdout",
          "output_type": "stream",
          "text": [
            "0\n",
            "1\n",
            "2\n",
            "3\n",
            "4\n"
          ]
        }
      ],
      "source": [
        "# Break example\n",
        "for i in range(10):\n",
        "    if i == 5:\n",
        "        break\n",
        "    print(i)  # Prints 0, 1, 2, 3, 4"
      ]
    },
    {
      "cell_type": "code",
      "execution_count": null,
      "metadata": {
        "colab": {
          "base_uri": "https://localhost:8080/"
        },
        "id": "sNCH9A7jcfnB",
        "outputId": "2f819679-123f-41f2-d75a-a5ca2cb375f7"
      },
      "outputs": [
        {
          "name": "stdout",
          "output_type": "stream",
          "text": [
            "0\n",
            "1\n",
            "2\n",
            "4\n"
          ]
        }
      ],
      "source": [
        "# Continue example\n",
        "for i in range(5):\n",
        "    if i == 3:\n",
        "        continue\n",
        "    print(i)  # Prints 0, 1, 2, 4"
      ]
    },
    {
      "cell_type": "markdown",
      "metadata": {
        "id": "jzqau7uVeu2v"
      },
      "source": [
        "## **5. Nested Loops**\n",
        "\n",
        "### **What are nested loops?**\n",
        "\n",
        "Nested loops, also known as inner loops or nested iterations, refer to the process of placing one loop inside another loop. The inner loop will iterate through its entire cycle for each iteration of the outer loop.\n",
        "\n",
        "<br>\n",
        "\n",
        "\n",
        "### **Example Code:**"
      ]
    },
    {
      "cell_type": "code",
      "execution_count": 5,
      "metadata": {
        "colab": {
          "base_uri": "https://localhost:8080/"
        },
        "id": "RRVuaE8Ye1dv",
        "outputId": "d4966dee-e7cf-4431-b4f7-5c11f070d7b4"
      },
      "outputs": [
        {
          "name": "stdout",
          "output_type": "stream",
          "text": [
            "Multiplication table for 1:\n",
            "1 * 1 = 1\n",
            "1 * 2 = 2\n",
            "1 * 3 = 3\n",
            "1 * 4 = 4\n",
            "1 * 5 = 5\n",
            "\n",
            "Multiplication table for 2:\n",
            "2 * 1 = 2\n",
            "2 * 2 = 4\n",
            "2 * 3 = 6\n",
            "2 * 4 = 8\n",
            "2 * 5 = 10\n",
            "\n",
            "Multiplication table for 3:\n",
            "3 * 1 = 3\n",
            "3 * 2 = 6\n",
            "3 * 3 = 9\n",
            "3 * 4 = 12\n",
            "3 * 5 = 15\n",
            "\n"
          ]
        }
      ],
      "source": [
        "# Multiplication table\n",
        "for outer in range(1, 3+1): # outer loop\n",
        "    print(f\"Multiplication table for {outer}:\")\n",
        "    for inner in range(1, 6): # nested inner loop\n",
        "        print(f\"{outer} * {inner} = {outer * inner}\")\n",
        "    print()  # Add a blank line after each row"
      ]
    },
    {
      "cell_type": "markdown",
      "metadata": {
        "id": "UUnJw84gxJof"
      },
      "source": [
        "\n",
        "---\n",
        "\n",
        "## 🔄 **Nested Loops ka Use (Istemaal kahan hota hai)**\n",
        "\n",
        "**Nested loop** ka matlab hota hai:\n",
        "> \"Ek loop ke andar doosra loop.\"\n",
        "\n",
        "Yeh tab kaam aata hai jab humein **multi-level ya complex data** pe kaam karna ho.\n",
        "\n",
        "---\n",
        "\n",
        "### ✅ **Use Cases (Kahan use hota hai?)**\n",
        "\n",
        "1. ### 🧮 **Matrix operations**  \n",
        "   Jab hum kisi **2D array ya matrix** ke har element pe kaam karna chahtay hain (jaise Excel ka table), to humein do loops chahiye:  \n",
        "   Ek rows ke liye, aur ek columns ke liye.\n",
        "\n",
        "   ```python\n",
        "   matrix = [[1, 2], [3, 4]]\n",
        "   for row in matrix:\n",
        "       for item in row:\n",
        "           print(item)\n",
        "   ```\n",
        "   ➤ Output: `1 2 3 4`\n",
        "\n",
        "---\n",
        "\n",
        "2. ### 📃 **Multiple lists pe kaam karna**  \n",
        "   Agar aap do lists hain aur aap un dono ke har element ko combine kar ke kaam karna chahte ho:\n",
        "\n",
        "   ```python\n",
        "   fruits = [\"apple\", \"banana\"]\n",
        "   colors = [\"red\", \"yellow\"]\n",
        "\n",
        "   for fruit in fruits:\n",
        "       for color in colors:\n",
        "           print(fruit, color)\n",
        "   ```\n",
        "\n",
        "   ➤ Output:\n",
        "   ```\n",
        "   apple red  \n",
        "   apple yellow  \n",
        "   banana red  \n",
        "   banana yellow\n",
        "   ```\n",
        "\n",
        "---\n",
        "\n",
        "3. ### 🎮 **Games & simulations**  \n",
        "   Game board ya grid banani ho (jaise tic-tac-toe), to nested loop se har cell pe kaam kar sakte ho.\n",
        "\n",
        "---\n",
        "\n",
        "4. ### 📊 **Data processing**  \n",
        "   Jab bohat saara data ho (like rows aur columns), aur har data item pe operation karna ho, to nested loop se yeh possible hota hai.\n",
        "\n",
        "---\n",
        "\n",
        "## ✅ **Best Practices (Behtareen tareeqay)**\n",
        "\n",
        "1. ### 🚫 **Zyada nesting na karo**  \n",
        "   Koshish karo ke loops 2 ya 3 level tak hi hoon.  \n",
        "   Agar 4-5 level ho gaye to code mushkil aur slow ho jaata hai.\n",
        "\n",
        "2. ### 📝 **Achi variable names use karo**  \n",
        "   Jaise:\n",
        "   ```python\n",
        "   for row in matrix:\n",
        "       for col in row:\n",
        "           print(col)\n",
        "   ```\n",
        "   ➤ Yeh zyada samajhne layak hota hai as compare to:\n",
        "   ```python\n",
        "   for i in matrix:\n",
        "       for j in i:\n",
        "           print(j)\n",
        "   ```\n",
        "\n",
        "3. ### ⚙️ **Loop condition ko optimize karo**  \n",
        "   Har loop ko sirf utna hi chalao jitna zaroori ho. Agar unnecessary iterations ho rahe hain to performance slow ho jaayegi.\n",
        "\n",
        "---\n",
        "\n",
        "### 🧠 **Yaani khulasa**:\n",
        "\n",
        "> Nested loops bohat powerful hotay hain jab humein data ke har kone tak pohanchna ho — lekin samajhdari se use karo, warna code slow ya mushkil ho sakta hai.\n",
        "\n"
      ]
    },
    {
      "cell_type": "markdown",
      "metadata": {
        "id": "A9-H8UiDfX0_"
      },
      "source": [
        "## **6. Practical Examples**\n",
        "\n",
        "Here are two practical examples to solidify these concepts.\n",
        "\n",
        "<br>\n",
        "\n",
        "**Example 1**: Sum of Numbers"
      ]
    },
    {
      "cell_type": "code",
      "execution_count": null,
      "metadata": {
        "colab": {
          "base_uri": "https://localhost:8080/"
        },
        "id": "WoCMtfLefeo-",
        "outputId": "4625ce81-08cd-431c-fcc7-7f19c490c1eb"
      },
      "outputs": [
        {
          "name": "stdout",
          "output_type": "stream",
          "text": [
            "Sum of numbers from 1 to 100: 5050\n"
          ]
        }
      ],
      "source": [
        "# Sum numbers from 1 to 100\n",
        "total: int = 0\n",
        "for i in range(1, 101):\n",
        "    total += i\n",
        "print(\"Sum of numbers from 1 to 100:\", total)"
      ]
    },
    {
      "cell_type": "markdown",
      "metadata": {
        "id": "drUiYA7jfjWW"
      },
      "source": [
        "**Example 2**: Finding Factors of a Number"
      ]
    },
    {
      "cell_type": "code",
      "execution_count": null,
      "metadata": {
        "colab": {
          "base_uri": "https://localhost:8080/"
        },
        "id": "RsuhaHi_fk0X",
        "outputId": "b93fced1-44f9-4f58-936b-1e136b227229"
      },
      "outputs": [
        {
          "name": "stdout",
          "output_type": "stream",
          "text": [
            "Factors of 24: [1, 2, 3, 4, 6, 8, 12, 24]\n"
          ]
        }
      ],
      "source": [
        "# Find factors of a number\n",
        "num: int = 24\n",
        "factors = []\n",
        "for i in range(1, num + 1):\n",
        "    if num % i == 0:\n",
        "        factors.append(i)\n",
        "print(f\"Factors of {num}: {factors}\")"
      ]
    },
    {
      "cell_type": "markdown",
      "metadata": {},
      "source": [
        "\n",
        "\n",
        "---\n",
        "\n",
        "### **Control Flow Basics**\n",
        "1. What is the purpose of control flow in Python?\n",
        "   a) To manage memory allocation  \n",
        "   b) To determine the order in which code executes  \n",
        "   c) To optimize mathematical operations  \n",
        "   d) To handle file I/O operations  \n",
        "   **Answer:** b) To determine the order in which code executes  \n",
        "   **Explanation:** Control flow structures like `if`, `elif`, and `else` dictate how code executes based on conditions.\n",
        "\n",
        "2. Which keyword is used to handle all cases not covered by `if` and `elif`?\n",
        "   a) `otherwise`  \n",
        "   b) `default`  \n",
        "   c) `else`  \n",
        "   d) `case`  \n",
        "   **Answer:** c) `else`  \n",
        "   **Explanation:** The `else` clause executes when no previous conditions are met.\n",
        "\n",
        "---\n",
        "\n",
        "### **Comparison Operators**\n",
        "3. What does `10 != 10` evaluate to?\n",
        "   a) `True`  \n",
        "   b) `False`  \n",
        "   c) `Error`  \n",
        "   d) `None`  \n",
        "   **Answer:** b) `False`  \n",
        "   **Explanation:** `!=` checks for inequality; 10 equals 10.\n",
        "\n",
        "4. Which operator checks if a value is less than or equal to another?\n",
        "   a) `=<`  \n",
        "   b) `<=`  \n",
        "   c) `!>`  \n",
        "   d) `><`  \n",
        "   **Answer:** b) `<=`  \n",
        "   **Explanation:** `<=` is the correct \"less than or equal to\" operator.\n",
        "\n",
        "---\n",
        "\n",
        "### **Logical Operators**\n",
        "5. What is the output of `True and False or True`?\n",
        "   a) `True`  \n",
        "   b) `False`  \n",
        "   c) `Error`  \n",
        "   d) `None`  \n",
        "   **Answer:** a) `True`  \n",
        "   **Explanation:** `and` has higher precedence than `or`: `(True and False) or True` → `False or True` → `True`.\n",
        "\n",
        "6. Which expression evaluates to `False`?\n",
        "   a) `not (True and False)`  \n",
        "   b) `True or False and False`  \n",
        "   c) `not False and not True`  \n",
        "   d) `True and not True`  \n",
        "   **Answer:** d) `True and not True`  \n",
        "   **Explanation:** `not True` is `False`, so `True and False` is `False`.\n",
        "\n",
        "---\n",
        "\n",
        "### **Conditional Statements**\n",
        "7. What does this code print?  \n",
        "   ```python\n",
        "   x = 5\n",
        "   if x > 3:\n",
        "       print(\"A\")\n",
        "   elif x > 4:\n",
        "       print(\"B\")\n",
        "   else:\n",
        "       print(\"C\")\n",
        "   ```\n",
        "   a) `A`  \n",
        "   b) `B`  \n",
        "   c) `C`  \n",
        "   d) `A` and `B`  \n",
        "   **Answer:** a) `A`  \n",
        "   **Explanation:** The first condition (`x > 3`) is met, so `elif` is skipped.\n",
        "\n",
        "8. How many `elif` clauses can an `if` statement have?\n",
        "   a) 0  \n",
        "   b) 1  \n",
        "   c) Unlimited  \n",
        "   d) 255  \n",
        "   **Answer:** c) Unlimited  \n",
        "   **Explanation:** Python allows any number of `elif` clauses.\n",
        "\n",
        "---\n",
        "\n",
        "### **Nested Conditionals**\n",
        "9. What is printed?  \n",
        "   ```python\n",
        "   num = 10\n",
        "   if num > 5:\n",
        "       if num % 2 == 0:\n",
        "           print(\"Even\")\n",
        "       else:\n",
        "           print(\"Odd\")\n",
        "   else:\n",
        "       print(\"Small\")\n",
        "   ```\n",
        "   a) `Even`  \n",
        "   b) `Odd`  \n",
        "   c) `Small`  \n",
        "   d) `Error`  \n",
        "   **Answer:** a) `Even`  \n",
        "   **Explanation:** `num` is both greater than 5 and even.\n",
        "\n",
        "10. Which is equivalent to nested `if`?  \n",
        "    ```python\n",
        "    if x > 0:\n",
        "        if y > 0:\n",
        "            print(\"Both positive\")\n",
        "    ```\n",
        "    a) `if x > 0 and y > 0: print(\"Both positive\")`  \n",
        "    b) `if x > 0 or y > 0: print(\"Both positive\")`  \n",
        "    c) `if x + y > 0: print(\"Both positive\")`  \n",
        "    d) `if x * y > 0: print(\"Both positive\")`  \n",
        "    **Answer:** a) `if x > 0 and y > 0: print(\"Both positive\")`  \n",
        "    **Explanation:** Logical `and` combines both conditions.\n",
        "\n",
        "---\n",
        "\n",
        "### **Loops**\n",
        "11. What does this loop print?  \n",
        "    ```python\n",
        "    for i in range(3):\n",
        "        print(i, end=\" \")\n",
        "    ```\n",
        "    a) `0 1 2`  \n",
        "    b) `1 2 3`  \n",
        "    c) `0 1 2 3`  \n",
        "    d) `1 2`  \n",
        "    **Answer:** a) `0 1 2`  \n",
        "    **Explanation:** `range(3)` generates numbers from 0 to 2.\n",
        "\n",
        "12. How many times does this loop run?  \n",
        "    ```python\n",
        "    for _ in range(5, 1, -1):\n",
        "        print(\"Hello\")\n",
        "    ```\n",
        "    a) 0  \n",
        "    b) 4  \n",
        "    c) 5  \n",
        "    d) Infinite  \n",
        "    **Answer:** b) 4  \n",
        "    **Explanation:** It runs for 5, 4, 3, 2 (step -1).\n",
        "\n",
        "---\n",
        "\n",
        "### **Loop Control**\n",
        "13. What does `break` do in a loop?\n",
        "    a) Skips the current iteration  \n",
        "    b) Exits the loop entirely  \n",
        "    c) Restarts the loop  \n",
        "    d) Pauses execution  \n",
        "    **Answer:** b) Exits the loop entirely  \n",
        "    **Explanation:** `break` terminates the loop immediately.\n",
        "\n",
        "14. What is the output?  \n",
        "    ```python\n",
        "    for i in range(5):\n",
        "        if i == 3:\n",
        "            continue\n",
        "        print(i, end=\" \")\n",
        "    ```\n",
        "    a) `0 1 2 3 4`  \n",
        "    b) `0 1 2 4`  \n",
        "    c) `1 2 3 4`  \n",
        "    d) `0 1 2`  \n",
        "    **Answer:** b) `0 1 2 4`  \n",
        "    **Explanation:** `continue` skips printing `3`.\n",
        "\n",
        "---\n",
        "\n",
        "### **Nested Loops**\n",
        "15. How many times is `print()` called here?  \n",
        "    ```python\n",
        "    for i in range(2):\n",
        "        for j in range(3):\n",
        "            print(i, j)\n",
        "    ```\n",
        "    a) 2  \n",
        "    b) 3  \n",
        "    c) 5  \n",
        "    d) 6  \n",
        "    **Answer:** d) 6  \n",
        "    **Explanation:** Outer loop runs 2 times, inner loop 3 times each (2 × 3 = 6).\n",
        "\n",
        "16. What does this print?  \n",
        "    ```python\n",
        "    for i in range(1, 3):\n",
        "        for j in range(1, i+1):\n",
        "            print(j, end=\" \")\n",
        "        print()\n",
        "    ```\n",
        "    a) `1 1 2`  \n",
        "    b) `1 1 2 3`  \n",
        "    c) `1\\n1 2`  \n",
        "    d) `1\\n2`  \n",
        "    **Answer:** c) `1\\n1 2`  \n",
        "    **Explanation:** First iteration prints `1`, second prints `1 2`.\n",
        "\n",
        "---\n",
        "\n",
        "### **Match-Case**\n",
        "17. Which Python version introduced `match-case`?\n",
        "    a) 3.6  \n",
        "    b) 3.8  \n",
        "    c) 3.10  \n",
        "    d) 3.12  \n",
        "    **Answer:** c) 3.10  \n",
        "    **Explanation:** Structural pattern matching was added in Python 3.10.\n",
        "\n",
        "18. What is the output?  \n",
        "    ```python\n",
        "    code = 404\n",
        "    match code:\n",
        "        case 200: print(\"OK\")\n",
        "        case 404: print(\"Not Found\")\n",
        "        case _: print(\"Unknown\")\n",
        "    ```\n",
        "    a) `OK`  \n",
        "    b) `Not Found`  \n",
        "    c) `Unknown`  \n",
        "    d) `Error`  \n",
        "    **Answer:** b) `Not Found`  \n",
        "    **Explanation:** `code` matches `404`.\n",
        "\n",
        "---\n",
        "\n",
        "### **Practical Examples**\n",
        "19. What does this calculator code do if `operation` is `'%'`?  \n",
        "    ```python\n",
        "    if operation == '%':\n",
        "        result = num1 % num2\n",
        "    ```\n",
        "    a) Division  \n",
        "    b) Modulus (remainder)  \n",
        "    c) Percentage  \n",
        "    d) Exponentiation  \n",
        "    **Answer:** b) Modulus (remainder)  \n",
        "    **Explanation:** `%` calculates the remainder.\n",
        "\n",
        "20. What grade is assigned for `marks = 85` in this system?  \n",
        "    ```python\n",
        "    if marks >= 90: grade = \"A+\"\n",
        "    elif marks >= 80: grade = \"A\"\n",
        "    elif marks >= 70: grade = \"B\"\n",
        "    ```\n",
        "    a) `A+`  \n",
        "    b) `A`  \n",
        "    c) `B`  \n",
        "    d) `None`  \n",
        "    **Answer:** b) `A`  \n",
        "    **Explanation:** `85` meets `marks >= 80`.\n",
        "\n",
        "---\n",
        "\n",
        "### **Tricky Scenarios**\n",
        "21. What is the value of `total` after this loop?  \n",
        "    ```python\n",
        "    total = 0\n",
        "    for i in range(0, 10, 2):\n",
        "        total += i\n",
        "    ```\n",
        "    a) `20`  \n",
        "    b) `25`  \n",
        "    c) `30`  \n",
        "    d) `45`  \n",
        "    **Answer:** a) `20`  \n",
        "    **Explanation:** Sum of even numbers (0+2+4+6+8).\n",
        "\n",
        "22. What does this code print?  \n",
        "    ```python\n",
        "    for i in range(3):\n",
        "        pass\n",
        "    print(i)\n",
        "    ```\n",
        "    a) `0`  \n",
        "    b) `2`  \n",
        "    c) `3`  \n",
        "    d) `Error`  \n",
        "    **Answer:** b) `2`  \n",
        "    **Explanation:** `i` retains its last value (`2`) after the loop.\n",
        "\n",
        "---\n",
        "\n",
        "### **Edge Cases**\n",
        "23. What happens if `num2 = 0` in this division?  \n",
        "    ```python\n",
        "    if operation == '/':\n",
        "        result = num1 / num2\n",
        "    ```\n",
        "    a) Returns `0`  \n",
        "    b) Raises `ZeroDivisionError`  \n",
        "    c) Returns `inf`  \n",
        "    d) Skips the operation  \n",
        "    **Answer:** b) Raises `ZeroDivisionError`  \n",
        "    **Explanation:** Division by zero is undefined.\n",
        "\n",
        "24. What is the output of `bool(-1)`?  \n",
        "    a) `True`  \n",
        "    b) `False`  \n",
        "    c) `Error`  \n",
        "    d) `None`  \n",
        "    **Answer:** a) `True`  \n",
        "    **Explanation:** Non-zero numbers are `True` in Python.\n",
        "\n",
        "---\n",
        "\n",
        "### **Loop Else Clause**\n",
        "25. When does the `else` block in a `for` loop execute?  \n",
        "    a) Always  \n",
        "    b) If the loop completes without `break`  \n",
        "    c) If an error occurs  \n",
        "    d) Never  \n",
        "    **Answer:** b) If the loop completes without `break`  \n",
        "    **Explanation:** Unique to Python, `else` runs after normal loop completion.\n",
        "\n",
        "26. What does this print?  \n",
        "    ```python\n",
        "    for i in range(3):\n",
        "        if i == 1:\n",
        "            break\n",
        "    else:\n",
        "        print(\"Done\")\n",
        "    ```\n",
        "    a) `Done`  \n",
        "    b) `1`  \n",
        "    c) Nothing  \n",
        "    d) `Error`  \n",
        "    **Answer:** c) Nothing  \n",
        "    **Explanation:** `break` skips the `else` block.\n",
        "\n",
        "---\n",
        "\n",
        "### **String Iteration**\n",
        "27. What is printed?  \n",
        "    ```python\n",
        "    for char in \"Python\":\n",
        "        if char == 't':\n",
        "            continue\n",
        "        print(char, end=\"\")\n",
        "    ```\n",
        "    a) `Python`  \n",
        "    b) `Pthon`  \n",
        "    c) `Pyhon`  \n",
        "    d) `Pytho`  \n",
        "    **Answer:** c) `Pyhon`  \n",
        "    **Explanation:** `continue` skips printing `'t'`.\n",
        "\n",
        "28. How many iterations occur here?  \n",
        "    ```python\n",
        "    for _ in \"Hello\":\n",
        "        print(\"Hi\")\n",
        "    ```\n",
        "    a) 0  \n",
        "    b) 4  \n",
        "    c) 5  \n",
        "    d) 6  \n",
        "    **Answer:** c) 5  \n",
        "    **Explanation:** Strings are iterable by characters.\n",
        "\n",
        "---\n",
        "\n",
        "### **Range Function**\n",
        "29. What does `range(5, 0, -1)` generate?  \n",
        "    a) `[0, 1, 2, 3, 4]`  \n",
        "    b) `[5, 4, 3, 2, 1]`  \n",
        "    c) `[5, 4, 3, 2, 1, 0]`  \n",
        "    d) `[1, 2, 3, 4, 5]`  \n",
        "    **Answer:** b) `[5, 4, 3, 2, 1]`  \n",
        "    **Explanation:** Step `-1` counts downward.\n",
        "\n",
        "30. What is missing here?  \n",
        "    ```python\n",
        "    for i in range(10, 2):\n",
        "        print(i)\n",
        "    ```\n",
        "    a) Start value  \n",
        "    b) Stop value  \n",
        "    c) Step value  \n",
        "    d) Nothing  \n",
        "    **Answer:** c) Step value  \n",
        "    **Explanation:** Default step is `+1`, but `10 > 2`, so loop won't run.\n",
        "\n",
        "---\n",
        "\n",
        "### **While Loops**\n",
        "31. What is the output?  \n",
        "    ```python\n",
        "    count = 5\n",
        "    while count > 0:\n",
        "        print(count)\n",
        "        count -= 1\n",
        "    ```\n",
        "    a) `5 4 3 2 1`  \n",
        "    b) `4 3 2 1 0`  \n",
        "    c) Infinite loop  \n",
        "    d) `5`  \n",
        "    **Answer:** a) `5 4 3 2 1`  \n",
        "    **Explanation:** Loop runs while `count > 0`.\n",
        "\n",
        "32. How to fix this infinite loop?  \n",
        "    ```python\n",
        "    while True:\n",
        "        print(\"Hi\")\n",
        "    ```\n",
        "    a) Add `break`  \n",
        "    b) Use `for` loop  \n",
        "    c) Remove `True`  \n",
        "    d) All of the above  \n",
        "    **Answer:** a) Add `break`  \n",
        "    **Explanation:** A condition or `break` is needed to exit.\n",
        "\n",
        "---\n",
        "\n",
        "### **Loop Variables**\n",
        "33. What is the value of `i` after this loop?  \n",
        "    ```python\n",
        "    for i in range(100000):\n",
        "        if i == 3:\n",
        "            break\n",
        "    ```\n",
        "    a) `100000`  \n",
        "    b) `3`  \n",
        "    c) `4`  \n",
        "    d) `Error`  \n",
        "    **Answer:** b) `3`  \n",
        "    **Explanation:** `break` stops the loop at `i = 3`.\n",
        "\n",
        "34. Why use `_` as a loop variable?  \n",
        "    a) To indicate an unused variable  \n",
        "    b) To improve performance  \n",
        "    c) To avoid errors  \n",
        "    d) To create a hidden variable  \n",
        "    **Answer:** a) To indicate an unused variable  \n",
        "    **Explanation:** A convention for throwaway variables.\n",
        "\n",
        "---\n",
        "\n",
        "### **Complex Conditions**\n",
        "35. What does this condition check?  \n",
        "    ```python\n",
        "    if not (x < 5 or y > 10):\n",
        "    ```\n",
        "    a) `x >= 5 and y <= 10`  \n",
        "    b) `x < 5 and y > 10`  \n",
        "    c) `x > 5 or y < 10`  \n",
        "    d) `x <= 5 or y >= 10`  \n",
        "    **Answer:** a) `x >= 5 and y <= 10`  \n",
        "    **Explanation:** De Morgan's laws: `not A or not B` = `not (A and B)`.\n",
        "\n",
        "36. Which condition is equivalent to `if x != y:`?  \n",
        "    a) `if not x == y:`  \n",
        "    b) `if x <> y:`  \n",
        "    c) `if x is not y:`  \n",
        "    d) All of the above  \n",
        "    **Answer:** a) `if not x == y:`  \n",
        "    **Explanation:** `<>` is outdated, and `is not` checks identity, not equality.\n",
        "\n",
        "---\n",
        "\n",
        "### **Error Handling**\n",
        "37. What happens if `num = 'abc'` here?  \n",
        "    ```python\n",
        "    if num > 0:\n",
        "        print(\"Positive\")\n",
        "    ```\n",
        "    a) Prints `Positive`  \n",
        "    b) Raises `TypeError`  \n",
        "    c) Skips silently  \n",
        "    d) Prints `Negative`  \n",
        "    **Answer:** b) Raises `TypeError`  \n",
        "    **Explanation:** Strings and integers cannot be compared.\n",
        "\n",
        "38. How to handle invalid input in a calculator?  \n",
        "    a) Use `try-except`  \n",
        "    b) Check `type(num)`  \n",
        "    c) Use `assert`  \n",
        "    d) All of the above  \n",
        "    **Answer:** a) Use `try-except`  \n",
        "    **Explanation:** `try-except` catches conversion errors.\n",
        "\n",
        "---\n",
        "\n",
        "### **Miscellaneous**\n",
        "39. What is the output?  \n",
        "    ```python\n",
        "    for i in range(2):\n",
        "        print(i)\n",
        "    else:\n",
        "        print(\"Done\")\n",
        "    ```\n",
        "    a) `0 1`  \n",
        "    b) `0 1 Done`  \n",
        "    c) `Done`  \n",
        "    d) `0 1` then `Done`  \n",
        "    **Answer:** d) `0 1` then `Done`  \n",
        "    **Explanation:** `else` runs after the loop completes.\n",
        "\n",
        "40. What does this code do?  \n",
        "    ```python\n",
        "    while True:\n",
        "        response = input(\"Quit? (y/n): \")\n",
        "        if response.lower() == 'y':\n",
        "            break\n",
        "    ```\n",
        "    a) Exits on `'y'`  \n",
        "    b) Runs forever  \n",
        "    c) Checks case-insensitively  \n",
        "    d) Both a and c  \n",
        "    **Answer:** d) Both a and c  \n",
        "    **Explanation:** Loop breaks on `'y'` or `'Y'`.\n",
        "\n",
        "---\n",
        "\n",
        "### **Advanced Topics**\n",
        "41. What is the output?  \n",
        "    ```python\n",
        "    for i in range(3):\n",
        "        if i == 1:\n",
        "            pass\n",
        "        print(i)\n",
        "    ```\n",
        "    a) `0 1 2`  \n",
        "    b) `0 2`  \n",
        "    c) `1 2`  \n",
        "    d) `Error`  \n",
        "    **Answer:** a) `0 1 2`  \n",
        "    **Explanation:** `pass` is a no-op; loop continues normally.\n",
        "\n",
        "42. Which loop is better for unknown iterations?  \n",
        "    a) `for`  \n",
        "    b) `while`  \n",
        "    c) `match-case`  \n",
        "    d) `if-else`  \n",
        "    **Answer:** b) `while`  \n",
        "    **Explanation:** `while` loops until a condition is met.\n",
        "\n",
        "---\n",
        "\n",
        "### **Performance**\n",
        "43. Which is faster for large ranges?  \n",
        "    ```python\n",
        "    # Option 1\n",
        "    for i in range(1000000):\n",
        "        pass\n",
        "    # Option 2\n",
        "    i = 0\n",
        "    while i < 1000000:\n",
        "        i += 1\n",
        "    ```\n",
        "    a) Option 1  \n",
        "    b) Option 2  \n",
        "    c) Equal  \n",
        "    d) Depends  \n",
        "    **Answer:** a) Option 1  \n",
        "    **Explanation:** `range()` is optimized in Python.\n",
        "\n",
        "44. How to optimize nested loops?  \n",
        "    a) Use list comprehensions  \n",
        "    b) Reduce loop depth  \n",
        "    c) Precompute values  \n",
        "    d) All of the above  \n",
        "    **Answer:** d) All of the above  \n",
        "    **Explanation:** All methods improve performance.\n",
        "\n",
        "---\n",
        "\n",
        "### **Real-World Analogies**\n",
        "45. Which real-world scenario fits a `while` loop?  \n",
        "    a) Washing machine cycles  \n",
        "    b) Filling a gas tank  \n",
        "    c) Grading students  \n",
        "    d) Printing a report  \n",
        "    **Answer:** b) Filling a gas tank  \n",
        "    **Explanation:** `while` suits unbounded processes.\n",
        "\n",
        "46. Which fits a `for` loop?  \n",
        "    a) Checking emails until inbox is empty  \n",
        "    b) Baking cookies for a fixed time  \n",
        "    c) Calculating Fibonacci sequence  \n",
        "    d) All of the above  \n",
        "    **Answer:** b) Baking cookies for a fixed time  \n",
        "    **Explanation:** `for` loops are ideal for fixed iterations.\n",
        "\n",
        "---\n",
        "\n",
        "### **Tricky Outputs**\n",
        "47. What does this print?  \n",
        "    ```python\n",
        "    for i in range(2):\n",
        "        for j in range(2):\n",
        "            if i == j:\n",
        "                break\n",
        "            print(i, j)\n",
        "    ```\n",
        "    a) `0 1`  \n",
        "    b) `1 0`  \n",
        "    c) Nothing  \n",
        "    d) `0 1` and `1 0`  \n",
        "    **Answer:** b) 1 0\n",
        "    **Explanation:** i ka 1 or j ka 0 barabar nhi hua to print chalega .\n",
        "\n",
        "48. What is the output?  \n",
        "    ```python\n",
        "    x = 5\n",
        "    while x > 0:\n",
        "        x -= 1\n",
        "        if x == 2:\n",
        "            continue\n",
        "        print(x)\n",
        "    ```\n",
        "    a) `4 3 1 0`  \n",
        "    b) `4 3 2 1 0`  \n",
        "    c) `4 3 1`  \n",
        "    d) `4 3`  \n",
        "    **Answer:** a) `4 3 1 0`  \n",
        "    **Explanation:** `continue` skips printing `2`.\n",
        "\n",
        "---\n",
        "\n",
        "### **Final Challenges**\n",
        "49. What does this code do?  \n",
        "    ```python\n",
        "    n = 10\n",
        "    while n > 0:\n",
        "        n -= 1\n",
        "        if n % 2 == 0:\n",
        "            print(n)\n",
        "    ```\n",
        "    a) Prints even numbers from 9 to 0  \n",
        "    b) Prints odd numbers from 9 to 1  \n",
        "    c) Prints all numbers from 9 to 0  \n",
        "    d) Infinite loop  \n",
        "    **Answer:** a) Prints even numbers from 9 to 0  \n",
        "    **Explanation:** Loop decrements `n` and prints evens.\n",
        "\n",
        "50. What is the output?  \n",
        "    ```python\n",
        "    for i in range(3):\n",
        "        print(i)\n",
        "    else:\n",
        "        print(\"Loop done\")\n",
        "    ```\n",
        "    a) `0 1 2`  \n",
        "    b) `0 1 2 Loop done`  \n",
        "    c) `Loop done`  \n",
        "    d) `0 1 2` then `Loop done`  \n",
        "    **Answer:** d) `0 1 2` then `Loop done`  \n",
        "    **Explanation:** `else` executes after loop completion.\n",
        "\n",
        "---\n",
        "\n"
      ]
    },
    {
      "cell_type": "markdown",
      "metadata": {},
      "source": []
    }
  ],
  "metadata": {
    "colab": {
      "provenance": []
    },
    "kernelspec": {
      "display_name": "Python 3",
      "name": "python3"
    },
    "language_info": {
      "codemirror_mode": {
        "name": "ipython",
        "version": 3
      },
      "file_extension": ".py",
      "mimetype": "text/x-python",
      "name": "python",
      "nbconvert_exporter": "python",
      "pygments_lexer": "ipython3",
      "version": "3.12.2"
    }
  },
  "nbformat": 4,
  "nbformat_minor": 0
}
