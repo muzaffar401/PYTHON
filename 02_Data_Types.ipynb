{
  "cells": [
    {
      "cell_type": "markdown",
      "metadata": {
        "id": "-eLQKWZO8ZSD"
      },
      "source": [
        "# **Python Data Types**\n",
        "\n",
        "\n",
        "---\n",
        "\n",
        "Data types determine the type of value a variable can hold and the operations that can be performed on it. They define the format, structure, size, range, and behavior of data, controlling how it's stored and used in a program. This helps ensure data is used correctly and efficiently."
      ]
    },
    {
      "cell_type": "markdown",
      "metadata": {
        "id": "eNECAvur8IcD"
      },
      "source": [
        "![Python-Data-Types.webp](data:image/webp;base64,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)"
      ]
    },
    {
      "cell_type": "markdown",
      "metadata": {
        "id": "9LzMKEXB8iWq"
      },
      "source": [
        "# **1. Numeric Types**\n",
        "Python has three main numeric types:\n",
        "\n",
        "##a. Integer (int)\n",
        "Whole numbers, positive or negative, without decimals."
      ]
    },
    {
      "cell_type": "code",
      "execution_count": null,
      "metadata": {
        "colab": {
          "base_uri": "https://localhost:8080/"
        },
        "id": "fmpednR48H5z",
        "outputId": "64d0345e-1704-4fab-f044-00b04006e22d"
      },
      "outputs": [
        {
          "name": "stdout",
          "output_type": "stream",
          "text": [
            "<class 'int'>  num_int =  42\n"
          ]
        }
      ],
      "source": [
        "num_int: int = 42\n",
        "\n",
        "print(type(num_int),\" num_int = \",num_int,)  # <class 'int'>"
      ]
    },
    {
      "cell_type": "markdown",
      "metadata": {
        "id": "-KGLY8U-Zv3g"
      },
      "source": [
        "##b. Floating-Point (float)\n",
        "Numbers with decimal points."
      ]
    },
    {
      "cell_type": "code",
      "execution_count": null,
      "metadata": {
        "colab": {
          "base_uri": "https://localhost:8080/"
        },
        "id": "-PKL8rZe8Hbj",
        "outputId": "216870c2-ce4c-4215-9ce1-d6eb98a7fc42"
      },
      "outputs": [
        {
          "name": "stdout",
          "output_type": "stream",
          "text": [
            "<class 'float'>  num_float =  0.14\n"
          ]
        }
      ],
      "source": [
        "num_float: float = 3.14\n",
        "#num_float: float = .14\n",
        "\n",
        "print(type(num_float), \" num_float = \", num_float)  # <class 'float'>"
      ]
    },
    {
      "cell_type": "markdown",
      "metadata": {
        "id": "yEstKFgkecGj"
      },
      "source": [
        "##c. Complex (complex)\n",
        "Numbers with a real and imaginary part."
      ]
    },
    {
      "cell_type": "code",
      "execution_count": null,
      "metadata": {
        "colab": {
          "base_uri": "https://localhost:8080/"
        },
        "id": "XnOaVRJMegOb",
        "outputId": "00f45aec-a38c-4457-e6bb-e06ca0e1c073"
      },
      "outputs": [
        {
          "name": "stdout",
          "output_type": "stream",
          "text": [
            "<class 'complex'>  num_complex =  (2+3j)\n"
          ]
        }
      ],
      "source": [
        "num_complex: complex = 2 + 3j\n",
        "\n",
        "print(type(num_complex), \" num_complex = \", num_complex)  # <class 'complex'>"
      ]
    },
    {
      "cell_type": "markdown",
      "metadata": {
        "id": "Nt9pLLYqOfn_"
      },
      "source": [
        "## **Accessing Real and Imaginary Parts**\n",
        "Python provides attributes .real and .imag to extract the real and imaginary parts of a complex number.\n",
        "\n",
        "*(Contributor: Areeba Zafar from Karachi)*"
      ]
    },
    {
      "cell_type": "code",
      "execution_count": null,
      "metadata": {
        "colab": {
          "base_uri": "https://localhost:8080/"
        },
        "id": "PXfnlEpCOnpf",
        "outputId": "d08a51ff-3636-48d4-bd25-a675f215f027"
      },
      "outputs": [
        {
          "name": "stdout",
          "output_type": "stream",
          "text": [
            "Real Part: 3.0\n",
            "Imaginary Part: 4.0\n"
          ]
        }
      ],
      "source": [
        "z = 3 + 4j\n",
        "\n",
        "print(\"Real Part:\", z.real)   # Output: 3.0\n",
        "print(\"Imaginary Part:\", z.imag)  # Output: 4.0\n"
      ]
    },
    {
      "cell_type": "markdown",
      "metadata": {
        "id": "FjfT5KJoerBa"
      },
      "source": [
        "# **2. Boolean (bool)**\n",
        "Represents True or False."
      ]
    },
    {
      "cell_type": "code",
      "execution_count": null,
      "metadata": {
        "colab": {
          "base_uri": "https://localhost:8080/"
        },
        "id": "YSKhFipPevfS",
        "outputId": "8a2c19e1-db46-42ef-e678-0b4491a7860e"
      },
      "outputs": [
        {
          "name": "stdout",
          "output_type": "stream",
          "text": [
            "<class 'bool'>  is_python_fun =  True\n"
          ]
        }
      ],
      "source": [
        "is_python_fun: bool = True #False\n",
        "\n",
        "print(type(is_python_fun), \" is_python_fun = \", is_python_fun)  # <class 'bool'>"
      ]
    },
    {
      "cell_type": "markdown",
      "metadata": {
        "id": "TJUhDEyDfgbC"
      },
      "source": [
        "# **3. Sequence Types**\n",
        "These store multiple items in an ordered way.\n",
        "\n",
        "##a. String (str)\n",
        "A sequence of characters enclosed in quotes."
      ]
    },
    {
      "cell_type": "code",
      "execution_count": null,
      "metadata": {
        "colab": {
          "base_uri": "https://localhost:8080/"
        },
        "id": "9jr31ibhfvJa",
        "outputId": "19525925-673a-4591-aa9e-6d5eead3c8a6"
      },
      "outputs": [
        {
          "name": "stdout",
          "output_type": "stream",
          "text": [
            "<class 'str'>  text_double   =  Hello, Python!\n",
            "<class 'str'>  text_single   =  Hello, Python!\n",
            "<class 'str'>  text_multi    =  Hello, Python!\n",
            "<class 'str'>  text_multi_1  =  Hello, Python!\n"
          ]
        }
      ],
      "source": [
        "text_double: str  = \"Hello, Python!\" # Strings with Double Quotes (\")\n",
        "text_single: str  = 'Hello, Python!' # Strings with Single Quotes (')\n",
        "text_multi: str   = '''Hello, Python!''' # Multi-Line Strings with Triple Quotes (''' or \"\"\")\n",
        "text_multi_1: str = \"\"\"Hello, Python!\"\"\" # Multi-Line Strings with Triple Quotes (''' or \"\"\")\n",
        "\n",
        "print(type(text_double), \" text_double   = \", text_double)    # <class 'str'>\n",
        "print(type(text_single), \" text_single   = \", text_single)    # <class 'str'>\n",
        "print(type(text_multi), \" text_multi    = \", text_multi)      # <class 'str'>\n",
        "print(type(text_multi_1), \" text_multi_1  = \", text_multi_1)  # <class 'str'>\n",
        "\n"
      ]
    },
    {
      "cell_type": "markdown",
      "metadata": {
        "id": "PstKibgRhVxx"
      },
      "source": [
        "##Key Takeaways\n",
        "- Double Quotes (\"): Use when the string contains single quotes.\n",
        "- Single Quotes ('): Use when the string contains double quotes.\n",
        "- Triple Quotes (''' or \"\"\"): Use for multi-line strings or docstrings.\n",
        "\n",
        "<br>\n",
        "\n",
        "Understanding these variations allows you to `write cleaner, more readable, and error-free code`. As you progress in Python, you’ll find that strings are incredibly powerful, especially when combined with string methods, formatting, and manipulation techniques."
      ]
    },
    {
      "cell_type": "markdown",
      "metadata": {
        "id": "uehGlxlplpRt"
      },
      "source": [
        "##b. List (list)\n",
        "An ordered, mutable collection."
      ]
    },
    {
      "cell_type": "code",
      "execution_count": null,
      "metadata": {
        "colab": {
          "base_uri": "https://localhost:8080/"
        },
        "id": "q09yosMmltwl",
        "outputId": "214b10aa-05d2-4f48-fcb0-441bb5d4c5a7"
      },
      "outputs": [
        {
          "name": "stdout",
          "output_type": "stream",
          "text": [
            "<class 'list'>  my_list_1 =  [1, 2, 3, 'Java', 3.14, True]\n",
            "<class 'list'>  my_list   =  [1, 2, 3, 'Python', 3.14, (3+2j)]\n"
          ]
        }
      ],
      "source": [
        "my_list_1: int = [1, 2, 3, \"Java\", 3.14, True] #Type hinting is not enforced in python, but you should mention appropriate data type in this case 'list'\n",
        "my_list: list = [1, 2, 3, \"Python\", 3.14, 3+2j]\n",
        "\n",
        "print(type(my_list_1), \" my_list_1 = \", my_list_1)  # <class 'list'>\n",
        "print(type(my_list), \" my_list   =  \" + str(my_list)) # we will look into type casting in classes ahead"
      ]
    },
    {
      "cell_type": "markdown",
      "metadata": {
        "id": "hXKS2ioDnZB0"
      },
      "source": [
        "##c. Tuple (tuple)\n",
        "An ordered, immutable collection."
      ]
    },
    {
      "cell_type": "code",
      "execution_count": null,
      "metadata": {
        "colab": {
          "base_uri": "https://localhost:8080/"
        },
        "id": "RLyNfg8unbbr",
        "outputId": "07ba40af-cd7f-40ff-b669-5cbdfffb5e8d"
      },
      "outputs": [
        {
          "name": "stdout",
          "output_type": "stream",
          "text": [
            "<class 'tuple'>  my_tuple =  (1, 2, 3, 'AI', 2.71, False, 0.3, (3+2j))\n"
          ]
        }
      ],
      "source": [
        "my_tuple: tuple = (1, 2, 3, \"AI\", 2.71, False, .3 , 3+2j )\n",
        "print(type(my_tuple), \" my_tuple = \", my_tuple )  # <class 'tuple'>"
      ]
    },
    {
      "cell_type": "markdown",
      "metadata": {
        "id": "L0MnL8l7npXL"
      },
      "source": [
        "## d. Range (range)\n",
        "Represents a sequence of numbers."
      ]
    },
    {
      "cell_type": "code",
      "execution_count": null,
      "metadata": {
        "colab": {
          "base_uri": "https://localhost:8080/"
        },
        "id": "jKNeEdtZzsuK",
        "outputId": "49547574-ecf8-475f-e61a-3443cb15b11b"
      },
      "outputs": [
        {
          "name": "stdout",
          "output_type": "stream",
          "text": [
            "<class 'range'>  num_range =  2\n"
          ]
        }
      ],
      "source": [
        "num_range: range = range(1, 10, 2) # range(start, stop, step)\n",
        "print(type(num_range), \" num_range = \", num_range.step)  # <class 'range'>"
      ]
    },
    {
      "cell_type": "code",
      "execution_count": null,
      "metadata": {
        "colab": {
          "base_uri": "https://localhost:8080/"
        },
        "id": "BwaCWX8w0F1Y",
        "outputId": "380222bf-a307-490e-afe0-f0c2a6a54b79"
      },
      "outputs": [
        {
          "name": "stdout",
          "output_type": "stream",
          "text": [
            "1\n",
            "3\n",
            "5\n",
            "7\n",
            "9\n"
          ]
        }
      ],
      "source": [
        "for i in range(1, 10, 2): # we will study loops indepth in classes ahead\n",
        "  print(i)"
      ]
    },
    {
      "cell_type": "markdown",
      "metadata": {
        "id": "0jiFRisu16lX"
      },
      "source": [
        "# **4. Set Types**\n",
        "`(We will cover this indepth in classes ahead)`\n",
        "\n",
        "Unordered collections with unique elements.\n",
        "\n",
        "## a. Set (set)\n",
        "`Mutable`, `unordered`, and contains `unique values`."
      ]
    },
    {
      "cell_type": "code",
      "execution_count": null,
      "metadata": {
        "colab": {
          "base_uri": "https://localhost:8080/"
        },
        "id": "2wEOjFfI1zfW",
        "outputId": "f089e63f-6571-4fd1-9f4f-8611e549f42a"
      },
      "outputs": [
        {
          "name": "stdout",
          "output_type": "stream",
          "text": [
            "<class 'set'> my_set =  {1, 2, 33, 4, 5}\n"
          ]
        }
      ],
      "source": [
        "my_set: set = {1, 2, 33, 4, 4, 5}\n",
        "print(type(my_set), \"my_set = \", my_set)  # <class 'set'>"
      ]
    },
    {
      "cell_type": "markdown",
      "metadata": {
        "id": "_4J3whrd1nlA"
      },
      "source": [
        "## b. Frozen Set (frozenset)\n",
        "Immutable version of a set."
      ]
    },
    {
      "cell_type": "code",
      "execution_count": null,
      "metadata": {
        "colab": {
          "base_uri": "https://localhost:8080/"
        },
        "id": "DMCfWO1TA0DV",
        "outputId": "9f5b162b-dd2e-401c-8ccc-a5fd4af6e8f9"
      },
      "outputs": [
        {
          "name": "stdout",
          "output_type": "stream",
          "text": [
            "<class 'frozenset'>  frozen_set =  frozenset({1, 2, 33, 4, 5})\n"
          ]
        }
      ],
      "source": [
        "frozen_set = frozenset([11, 2, 3, 4, 4, 5])\n",
        "#frozen_set = frozenset(my_set)\n",
        "print(type(frozen_set), \" frozen_set = \", frozen_set)  # <class 'frozenset'>"
      ]
    },
    {
      "cell_type": "markdown",
      "metadata": {
        "id": "Ox1IatryBd01"
      },
      "source": [
        "# **5. Mapping Type**\n",
        "\n",
        "Dictionary (dict)\n",
        "Stores key-value pairs."
      ]
    },
    {
      "cell_type": "code",
      "execution_count": null,
      "metadata": {
        "colab": {
          "base_uri": "https://localhost:8080/"
        },
        "id": "PS7qHqJdBiH1",
        "outputId": "791176e5-39bf-4eb2-b11f-03f0bd671f35"
      },
      "outputs": [
        {
          "name": "stdout",
          "output_type": "stream",
          "text": [
            "<class 'dict'>  my_dict =  {'name': 'Alice', 'age': 25, 'language': 'Python'}\n"
          ]
        }
      ],
      "source": [
        "my_dict: dict = {\"name\": \"Alice\", \"age\": 25, \"language\": \"Python\"}\n",
        "print(type(my_dict),\" my_dict = \", my_dict )  # <class 'dict'>"
      ]
    },
    {
      "cell_type": "markdown",
      "metadata": {
        "id": "P7mlJgLhB7N8"
      },
      "source": [
        "# **6. Binary Types**\n",
        "In Python, binary types are used to handle binary data, such as raw bytes, binary files, or data exchanged over networks. Binary types are distinct from text types (str) and are specifically designed to represent and manipulate sequences of bytes. Python provides three built-in binary types:\n",
        "\n",
        "<br>\n",
        "\n",
        "## a. Bytes (bytes)\n",
        "\n",
        "1.  **Definition**: An immutable sequence of bytes.\n",
        "\n",
        "2.  **Purpose**: Used to represent binary data, such as byte sequences coming from files, network communications, or raw data.\n",
        "\n",
        "3.  **Key Points**:\n",
        "    * A bytes object is immutable, meaning you cannot modify its content after creation.\n",
        "    * It is often used when you need to work with fixed binary data.\n",
        "    * Literal syntax: b\"...\" or b'...'."
      ]
    },
    {
      "cell_type": "code",
      "execution_count": null,
      "metadata": {
        "colab": {
          "base_uri": "https://localhost:8080/"
        },
        "id": "IDZtUyWHCAMz",
        "outputId": "60dcd386-e42d-4460-d81c-5e45de1565b9"
      },
      "outputs": [
        {
          "name": "stdout",
          "output_type": "stream",
          "text": [
            "<class 'bytes'>  byte_data =  b'Hello'\n"
          ]
        }
      ],
      "source": [
        "byte_data: bytes = b\"Hello\"\n",
        "print(type(byte_data), \" byte_data = \", byte_data)  # <class 'bytes'>"
      ]
    },
    {
      "cell_type": "markdown",
      "metadata": {
        "id": "yvTG_pTSXr4Y"
      },
      "source": [
        "### **Its just an example to give you feel about how to work with binary data.**\n",
        "\n",
        "`We will learn more about file handling in classes ahead.`"
      ]
    },
    {
      "cell_type": "code",
      "execution_count": null,
      "metadata": {
        "id": "qLH8x1SdWfsS"
      },
      "outputs": [],
      "source": [
        "# Open an image file in binary mode\n",
        "with open(\"Apollo11.jpg\", \"rb\") as image_file:\n",
        "    image_data = image_file.read()\n",
        "\n",
        "print(image_data)"
      ]
    },
    {
      "cell_type": "code",
      "execution_count": null,
      "metadata": {
        "colab": {
          "base_uri": "https://localhost:8080/"
        },
        "id": "EPCGSVbdXfuJ",
        "outputId": "4fd97c9f-60ac-471a-b073-f73be7d46194"
      },
      "outputs": [
        {
          "name": "stdout",
          "output_type": "stream",
          "text": [
            "Image copied successfully!\n"
          ]
        }
      ],
      "source": [
        "with open(\"Apollo11.jpg\", \"rb\") as source_file:\n",
        "    data = source_file.read()\n",
        "\n",
        "# Write the binary data to a new image file\n",
        "with open(\"copy.jpg\", \"wb\") as target_file:\n",
        "    target_file.write(data)\n",
        "\n",
        "print(\"Image copied successfully!\")"
      ]
    },
    {
      "cell_type": "markdown",
      "metadata": {
        "id": "i_AOmcdyCLok"
      },
      "source": [
        "## b. Bytearray (bytearray)\n",
        "\n",
        "1.  **Definition**: A mutable sequence of bytes.\n",
        "\n",
        "2.  **Purpose**: Like bytes, but allows modification of its content.\n",
        "\n",
        "3.  **Key Points**:\n",
        "    * You can modify the content of a bytearray object in place.\n",
        "    * Suitable for cases where you need to update or manipulate binary data frequently.\n",
        "    * Literal syntax: Does not have direct literal syntax (must use bytearray() constructor).\n",
        "\n"
      ]
    },
    {
      "cell_type": "markdown",
      "metadata": {},
      "source": [
        "\n",
        "\n",
        "### **1️⃣ Number Systems** (Decimal, Binary, Octal, Hexadecimal)\n",
        "Number systems ka matlab hai, alag-alag tareeqay se numbers ko likhna. Python mein 4 main number systems use hote hain:\n",
        "\n",
        "---\n",
        "\n",
        "### **1. Decimal (Base 10)**:\n",
        "- **Decimal** system wo hai jo hum sabhi daily life mein use karte hain.\n",
        "- Ismein **10 digits** hotay hain: `0, 1, 2, 3, 4, 5, 6, 7, 8, 9`\n",
        "- **Base 10** ka matlab hai, har digit ka value 10 ke powers ke hisaab se hota hai.\n",
        "\n",
        "**Example**:  \n",
        "`345` ko samajhne ka tareeqa:\n",
        "\n",
        "```\n",
        "345 = (3 * 10^2) + (4 * 10^1) + (5 * 10^0)\n",
        "```\n",
        "\n",
        "### Code Example:\n",
        "```python\n",
        "decimal_number = 345\n",
        "print(decimal_number)  # Output: 345\n",
        "```\n",
        "\n",
        "---\n",
        "\n",
        "### **2. Binary (Base 2)**:\n",
        "- **Binary** system ka use computer mein hota hai. Ismein sirf **2 digits** hotay hain: `0` aur `1`.\n",
        "- Har digit ka value power of 2 hota hai.\n",
        "\n",
        "**Example**:\n",
        "```\n",
        "1011 (binary) = (1 * 2^3) + (0 * 2^2) + (1 * 2^1) + (1 * 2^0) = 11 (decimal)\n",
        "```\n",
        "\n",
        "**Code Example**:\n",
        "```python\n",
        "binary_number = 0b1011  # 0b ka matlab binary number\n",
        "print(binary_number)  # Output: 11 (decimal mein)\n",
        "```\n",
        "\n",
        "---\n",
        "\n",
        "### **3. Octal (Base 8)**:\n",
        "- **Octal** system mein **8 digits** hotay hain: `0, 1, 2, 3, 4, 5, 6, 7`.\n",
        "- Base 8 ka matlab hai, har digit ka value power of 8 hota hai.\n",
        "\n",
        "**Example**:\n",
        "```\n",
        "17 (octal) = (1 * 8^1) + (7 * 8^0) = 15 (decimal)\n",
        "```\n",
        "\n",
        "**Code Example**:\n",
        "```python\n",
        "octal_number = 0o17  # 0o ka matlab octal number\n",
        "print(octal_number)  # Output: 15 (decimal mein)\n",
        "```\n",
        "\n",
        "---\n",
        "\n",
        "### **4. Hexadecimal (Base 16)**:\n",
        "- **Hexadecimal** system mein **16 digits** hotay hain: `0-9` aur `A-F` (A=10, B=11, C=12, etc.).\n",
        "- Base 16 ka matlab hai, har digit ka value power of 16 hota hai.\n",
        "\n",
        "**Example**:\n",
        "```\n",
        "1F (hexadecimal) = (1 * 16^1) + (F * 16^0) = 31 (decimal)\n",
        "```\n",
        "\n",
        "**Code Example**:\n",
        "```python\n",
        "hexadecimal_number = 0x1F  # 0x ka matlab hexadecimal number\n",
        "print(hexadecimal_number)  # Output: 31 (decimal mein)\n",
        "```\n",
        "\n",
        "---\n",
        "\n",
        "### **2️⃣ ASCII (American Standard Code for Information Interchange)**\n",
        "- **ASCII** ek standard hai jisme har character ko ek unique number diya jata hai.\n",
        "- Ismein **128 characters** hote hain, jisme English alphabets (`A-Z`, `a-z`), numbers (`0-9`), aur special symbols (`!`, `@`, `#`, etc.) hote hain.\n",
        "\n",
        "**Example**:  \n",
        "- `A` ka **ASCII value** **65** hota hai.\n",
        "- `B` ka **ASCII value** **66** hota hai.\n",
        "\n",
        "**Code Example**:\n",
        "```python\n",
        "char = 'A'\n",
        "ascii_value = ord(char)  # ord() function se hum character ka ASCII value lete hain\n",
        "print(ascii_value)  # Output: 65\n",
        "```\n",
        "\n",
        "Agar hum **ASCII value ko character mein convert karna** chahte hain, to `chr()` function use karte hain.\n",
        "\n",
        "```python\n",
        "ascii_value = 65\n",
        "char = chr(ascii_value)  # chr() function se hum ASCII value ko character mein convert karte hain\n",
        "print(char)  # Output: 'A'\n",
        "```\n",
        "\n",
        "---\n",
        "\n",
        "### **3️⃣ Unicode**\n",
        "- **Unicode** ek universal system hai jisme har language ke characters (jaise Urdu, Hindi, Chinese) aur symbols ko ek unique number diya jata hai.\n",
        "- Isme bohot zyada characters hote hain, na sirf English ke, balkay har language ke.\n",
        "\n",
        "**Example**:\n",
        "- `A` ka **Unicode value** bhi **65** hota hai.\n",
        "- Emoji `😊` ka **Unicode value** **128522** hota hai.\n",
        "\n",
        "**Code Example**:\n",
        "```python\n",
        "char = '😊'\n",
        "unicode_value = ord(char)  # Unicode value of the emoji\n",
        "print(unicode_value)  # Output: 128522\n",
        "```\n",
        "\n",
        "---\n",
        "\n",
        "### **Summary in Simple Words:**\n",
        "- **Decimal**: Humara normal number system, jo hum roz use karte hain (`0-9`).\n",
        "- **Binary**: Sirf `0` aur `1` ka use hota hai, computers isko samajhte hain.\n",
        "- **Octal**: `0-7` ka use hota hai, purane systems mein hota tha.\n",
        "- **Hexadecimal**: `0-9` aur `A-F` ka use hota hai, computers mein zyada hota hai.\n",
        "\n",
        "- **ASCII**: Har English character ka ek number hota hai.\n",
        "- **Unicode**: Har language aur symbol ka ek number hota hai, jaise emojis, Arabic, etc.\n",
        "\n"
      ]
    },
    {
      "cell_type": "markdown",
      "metadata": {
        "id": "lhJ5fQJxZhvH"
      },
      "source": [
        "## **Number Systems**\n",
        "\n",
        "* **ASCII**:\n",
        "\n",
        "  The American Standard Code for Information Interchange (ASCII) is a character encoding standard that represents text in computers using numeric codes. It maps 128 characters (letters, digits, punctuation, and control characters) to values from 0 to 127.\n",
        "\n",
        "* **Decimal**:\n",
        "\n",
        "  The decimal system is the standard numerical system used in everyday life, based on 10 digits (0 through 9). It's a base-10 system, where each digit's position represents a power of 10.\n",
        "\n",
        "* **Hexadecimal**:\n",
        "\n",
        "  The hexadecimal system is a base-16 numbering system, using 16 symbols: 0–9 to represent values 0 to 9, and A–F (or a–f) to represent values 10 to 15. It's widely used in computing for compact representation of binary data.\n",
        "\n",
        "* **Octal**:\n",
        "\n",
        "  The octal system is a base-8 numbering system, using digits 0 through 7. It was more commonly used in older computer systems and is still occasionally used in modern computing, especially for file permissions in Unix/Linux.\n",
        "\n",
        "* **Binary**:\n",
        "\n",
        "  The binary system is a base-2 numbering system that uses only two digits: 0 and 1. It's the fundamental language of computers, where each binary digit (bit) represents a state of off or on.\n",
        "\n",
        "<br>\n",
        "\n",
        "### **What is a Base in Number Systems?**\n",
        "\n",
        "A base (or radix) in a number system refers to the number of **`unique digits`** (including zero) used to represent numbers. It defines how place values are assigned to digits in a numeral.\n",
        "\n",
        "<br>\n",
        "\n",
        "[ASCII, decimal, hexadecimal, octal, and binary conversion table](https://www.ascii-code.com/ASCII)\n"
      ]
    },
    {
      "cell_type": "code",
      "execution_count": null,
      "metadata": {
        "colab": {
          "base_uri": "https://localhost:8080/"
        },
        "id": "sEX9FhOqCNuD",
        "outputId": "15fdb2d9-efe3-4fac-8efa-fe5bb5275910"
      },
      "outputs": [
        {
          "name": "stdout",
          "output_type": "stream",
          "text": [
            "<class 'bytearray'>  byte_array =  bytearray(b'ABCE')\n",
            "65\n",
            "A\n",
            "Empty bytearray():  bytearray(b'')\n"
          ]
        }
      ],
      "source": [
        "byte_array: bytearray = bytearray([65, 66, 67, 69]) #65=A, 66=B ....decimal number system\n",
        "print(type(byte_array), \" byte_array = \", byte_array)  # <class 'bytearray'>\n",
        "print(byte_array[0])\n",
        "print(chr(byte_array[0]))\n",
        "print(\"Empty bytearray(): \",bytearray())"
      ]
    },
    {
      "cell_type": "markdown",
      "metadata": {
        "id": "awcZVILScATF"
      },
      "source": [
        "### **What is UTF-8?**\n",
        "\n",
        "UTF-8 (8-bit Unicode Transformation Format) is a variable-length character encoding that can represent every character in the Unicode standard. It is designed for efficiency and compatibility:"
      ]
    },
    {
      "cell_type": "code",
      "execution_count": null,
      "metadata": {
        "colab": {
          "base_uri": "https://localhost:8080/"
        },
        "id": "0gc9KH76bijd",
        "outputId": "ac7e25d8-48f5-4a8c-bd00-2c60b6b189d5"
      },
      "outputs": [
        {
          "name": "stdout",
          "output_type": "stream",
          "text": [
            "Decoded string:  ABCE\n"
          ]
        }
      ],
      "source": [
        "byte_array: bytearray = bytearray([65, 66, 67, 69])\n",
        "# Converting the entire bytearray to a string using decode()\n",
        "print(\"Decoded string: \", byte_array.decode('utf-8'))  # Output: ABCE"
      ]
    },
    {
      "cell_type": "code",
      "execution_count": null,
      "metadata": {
        "colab": {
          "base_uri": "https://localhost:8080/"
        },
        "id": "GDDM6XDRWbA8",
        "outputId": "3b393707-05d7-458d-8271-77aafe69053f"
      },
      "outputs": [
        {
          "name": "stdout",
          "output_type": "stream",
          "text": [
            "Before: ba =  bytearray(b'hello')\n",
            "After: ba =  bytearray(b'Hello')\n"
          ]
        }
      ],
      "source": [
        "# Creating a bytearray object\n",
        "ba: bytearray = bytearray(b\"hello\")\n",
        "print(\"Before: ba = \", ba)\n",
        "\n",
        "# Modifying the bytearray\n",
        "ba[0] = 72  # ASCII value of 'H'\n",
        "\n",
        "print(\"After: ba = \",ba)  # Output: bytearray(b'Hello')"
      ]
    },
    {
      "cell_type": "markdown",
      "metadata": {},
      "source": [
        "\n",
        "\n",
        "---\n",
        "\n",
        "## 🔥 Sawal:  \n",
        "> Jab data `utf-8` me encode hota hai, kya wo **hexadecimal** me hota hai?\n",
        "\n",
        "### ✅ **Jawab: Haan!**\n",
        "\n",
        "Jab text ko tum `utf-8` me encode karte ho, to wo **bytes** me convert hota hai — aur wo bytes **hexadecimal format** me show ho sakte hain.\n",
        "\n",
        "---\n",
        "\n",
        "### 🧠 But, actual cheez kya hoti hai?\n",
        "\n",
        "- Computer text ko `utf-8` se **bytes** me convert karta hai (numbers).\n",
        "- Bytes ko jab print karte ho, to **hex form** me dikhaya jata hai (jaise: `\\xd8\\xb3`)\n",
        "\n",
        "---\n",
        "\n",
        "### ✅ Example Samjho:\n",
        "\n",
        "```python\n",
        "text = \"سلام\"\n",
        "encoded = text.encode(\"utf-8\")\n",
        "\n",
        "print(encoded)\n",
        "```\n",
        "\n",
        "#### Output:\n",
        "```\n",
        "b'\\xd8\\xb3\\xd9\\x84\\xd8\\xa7\\xd9\\x85'\n",
        "```\n",
        "\n",
        "### 🧾 Toh yeh kya hai?\n",
        "\n",
        "Yeh sab `\\x...` wale parts **hexadecimal values** hain.\n",
        "\n",
        "---\n",
        "\n",
        "### 📌 Hexadecimal kya hota hai?\n",
        "\n",
        "Hexadecimal = Base 16  \n",
        "Matlab: `0 1 2 3 4 5 6 7 8 9 A B C D E F`\n",
        "\n",
        "Computer `utf-8` bytes ko **hex digits** me dikhata hai for readability.\n",
        "\n",
        "---\n",
        "\n",
        "### 🎯 Agar tum chaho ke clearly hex dekho:\n",
        "\n",
        "```python\n",
        "for byte in encoded:\n",
        "    print(hex(byte))\n",
        "```\n",
        "\n",
        "#### Output:\n",
        "```\n",
        "0xd8\n",
        "0xb3\n",
        "0xd9\n",
        "0x84\n",
        "0xd8\n",
        "0xa7\n",
        "0xd9\n",
        "0x85\n",
        "```\n",
        "\n",
        "---\n",
        "\n",
        "### 💡 Summary:\n",
        "\n",
        "| Step            | Result                          |\n",
        "|------------------|----------------------------------|\n",
        "| Text             | `\"سلام\"`                         |\n",
        "| UTF-8 Encode     | Bytes (`b'\\xd8\\xb3\\xd9\\x84...'`) |\n",
        "| Bytes Format     | Hexadecimal                     |\n",
        "\n",
        "---\n",
        "\n"
      ]
    },
    {
      "cell_type": "markdown",
      "metadata": {
        "id": "L4oyEwbOJx9A"
      },
      "source": [
        "## c. Memoryview (memoryview)\n",
        "\n",
        "The memoryview object in Python provides an efficient way to work with binary data by allowing you to access and manipulate the memory of another object (like bytes or bytearray) without copying the data. This is particularly useful when working with large datasets or binary streams, as it avoids the overhead of creating additional copies."
      ]
    },
    {
      "cell_type": "code",
      "execution_count": null,
      "metadata": {
        "colab": {
          "base_uri": "https://localhost:8080/"
        },
        "id": "3kHu7Ts0J0g1",
        "outputId": "7cdef9f3-b688-463d-f469-5586a7085d7c"
      },
      "outputs": [
        {
          "name": "stdout",
          "output_type": "stream",
          "text": [
            "<class 'memoryview'>  mem_view =  <memory at 0x7d294da28b80>\n",
            "b'Opera'\n",
            "<memory at 0x7d294da28f40>\n"
          ]
        }
      ],
      "source": [
        "mem_view: memoryview = memoryview(b\"Operation Badar\")\n",
        "print(type(mem_view), \" mem_view = \", mem_view)  # <class 'memoryview'>\n",
        "print(bytes(mem_view[0:]))\n",
        "print( mem_view[6:11] ) #cast it to byte otherwise it will show memory address"
      ]
    },
    {
      "cell_type": "markdown",
      "metadata": {},
      "source": [
        "\n",
        "\n",
        "---\n",
        "\n",
        "## 🧠 `memoryview` Kya Hota Hai Python Me?\n",
        "\n",
        "### 📦 Socho tumhare paas ek **bohot bara data** hai (jaise image ya bytes ka data)  \n",
        "Agar tum baar baar us data ko copy karoge, to:\n",
        "\n",
        "- Memory zyada use hogi 💾  \n",
        "- Speed slow ho sakti hai 🐌\n",
        "\n",
        "### 🔥 **`memoryview`** ek aisi cheez hai jo:\n",
        "- Data ko **copy kiye bagair** use karta hai\n",
        "- Direct memory ko **\"view\"** karta hai (isliye naam hai: memoryview 😄)\n",
        "- Fast processing ke liye use hota hai\n",
        "\n",
        "---\n",
        "\n",
        "### ✅ Simple Example:\n",
        "\n",
        "```python\n",
        "data = bytearray(\"Hello\", \"utf-8\")  # yeh ek bytes array hai\n",
        "\n",
        "view = memoryview(data)  # yeh copy nahi karega, sirf view dega\n",
        "\n",
        "print(view[0])       # Output: 72 → (yeh \"H\" ka ASCII number hai)\n",
        "print(bytes(view))   # Output: b'Hello'\n",
        "```\n",
        "\n",
        "---\n",
        "\n",
        "### 🧪 Thoda aur dekhte hain:\n",
        "\n",
        "```python\n",
        "data[0] = 74  # \"H\" → \"J\" (kyunki 72 → 74 means J)\n",
        "\n",
        "print(bytes(view))  # Output: b'Jello'\n",
        "```\n",
        "\n",
        "❗ **Note:** `memoryview` se agar original data change ho, to view bhi update ho jata hai — **kyunki yeh real data ko hi point karta hai.**\n",
        "\n",
        "---\n",
        "\n",
        "### 📌 Real-life use case:\n",
        "\n",
        "Agar tum image, audio ya network data ke saath kaam kar rahe ho:\n",
        "- Aur tum chahte ho ke data baar baar copy na ho\n",
        "- Sirf usi pe kaam ho jo memory me already hai  \n",
        "Tab `memoryview` bohot helpful hota hai.\n",
        "\n",
        "---\n",
        "\n",
        "### 🧠 Ek line me yaad rakho:\n",
        "\n",
        "> **memoryview** allows you to work with large binary data **without copying it** — directly from memory! ⚡\n",
        "\n",
        "---\n",
        "\n"
      ]
    },
    {
      "cell_type": "code",
      "execution_count": null,
      "metadata": {},
      "outputs": [],
      "source": []
    },
    {
      "cell_type": "markdown",
      "metadata": {
        "id": "USxtlLzUQptM"
      },
      "source": [
        "**None Data Type in Python**\n",
        "==========================\n",
        "\n",
        "In Python, `None` is a special data type that represents the absence of a value or a null object reference. It is a `singleton object`, meaning that there is `only one instance` of `None` in the entire Python environment.\n",
        "\n",
        "* **No value**: `None` represents the absence of a value or a null object reference."
      ]
    },
    {
      "cell_type": "markdown",
      "metadata": {},
      "source": [
        "\n",
        "\n",
        "---\n",
        "\n",
        "## 🧠 `None` Data Type in Python — Step by Step\n",
        "\n",
        "### 🔸 Kya hota hai `None`?\n",
        "- Python me `None` ek **special value** hai.\n",
        "- Yeh matlab hota hai: **\"kuch bhi nahi\", ya \"value abhi set nahi hui\"**\n",
        "- Yeh ek **singleton** object hai → pure Python program me sirf **ek hi `None`** hota hai.\n",
        "\n",
        "---\n",
        "\n",
        "### ✅ Code Breakdown:\n",
        "\n",
        "```python\n",
        "x: str = None\n",
        "y: str = None\n",
        "z: str = x\n",
        "```\n",
        "\n",
        "#### 👉 Iska matlab:\n",
        "- `x` me koi value nahi — sirf `None`\n",
        "- `y` me bhi `None`\n",
        "- `z` me `x` ki value rakhi gayi → yaani `None`\n",
        "\n",
        "---\n",
        "\n",
        "### 🔍 Step by Step Output aur Explanation:\n",
        "\n",
        "```python\n",
        "print(type(x))  \n",
        "```\n",
        "📌 Output: `<class 'NoneType'>`  \n",
        "**Explanation:** `None` ka type hota hai `NoneType`. Yeh Python ka ek built-in type hai.\n",
        "\n",
        "---\n",
        "\n",
        "```python\n",
        "print(\"value of x = \" + str(x) )\n",
        "```\n",
        "📌 Output: `value of x = None`  \n",
        "**Explanation:** Hum `x` me `None` rakhe thay, aur `str(x)` usay string bana kar print karta hai.\n",
        "\n",
        "---\n",
        "\n",
        "```python\n",
        "print(\"x == y = \", x == y)\n",
        "```\n",
        "📌 Output: `True`  \n",
        "**Explanation:** `==` check karta hai **values**, aur dono me `None` hai → isliye `True`.\n",
        "\n",
        "---\n",
        "\n",
        "```python\n",
        "print(\"id(x) = \", id(x))\n",
        "print(\"id(y) = \", id(y))\n",
        "print(\"id(z) = \", id(z))\n",
        "```\n",
        "\n",
        "📌 Output (numbers vary karenge):  \n",
        "```\n",
        "id(x) = 140734378263120  \n",
        "id(y) = 140734378263120  \n",
        "id(z) = 140734378263120\n",
        "```\n",
        "\n",
        "**Explanation:**  \n",
        "- `id()` ek unique number return karta hai jo memory address show karta hai.\n",
        "- `x`, `y`, `z` sab me `None` hi hai → isliye unka `id()` same hai.\n",
        "\n",
        "---\n",
        "\n",
        "```python\n",
        "print(\"x is y = \", x is y)\n",
        "print(\"x is z = \", x is z)\n",
        "```\n",
        "\n",
        "📌 Output:\n",
        "```\n",
        "x is y = True  \n",
        "x is z = True\n",
        "```\n",
        "\n",
        "**Explanation:**  \n",
        "- `is` check karta hai **object identity** → kya dono variables **same memory** ko point kar rahe hain?\n",
        "- `None` Python me ek hi object hai → isliye sabka reference same hai → result: `True`\n",
        "\n",
        "---\n",
        "\n",
        "```python\n",
        "print(\"id(x) is id(z) = \", id(x) is id(z))  # False\n",
        "```\n",
        "\n",
        "📌 Output: `False ❌`  \n",
        "**Explanation:**  \n",
        "Yeh thoda tricky hai 😄  \n",
        "- `id(x)` aur `id(z)` values to same hain (jaise: `123456`), **lekin** `is` operator check karta hai:  \n",
        "  > \"Kya `id(x)` aur `id(z)` **exact same object** hain?\"  \n",
        "  Yahan `id(x)` ek number hai, aur `id(z)` bhi ek number hai — lekin **do alag integers**.\n",
        "\n",
        "👉 Python sometimes makes **new integer objects** even with same value → isliye `False`.\n",
        "\n",
        "---\n",
        "\n",
        "```python\n",
        "print(\"id(x) == id(z) = \", id(x) == id(z))  # True ✅\n",
        "```\n",
        "\n",
        "📌 Output: `True`  \n",
        "**Explanation:**  \n",
        "- `==` sirf values compare karta hai.\n",
        "- Dono IDs ka number same hai, to `True`.\n",
        "\n",
        "---\n",
        "\n",
        "### ✅ Final Notes:\n",
        "\n",
        "| Operator | Kya karta hai? | Example | Result |\n",
        "|----------|----------------|---------|--------|\n",
        "| `==`     | Value compare   | `x == y` | `True` |\n",
        "| `is`     | Memory identity | `x is y` | `True` |\n",
        "| `id()`   | Memory address  | `id(x)`  | eg. `12345678` |\n",
        "\n",
        "---\n",
        "\n",
        "### 🎯 Summary (asaani version):\n",
        "\n",
        "- `None` = \"kuch bhi nahi\"  \n",
        "- Sirf ek hi `None` hota hai Python me  \n",
        "- `==` check karta hai value  \n",
        "- `is` check karta hai memory location  \n",
        "- `id()` se memory address milta hai\n",
        "\n",
        "---\n",
        "\n"
      ]
    },
    {
      "cell_type": "code",
      "execution_count": 1,
      "metadata": {
        "colab": {
          "base_uri": "https://localhost:8080/"
        },
        "id": "eXGkordZND2X",
        "outputId": "ad7d6750-c123-4f2e-fdc2-98553e11bc4a"
      },
      "outputs": [
        {
          "name": "stdout",
          "output_type": "stream",
          "text": [
            "<class 'NoneType'>\n",
            "value of x = None\n",
            "x == y =  True\n",
            "id(x) =  140708611697808\n",
            "id(y) =  140708611697808\n",
            "id(z) =  140708611697808\n",
            "x is y =  True\n",
            "x is z =  True\n",
            "id(x) is id(z) =  False\n",
            "id(x) == id(z) =  True\n"
          ]
        },
        {
          "data": {
            "text/plain": [
              "'\\nIn Python, `==` is the equality operator, which checks if the values of two objects are equal.\\nOn the other hand, `is` is the identity operator, which checks if two objects are the same object in memory.\\n'"
            ]
          },
          "execution_count": 1,
          "metadata": {},
          "output_type": "execute_result"
        }
      ],
      "source": [
        "x: str = None\n",
        "y: str = None\n",
        "z: str = x\n",
        "\n",
        "#display the data type of x:\n",
        "print(type(x))\n",
        "print(\"value of x = \" + str(x) )\n",
        "print(\"x == y = \", x == y)\n",
        "print(\"id(x) = \", id(x))\n",
        "print(\"id(y) = \", id(y))\n",
        "print(\"id(z) = \", id(z))\n",
        "print(\"x is y = \", x is y)\n",
        "print(\"x is z = \", x is z)\n",
        "print(\"id(x) is id(z) = \", id(x) is id(z)) # False :( why? you will get the answer in topic 'Integer Literals in Python'\n",
        "print(\"id(x) == id(z) = \", id(x) == id(z)) # True\n",
        "'''\n",
        "In Python, `==` is the equality operator, which checks if the values of two objects are equal.\n",
        "On the other hand, `is` is the identity operator, which checks if two objects are the same object in memory.\n",
        "'''"
      ]
    },
    {
      "cell_type": "code",
      "execution_count": null,
      "metadata": {
        "colab": {
          "base_uri": "https://localhost:8080/"
        },
        "id": "N9d9tESQ0mfp",
        "outputId": "5cf63552-1d8d-499c-f14f-216981c8e230"
      },
      "outputs": [
        {
          "name": "stdout",
          "output_type": "stream",
          "text": [
            "None is None            =  True\n",
            "None == None            =  True\n",
            "None == x               =  True\n",
            "None is x               =  True\n",
            "id(None) is id(None)    =  False\n"
          ]
        }
      ],
      "source": [
        "print(\"None is None            = \", None is None) # True\n",
        "print(\"None == None            = \", None == None) # True\n",
        "print(\"None == x               = \", None == x)\n",
        "print(\"None is x               = \", None is x)\n",
        "print(\"id(None) is id(None)    = \", id(None) is id(None)) # 'is' check memory space sharing\n",
        "#If number is out of integer literal range -5 to 256 then even the same number are considered as seprate object"
      ]
    },
    {
      "cell_type": "markdown",
      "metadata": {},
      "source": [
        "\n",
        "---\n",
        "\n",
        "## 🧠 Pehle samjho:\n",
        "```python\n",
        "id(x)\n",
        "id(z)\n",
        "```\n",
        "Yeh dono **`id()` function** ko call kar rahe hain — jo ek **number** (integer) return karta hai → memory address.\n",
        "\n",
        "Ab dekho:\n",
        "\n",
        "```python\n",
        "print(id(x) == id(z))  # ✅ True\n",
        "print(id(x) is id(z))  # ❌ False\n",
        "```\n",
        "\n",
        "To question hai:\n",
        "\n",
        "> 🧨 Jab `id(x) == id(z)` True hai...  \n",
        "> to `id(x) is id(z)` kyun False hai?\n",
        "\n",
        "---\n",
        "\n",
        "## 🔍 Jawab: Yeh `is` ka game hai!\n",
        "\n",
        "### 💥 Point 1: `==` vs `is`\n",
        "\n",
        "| Operator | Kaam kya karta hai?             |\n",
        "|----------|----------------------------------|\n",
        "| `==`     | **Value** compare karta hai      |\n",
        "| `is`     | **Object identity** compare karta hai (kya dono variables ek hi object ko point kar rahe hain?)\n",
        "\n",
        "---\n",
        "\n",
        "### 💡 Point 2: `id(x)` aur `id(z)` kya return karta hai?\n",
        "\n",
        "Yeh dono **integers return** karte hain, jaise:\n",
        "\n",
        "```python\n",
        "id(x)  →  12345678  (ek naya integer object)\n",
        "id(z)  →  12345678  (dusra naya integer object with same value)\n",
        "```\n",
        "\n",
        "Ab jab tum `id(x) is id(z)` likhte ho:\n",
        "\n",
        "- Dono **integers** ka value same hai (`==` → True)\n",
        "- Lekin wo **do alag objects** hain (`is` → False)\n",
        "\n",
        "---\n",
        "\n",
        "### 🧪 Prove karna chahte ho? Yeh dekho:\n",
        "\n",
        "```python\n",
        "a = 1000\n",
        "b = 1000\n",
        "\n",
        "print(a == b)  # True\n",
        "print(a is b)  # False → kyun? kyunki 1000 alag objects hain\n",
        "```\n",
        "\n",
        "Python me **small integers (-5 to 256)** ko memory me reuse kiya jata hai — **us range ke andar `is` True de sakta hai**, baaqi values ke liye nahi.\n",
        "\n",
        "---\n",
        "\n",
        "### ✅ Real-World Analogy:\n",
        "\n",
        "Socho:\n",
        "\n",
        "```python\n",
        "id(x) → ek slip jis pe likha hai: 12345  \n",
        "id(z) → doosri slip, usi pe likha hai: 12345  \n",
        "```\n",
        "\n",
        "- Dono slips ka **content same hai** → `==` True  \n",
        "- Lekin slips **alag hain** → `is` False\n",
        "\n",
        "---\n",
        "\n",
        "### 🔚 Summary:\n",
        "\n",
        "| Expression         | Kya karega?                     | Result |\n",
        "|--------------------|----------------------------------|--------|\n",
        "| `id(x) == id(z)`   | Dono numbers same hain?         | ✅ True |\n",
        "| `id(x) is id(z)`   | Dono number objects ek hi hain? | ❌ False |\n",
        "\n",
        "---\n",
        "\n"
      ]
    },
    {
      "cell_type": "markdown",
      "metadata": {
        "id": "ZQ2Ah68hWoRJ"
      },
      "source": [
        "**id() Function in Python**\n",
        "==========================\n",
        "\n",
        "The `id()` function in Python returns the `unique identifier` for an `object`. This identifier is a small integer that is unique among all objects currently in existence of your python environment.\n",
        "\n",
        "**What is the Purpose of id()**\n",
        "-----------------------------\n",
        "\n",
        "The `id()` function is used to:\n",
        "\n",
        "* **Identify objects**: The `id()` function returns a `unique identifier` that can be used to identify objects in memory.\n",
        "* **Check object equality**: By checking the `id()` of two objects, you can determine if they are the `same object in memory`.\n",
        "* **Debugging**: The `id()` function can be useful for debugging purposes, such as identifying which object is being referenced by a variable."
      ]
    },
    {
      "cell_type": "code",
      "execution_count": null,
      "metadata": {
        "colab": {
          "base_uri": "https://localhost:8080/"
        },
        "id": "85gAJTxuSaFT",
        "outputId": "bf145cab-218b-4428-9f0b-46fa2a6ee937"
      },
      "outputs": [
        {
          "name": "stdout",
          "output_type": "stream",
          "text": [
            "Variable x, y & z have 'None' value, as we know that 'None' is a singleton object,\n",
            "meaning that there is only one instance of `None` in the entire Python environment.\n",
            "So the id(x), id(y) & id(z) represents the same object id in memory.\n",
            "\n",
            "ID of variable x  = 9691392\n",
            "ID of variable y  = 9691392\n",
            "ID of variable z  = 9691392\n",
            "\n",
            "Is variable x & y shares the same memory space? \n",
            "The answer is: True\n"
          ]
        }
      ],
      "source": [
        "print(\"\"\"Variable x, y & z have 'None' value, as we know that 'None' is a singleton object,\n",
        "meaning that there is only one instance of `None` in the entire Python environment.\n",
        "So the id(x), id(y) & id(z) represents the same object id in memory.\\n\"\"\")\n",
        "\n",
        "x: str = None\n",
        "y: str = None\n",
        "z: str = x\n",
        "\n",
        "print(\"ID of variable x  = \" + str(id(x)))\n",
        "print(\"ID of variable y  = \" + str(id(y)))\n",
        "print(\"ID of variable z  = \" + str(id(z)))\n",
        "\n",
        "print(\"\\nIs variable x & y shares the same memory space? \\nThe answer is: \" + str(id(x) == id(y)))"
      ]
    },
    {
      "cell_type": "markdown",
      "metadata": {
        "id": "jZJ6q-znY-D0"
      },
      "source": [
        "**False in a boolean context**: `None` is considered `False` in a boolean context, meaning that it can be used in conditional statements.\n"
      ]
    },
    {
      "cell_type": "code",
      "execution_count": null,
      "metadata": {
        "colab": {
          "base_uri": "https://localhost:8080/"
        },
        "id": "2jRnWtc2Xw0t",
        "outputId": "16738338-7889-4bfb-acd4-1e288288d287"
      },
      "outputs": [
        {
          "name": "stdout",
          "output_type": "stream",
          "text": [
            "else block: As None is considered False, so this line of code will execute\n"
          ]
        }
      ],
      "source": [
        "if(None):\n",
        "  print(\"if block: This line of code will not execute because in Python 'None' is considered False\")\n",
        "else:\n",
        "  print(\"else block: As None is considered False, so this line of code will execute\")\n"
      ]
    },
    {
      "cell_type": "markdown",
      "metadata": {},
      "source": [
        "\n",
        "\n",
        "---\n",
        "\n",
        "### 🔤 Step 1: Literal ka matlab kya hota hai?\n",
        "**Literal** ka matlab hota hai:  \n",
        "📌 **Jo cheez aap directly likhtay ho code mein** — bina kisi variable ya function ke use ke.\n",
        "\n",
        "Example:\n",
        "```python\n",
        "5      # ye ek literal hai\n",
        "\"hello\"  # ye string literal hai\n",
        "True     # boolean literal hai\n",
        "```\n",
        "\n",
        "---\n",
        "\n",
        "### 🔢 Step 2: Integer literal kya hota hai?\n",
        "**Integer literal** matlab:\n",
        "📌 Aap jab **ek number seedha code mein likhtay ho** — bina kisi calculation ke.\n",
        "\n",
        "Example:\n",
        "```python\n",
        "x = 10  # yahan 10 ek integer literal hai\n",
        "```\n",
        "\n",
        "Yahan `10` wo number hai jo aap **direct likh rahe ho** — is liye ye ek **integer literal** hai.\n",
        "\n",
        "---\n",
        "\n",
        "### ✅ More Examples of integer literals:\n",
        "\n",
        "```python\n",
        "x = 0        # integer literal\n",
        "y = -7       # negative integer literal\n",
        "z = 123456   # big integer literal\n",
        "```\n",
        "\n",
        "Sab numbers jo aap seedha likhtay ho bina kisi expression ya calculation ke — ye **integer literals** kehlatay hain.\n",
        "\n",
        "---\n",
        "\n",
        "### ❌ Not an integer literal:\n",
        "```python\n",
        "a = 5 + 3  # yahaan 8 literal nahi, result of an expression hai\n",
        "```\n",
        "\n",
        "Yahan `5` aur `3` to literals hain, **lekin `5 + 3` ka result `8`** directly literal nahi hai — wo ek **evaluated value** hai.\n",
        "\n",
        "---\n",
        "\n"
      ]
    },
    {
      "cell_type": "markdown",
      "metadata": {},
      "source": [
        "\n",
        "---\n",
        "\n",
        "### 1️⃣ **String Literal**:\n",
        "**String literal** wo hota hai jo aap **directly** likhtay ho, jaise text ko quotation marks mein daalna.\n",
        "\n",
        "Example:\n",
        "```python\n",
        "name = \"Ali\"  # \"Ali\" ek string literal hai\n",
        "greeting = 'Hello!'  # 'Hello!' bhi string literal hai\n",
        "```\n",
        "Yahan `\"Ali\"` aur `'Hello!'` **string literals** hain, kyunki ye **direct text** hain.\n",
        "\n",
        "---\n",
        "\n",
        "### 2️⃣ **Float Literal**:\n",
        "**Float literal** wo numbers hote hain jo **decimal point** ke sath hote hain.\n",
        "\n",
        "Example:\n",
        "```python\n",
        "pi = 3.14   # 3.14 ek float literal hai\n",
        "price = 99.99  # 99.99 bhi float literal hai\n",
        "```\n",
        "Yahan `3.14` aur `99.99` **float literals** hain, kyunki inmein decimal point hota hai.\n",
        "\n",
        "---\n",
        "\n",
        "### 3️⃣ **Boolean Literal**:\n",
        "**Boolean literal** wo values hoti hain jo **True** ya **False** hoti hain.\n",
        "\n",
        "Example:\n",
        "```python\n",
        "is_active = True    # True ek boolean literal hai\n",
        "is_done = False     # False bhi boolean literal hai\n",
        "```\n",
        "Yahan `True` aur `False` **boolean literals** hain, jo logical values ko represent karte hain.\n",
        "\n",
        "---\n",
        "\n",
        "### 🔄 Recap:\n",
        "- **Integer literal**: Bas numbers jo aap directly likhte ho, jaise `5`, `-3`.\n",
        "- **String literal**: Text jo quotation marks mein likhte ho, jaise `\"hello\"`, `'world'`.\n",
        "- **Float literal**: Numbers jo decimal point ke saath likhte ho, jaise `3.14`, `99.99`.\n",
        "- **Boolean literal**: True ya False values, jaise `True`, `False`.\n",
        "\n",
        "---\n",
        "\n"
      ]
    },
    {
      "cell_type": "markdown",
      "metadata": {
        "id": "C22LcHoiaAMM"
      },
      "source": [
        "**Integer Literals in Python**\n",
        "==========================\n",
        "\n",
        "In Python, an integer literal is a sequence of characters that represents an integer value. Integer literals are used to define integer constants in Python code.\n",
        "\n",
        "**Memory Space Sharing**\n",
        "================================\n",
        "\n",
        "In Python, integer literals can share the `same memory space` under certain conditions. This is due to a process called **`interning`**, where Python stores a pool of interned objects that can be reused when the same value is needed again."
      ]
    },
    {
      "cell_type": "markdown",
      "metadata": {
        "id": "2wrMqLFBUFUY"
      },
      "source": [
        "Lets assign value to variable x, y & z"
      ]
    },
    {
      "cell_type": "code",
      "execution_count": null,
      "metadata": {
        "colab": {
          "base_uri": "https://localhost:8080/"
        },
        "id": "UPlE9RWnUDeI",
        "outputId": "791e366c-5f4c-41d9-f549-2dade8f3a88b"
      },
      "outputs": [
        {
          "name": "stdout",
          "output_type": "stream",
          "text": [
            "Value of x = 1, and id(x) = 10750856\n",
            "Value of y = 1, and id(y) = 10750856\n",
            "Value of z = 1, and id(y) = 10750856\n",
            "id(x) == id(y) =  True\n",
            "id(x) is id(y) =  False\n"
          ]
        }
      ],
      "source": [
        "x: int = 1\n",
        "y: int = 1\n",
        "z: int = x\n",
        "\n",
        "print(\"Value of x = \" + str(x) + \", and id(x) = \" + str(id(x))) # when you need to concatinate any thing with string you need to first cast it to str()\n",
        "print(\"Value of y = \" + str(y) + \", and id(y) = \" + str(id(y)))\n",
        "print(\"Value of z = \" + str(z) + \", and id(z) = \" + str(id(z)))\n",
        "print(\"id(x) == id(y) = \", id(x) == id(y) )\n",
        "print(\"id(x) is id(y) = \", id(x) is id(y) ) # ;)"
      ]
    },
    {
      "cell_type": "markdown",
      "metadata": {
        "id": "eYygWTpRcAtp"
      },
      "source": [
        "**Integer Interning in Python**\n",
        "-----------------------------\n",
        "\n",
        "In Python, integers in the range *`-5 to 256`* are interned, meaning that they are stored in a `pool of interned objects`. This means that when you create an integer literal within this range, Python returns a reference to the existing object in the pool."
      ]
    },
    {
      "cell_type": "markdown",
      "metadata": {},
      "source": [
        "\n",
        "\n",
        "---\n",
        "\n",
        "### 🔢 Step 1: Python mein numbers (integers) kya hotay hain?\n",
        "Python mein jab hum koi number likhtay hain, jaise `a = 10`, to Python is number ke liye memory mein ek object banata hai.\n",
        "\n",
        "---\n",
        "\n",
        "### 🔁 Step 2: Lekin har dafa naye number ke liye nayi memory banana slow ho sakta hai  \n",
        "Agar aap bar bar ek hi number likh rahe ho, jaise:\n",
        "\n",
        "```python\n",
        "a = 10\n",
        "b = 10\n",
        "```\n",
        "\n",
        "To Python agar har bar naye object banaye, to yeh inefficient ho jata hai.\n",
        "\n",
        "---\n",
        "\n",
        "### 💡 Step 3: Python ka smart tareeqa — **interning**\n",
        "Python kuch specific numbers ko **pehlay se hi memory mein rakh leta hai**, taake agar wohi number phir se likha jaye, to **same object ka reference** diya jaye. Isay kehtay hain **Integer Interning**.\n",
        "\n",
        "---\n",
        "\n",
        "### 📏 Step 4: Kaunse numbers intern hotay hain?\n",
        "Sirf ye range intern hoti hai:  \n",
        "👉 **`-5` se le kar `256` tak ke numbers**\n",
        "\n",
        "Agar aap inhi numbers ka istemal karain:\n",
        "\n",
        "```python\n",
        "x = 100\n",
        "y = 100\n",
        "print(x is y)  # Output: True\n",
        "```\n",
        "\n",
        "Yahan `x` aur `y` dono **same object** ko point kar rahe hain, is liye `x is y` ➝ `True`.\n",
        "\n",
        "---\n",
        "\n",
        "### 🚫 Step 5: Bahar walay numbers intern nahi hotay\n",
        "Agar aap is range ke bahar koi number likho, to Python naya object banata hai:\n",
        "\n",
        "```python\n",
        "x = 1000\n",
        "y = 1000\n",
        "print(x is y)  # Output: False\n",
        "```\n",
        "\n",
        "Yahan `x` aur `y` alag alag objects hain, to `x is y` ➝ `False`.\n",
        "\n",
        "---\n",
        "\n",
        "### 🔍 Extra Tip: `is` vs `==`\n",
        "- `==` ➝ value compare karta hai  \n",
        "- `is` ➝ object identity compare karta hai (yaani memory location)\n",
        "\n",
        "```python\n",
        "a = 1000\n",
        "b = 1000\n",
        "print(a == b)  # True, kyun ke values same hain\n",
        "print(a is b)  # False, kyun ke objects alag hain\n",
        "```\n",
        "\n",
        "---\n",
        "\n",
        "\n",
        "\n"
      ]
    },
    {
      "cell_type": "code",
      "execution_count": null,
      "metadata": {
        "colab": {
          "base_uri": "https://localhost:8080/"
        },
        "id": "6UMzIoohb3Bq",
        "outputId": "88070b1c-c695-49f3-add6-66280e8a174a"
      },
      "outputs": [
        {
          "name": "stdout",
          "output_type": "stream",
          "text": [
            "Value of x = -6, and id(x) = 133526994143664\n",
            "Value of y = -6, and id(y) = 133526994150640\n",
            "Value of z = -6, and id(y) = 133526994143664\n",
            "\n",
            " ===================== \n",
            "\n",
            "Value of x = 257, and id(a) = 133526994150128\n",
            "Value of y = 257, and id(b) = 133526994151344\n",
            "Value of z = 257, and id(c) = 133526994150128\n"
          ]
        }
      ],
      "source": [
        "x = -6\n",
        "y = -6\n",
        "z = x\n",
        "\n",
        "print(\"Value of x = \" + str(x) + \", and id(x) = \" + str(id(x)))\n",
        "print(\"Value of y = \" + str(y) + \", and id(y) = \" + str(id(y)))\n",
        "print(\"Value of z = \" + str(z) + \", and id(z) = \" + str(id(z)))\n",
        "\n",
        "print(\"\\n ===================== \\n\")\n",
        "\n",
        "a = 257\n",
        "b = 257\n",
        "c = a\n",
        "\n",
        "print(\"Value of x = \" + str(a) + \", and id(a) = \" + str(id(a)))\n",
        "print(\"Value of y = \" + str(b) + \", and id(b) = \" + str(id(b)))\n",
        "print(\"Value of z = \" + str(c) + \", and id(c) = \" + str(id(c)))"
      ]
    },
    {
      "cell_type": "markdown",
      "metadata": {
        "id": "12w2jPTrtznM"
      },
      "source": [
        "Greenland Shark. Living in the waters of—you guessed it—Greenland, this shark lives for 300 to 500 years. It has the longest known lifespan of any vertebrate species"
      ]
    },
    {
      "cell_type": "code",
      "execution_count": null,
      "metadata": {
        "colab": {
          "base_uri": "https://localhost:8080/"
        },
        "id": "MoTdqsRjtBZt",
        "outputId": "187a1b4a-3d20-42a7-8f80-ed0f3a6ef005"
      },
      "outputs": [
        {
          "name": "stdout",
          "output_type": "stream",
          "text": [
            "Value of shark1_age = 300, and id(shark1_age) = 133526994151600\n",
            "Value of shark2_age = 300, and id(shark2_age) = 133526994146032\n",
            "shark1_age & shark2_age have same age\n",
            " ===================== \n",
            "shark1_age & shark2_age have different id\n"
          ]
        }
      ],
      "source": [
        "shark1_age = 300\n",
        "shark2_age = 300\n",
        "\n",
        "print(\"Value of shark1_age = \" + str(shark1_age) + \", and id(shark1_age) = \" + str(id(shark1_age)))\n",
        "print(\"Value of shark2_age = \" + str(shark2_age) + \", and id(shark2_age) = \" + str(id(shark2_age)))\n",
        "\n",
        "if(shark1_age == shark2_age): #comparison by value\n",
        "  print(\"shark1_age & shark2_age have same age\")\n",
        "else:\n",
        "  print(\"shark1_age & shark2_age have different age\")\n",
        "\n",
        "print(\" ===================== \")\n",
        "\n",
        "if(id(shark1_age) == id(shark2_age)):#comparison by id()\n",
        "  print(\"shark1_age & shark2_age have same id\")\n",
        "else:\n",
        "  print(\"shark1_age & shark2_age have different id\")"
      ]
    },
    {
      "cell_type": "markdown",
      "metadata": {
        "id": "qH_viLhZpRDH"
      },
      "source": [
        "# **Type Casting**\n",
        "----------------\n",
        "\n",
        "Type casting is the process of converting a value of one data type to another data type. Python supports several types of type casting, including:\n",
        "\n",
        "1. **Implicit Type Casting**: Python automatically converts a value of one data type to another data type when necessary. For example, when you add an integer and a float, Python converts the integer to a float.\n",
        "2. **Explicit Type Casting**: You can use functions like `int()`, `float()`, `str()`, and `bool()` to explicitly convert a value of one data type to another data type."
      ]
    },
    {
      "cell_type": "code",
      "execution_count": null,
      "metadata": {
        "colab": {
          "base_uri": "https://localhost:8080/"
        },
        "id": "nOekIi3ze4TI",
        "outputId": "56b8d6de-d163-4dcf-e2bf-43ee7723c496"
      },
      "outputs": [
        {
          "name": "stdout",
          "output_type": "stream",
          "text": [
            "Value of i = 10,     Type of i = <class 'int'>\n",
            "Value of f = 30.6,   Type of f = <class 'float'>\n",
            "Value of f1 = 66.89, Type of i = <class 'float'>\n",
            "Value of i1 = 66,    Type of i = <class 'int'>\n",
            "Value of f2 = 25.8,  Type of i = <class 'float'>\n"
          ]
        }
      ],
      "source": [
        "i: int = 10\n",
        "print(\"Value of i = \" + str(i) + \",     Type of i = \" + str(type(i)))\n",
        "\n",
        "j: float = 20.6\n",
        "\n",
        "f: float = i + j #Implicit Type Casting\n",
        "print(\"Value of f = \" + str(f) + \",   Type of f = \" + str(type(f)))\n",
        "\n",
        "f1: float = 66.89\n",
        "print(\"Value of f1 = \" + str(f1) + \", Type of i = \" + str(type(f1)))\n",
        "\n",
        "i1: int = int(f1) #When ever you type cast a float value into an integer it truncate\n",
        "             #the decimal part and only keeps the whole number\n",
        "print(\"Value of i1 = \" + str(i1) + \",    Type of i = \" + str(type(i1)))\n",
        "\n",
        "s: str = \"25.8\"\n",
        "f2: float = float(s)\n",
        "print(\"Value of f2 = \" + str(f2) + \",  Type of i = \" + str(type(f2)))\n",
        "\n",
        "#uncomment the below line of code to see error\n",
        "#i2 = int(s) #correct this error by casting with float()\n",
        "#print(\"Value of i2 = \" + str(i2) + \", Type of i = \" + str(type(i2)))\n",
        "\n"
      ]
    },
    {
      "cell_type": "markdown",
      "metadata": {
        "id": "i7l0I5UMlP0y"
      },
      "source": [
        "**Truthy and Falsy Values in context of boolean data type**\n",
        "-------------------------\n",
        "\n",
        "In Python, some values are considered **truthy**, while others are considered **falsy**. Truthy values are treated as `True` in a boolean context, while falsy values are treated as `False`.\n",
        "\n",
        "Here are some examples of truthy and falsy values:\n",
        "\n",
        "* Truthy values:\n",
        "\t+ Non-zero integers (e.g., `1`, `2`, `-3`, etc.)\n",
        "\t+ Non-empty strings (e.g., `\"hello\"`, `\"world\"`, etc.)\n",
        "\t+ Non-empty lists (e.g., `[1, 2, 3]`, `[\"a\", \"b\", \"c\"]`, etc.)\n",
        "\t+ Non-empty dictionaries (e.g., `{\"a\": 1, \"b\": 2}`, etc.)\n",
        "* Falsy values:\n",
        "\t+ Zero (e.g., `0`)\n",
        "\t+ Empty strings (e.g., `\"\"`)\n",
        "\t+ Empty lists (e.g., `[]`)\n",
        "\t+ Empty dictionaries (e.g., `{}`)\n",
        "\t+ `None`"
      ]
    },
    {
      "cell_type": "code",
      "execution_count": null,
      "metadata": {
        "colab": {
          "base_uri": "https://localhost:8080/"
        },
        "id": "DiHzbLbkjyGc",
        "outputId": "db73d34b-626c-4b38-d283-8495c291c0ed"
      },
      "outputs": [
        {
          "name": "stdout",
          "output_type": "stream",
          "text": [
            "Value of b = True, Type of b = <class 'bool'>\n",
            "\n",
            " =================== \n",
            "\n",
            "if block: This line of code will execute if we provide any integer value\n",
            "          other then '0' ZERO\n",
            "\n",
            " =================== \n",
            "\n",
            "check: bool(\"55\")             =  True\n",
            "check: bool(\"\")               =  False\n",
            "check: bool([1, 2, 3])        =  True\n",
            "check: bool({\"key\", \"value\"}) =  True\n",
            "check: bool([])               =  False\n",
            "check: bool({})               =  False\n"
          ]
        }
      ],
      "source": [
        "k: int = -9 #Any number either positive or negative, beside '0' ZERO is considered True\n",
        "b: bool = bool(k)\n",
        "print(\"Value of b = \" + str(b) + \", Type of b = \" + str(type(b)))\n",
        "\n",
        "print(\"\\n =================== \\n\")\n",
        "\n",
        "if(k):\n",
        "  print(\"\"\"if block: This line of code will execute if we provide any integer value\n",
        "          other then '0' ZERO\"\"\")\n",
        "else:\n",
        "  print(\"else block: As '0' is considered False, so this line of code will not execute\")\n",
        "\n",
        "print(\"\\n =================== \\n\")\n",
        "\n",
        "print(\"check: bool(\\\"55\\\")             = \", bool(\"55\"))\n",
        "print(\"check: bool(\\\"\\\")               = \", bool(\"\"))\n",
        "print(\"check: bool([1, 2, 3])        = \", bool([1, 2, 3]))\n",
        "print(\"check: bool({\\\"key\\\", \\\"value\\\"}) = \", bool({\"key\", \"value\"}))\n",
        "\n",
        "#Note: we will learn about list and dictionary in up comming classes\n",
        "print(\"check: bool([])               = \", bool([])) #[] square brackets used to represent list\n",
        "print(\"check: bool({})               = \", bool({})) #{} curly brackets used to represent dictionary\n"
      ]
    },
    {
      "cell_type": "markdown",
      "metadata": {
        "id": "cqchNJzcURGh"
      },
      "source": [
        "**isinstance() Function in Python**\n",
        "==================================\n",
        "\n",
        "The `isinstance()` function in Python is used to check if an object (first argument) is an instance of a class (second argument). It returns `True` if the object is an instance of the class, and `False` otherwise.\n",
        "\n",
        "**Syntax**\n",
        "---------\n",
        "\n",
        "The syntax of the `isinstance()` function is as follows:\n",
        "```python\n",
        "isinstance(object, classinfo)\n",
        "```\n",
        "Where:\n",
        "\n",
        "* `object` is the object to be checked.\n",
        "* `classinfo` is the class or a tuple of classes to check against.\n"
      ]
    },
    {
      "cell_type": "code",
      "execution_count": null,
      "metadata": {
        "colab": {
          "base_uri": "https://localhost:8080/"
        },
        "id": "EAhJes-rTyhr",
        "outputId": "abb6385c-06d5-4631-acd3-dbbe2c55dd0f"
      },
      "outputs": [
        {
          "name": "stdout",
          "output_type": "stream",
          "text": [
            "check: isinstance(age, int)      =  True\n",
            "check: isinstance(weight, int)   =  False\n",
            "check: isinstance(weight, float) =  True\n"
          ]
        }
      ],
      "source": [
        "age: int = 20\n",
        "weight: float = 66.89\n",
        "print(\"check: isinstance(age, int)      = \", isinstance(age, int))\n",
        "print(\"check: isinstance(weight, int)   = \", isinstance(weight, int))\n",
        "print(\"check: isinstance(weight, float) = \", isinstance(weight, float))"
      ]
    },
    {
      "cell_type": "markdown",
      "metadata": {},
      "source": [
        "\n",
        "### **1. Numeric Types**\n",
        "1. **What is the output of `type(3.14)` in Python?**  \n",
        "   a) `<class 'int'>`  \n",
        "   b) `<class 'float'>`  \n",
        "   c) `<class 'complex'>`  \n",
        "   d) `<class 'decimal'>`  \n",
        "   **Answer:** b) `<class 'float'>`  \n",
        "   **Explanation:** Numbers with decimal points are of type `float` in Python.\n",
        "\n",
        "---\n",
        "\n",
        "2. **Which of the following is a valid complex number in Python?**  \n",
        "   a) `2 + 3i`  \n",
        "   b) `2 + 3j`  \n",
        "   c) `2 + j3`  \n",
        "   d) `2i + 3`  \n",
        "   **Answer:** b) `2 + 3j`  \n",
        "   **Explanation:** In Python, the imaginary part is denoted with `j`, not `i`.\n",
        "\n",
        "---\n",
        "\n",
        "3. **What is the result of `z.real` if `z = 3 + 4j`?**  \n",
        "   a) `3`  \n",
        "   b) `4`  \n",
        "   c) `3.0`  \n",
        "   d) `4.0`  \n",
        "   **Answer:** c) `3.0`  \n",
        "   **Explanation:** The `real` attribute of a complex number returns a float.\n",
        "\n",
        "---\n",
        "\n",
        "4. **What is the value of `z.imag` if `z = 2 + 5j`?**  \n",
        "   a) `2`  \n",
        "   b) `5`  \n",
        "   c) `2.0`  \n",
        "   d) `5.0`  \n",
        "   **Answer:** d) `5.0`  \n",
        "   **Explanation:** The `imag` attribute returns the imaginary part as a float.\n",
        "\n",
        "---\n",
        "\n",
        "5. **Which function is used to check if a variable is of type `int`?**  \n",
        "   a) `type()`  \n",
        "   b) `isinstance()`  \n",
        "   c) `checktype()`  \n",
        "   d) `typeof()`  \n",
        "   **Answer:** b) `isinstance()`  \n",
        "   **Explanation:** `isinstance(var, int)` checks if `var` is an integer.\n",
        "\n",
        "---\n",
        "\n",
        "### **2. Boolean**\n",
        "6. **What is the output of `bool(0)`?**  \n",
        "   a) `True`  \n",
        "   b) `False`  \n",
        "   c) `None`  \n",
        "   d) `Error`  \n",
        "   **Answer:** b) `False`  \n",
        "   **Explanation:** `0` is a falsy value in Python.\n",
        "\n",
        "---\n",
        "\n",
        "7. **Which of the following is considered `True` in a boolean context?**  \n",
        "   a) `\"\"`  \n",
        "   b) `[]`  \n",
        "   c) `1`  \n",
        "   d) `None`  \n",
        "   **Answer:** c) `1`  \n",
        "   **Explanation:** Non-zero integers are truthy.\n",
        "\n",
        "---\n",
        "\n",
        "8. **What is the output of `bool(\"False\")`?**  \n",
        "   a) `False`  \n",
        "   b) `True`  \n",
        "   c) `None`  \n",
        "   d) `Error`  \n",
        "   **Answer:** b) `True`  \n",
        "   **Explanation:** Non-empty strings are truthy, regardless of content.\n",
        "\n",
        "---\n",
        "\n",
        "9. **Which of the following is falsy?**  \n",
        "   a) `\"0\"`  \n",
        "   b) `[0]`  \n",
        "   c) `{}`  \n",
        "   d) `-1`  \n",
        "   **Answer:** c) `{}`  \n",
        "   **Explanation:** Empty dictionaries are falsy.\n",
        "\n",
        "---\n",
        "\n",
        "10. **What is the output of `bool(None)`?**  \n",
        "    a) `True`  \n",
        "    b) `False`  \n",
        "    c) `None`  \n",
        "    d) `Error`  \n",
        "    **Answer:** b) `False`  \n",
        "    **Explanation:** `None` is falsy.\n",
        "\n",
        "---\n",
        "\n",
        "### **3. Sequence Types (Strings, Lists, Tuples, Range)**\n",
        "11. **Which of the following creates a multi-line string?**  \n",
        "    a) `'Hello'`  \n",
        "    b) `'''Hello'''`  \n",
        "    c) `\\\"Hello\\\"`  \n",
        "    d) `str('Hello')`  \n",
        "    **Answer:** b) `'''Hello'''`  \n",
        "    **Explanation:** Triple quotes allow multi-line strings.\n",
        "\n",
        "---\n",
        "\n",
        "12. **What is the output of `type([1, 2, 3])`?**  \n",
        "    a) `<class 'tuple'>`  \n",
        "    b) `<class 'list'>`  \n",
        "    c) `<class 'array'>`  \n",
        "    d) `<class 'set'>`  \n",
        "    **Answer:** b) `<class 'list'>`  \n",
        "    **Explanation:** Square brackets denote a list.\n",
        "\n",
        "---\n",
        "\n",
        "13. **Which of the following is immutable?**  \n",
        "    a) List  \n",
        "    b) Tuple  \n",
        "    c) Set  \n",
        "    d) Dictionary  \n",
        "    **Answer:** b) Tuple  \n",
        "    **Explanation:** Tuples are immutable.\n",
        "\n",
        "---\n",
        "\n",
        "14. **What does `range(1, 10, 2)` generate?**  \n",
        "    a) `[1, 3, 5, 7, 9]`  \n",
        "    b) `[1, 2, 3, 4, 5, 6, 7, 8, 9]`  \n",
        "    c) `[2, 4, 6, 8]`  \n",
        "    d) `[1, 3, 5, 7, 9, 11]`  \n",
        "    **Answer:** a) `[1, 3, 5, 7, 9]`  \n",
        "    **Explanation:** `range(start, stop, step)` generates numbers from `start` to `stop-1` with given `step`.\n",
        "\n",
        "---\n",
        "\n",
        "15. **What is the output of `type((1,))`?**  \n",
        "    a) `<class 'int'>`  \n",
        "    b) `<class 'tuple'>`  \n",
        "    c) `<class 'list'>`  \n",
        "    d) `<class 'set'>`  \n",
        "    **Answer:** b) `<class 'tuple'>`  \n",
        "    **Explanation:** A single-element tuple requires a trailing comma.\n",
        "\n",
        "---\n",
        "\n",
        "### **4. Set Types**\n",
        "16. **What is the output of `{1, 2, 2, 3}`?**  \n",
        "    a) `{1, 2, 2, 3}`  \n",
        "    b) `{1, 2, 3}`  \n",
        "    c) `{1, 2}`  \n",
        "    d) `Error`  \n",
        "    **Answer:** b) `{1, 2, 3}`  \n",
        "    **Explanation:** Sets store unique values.\n",
        "\n",
        "---\n",
        "\n",
        "17. **Which of the following is mutable?**  \n",
        "    a) `frozenset([1, 2])`  \n",
        "    b) `{1, 2}`  \n",
        "    c) `(1, 2)`  \n",
        "    d) `None`  \n",
        "    **Answer:** b) `{1, 2}`  \n",
        "    **Explanation:** Sets are mutable, unlike `frozenset`.\n",
        "\n",
        "---\n",
        "\n",
        "18. **What is the output of `len({1, 1, 1})`?**  \n",
        "    a) `1`  \n",
        "    b) `3`  \n",
        "    c) `0`  \n",
        "    d) `Error`  \n",
        "    **Answer:** a) `1`  \n",
        "    **Explanation:** Sets store only unique elements.\n",
        "\n",
        "---\n",
        "\n",
        "19. **Which method adds an element to a set?**  \n",
        "    a) `append()`  \n",
        "    b) `add()`  \n",
        "    c) `insert()`  \n",
        "    d) `update()`  \n",
        "    **Answer:** b) `add()`  \n",
        "    **Explanation:** `add()` is used for sets.\n",
        "\n",
        "---\n",
        "\n",
        "20. **What is the output of `type(frozenset())`?**  \n",
        "    a) `<class 'set'>`  \n",
        "    b) `<class 'frozenset'>`  \n",
        "    c) `<class 'tuple'>`  \n",
        "    d) `<class 'list'>`  \n",
        "    **Answer:** b) `<class 'frozenset'>`  \n",
        "    **Explanation:** `frozenset` is an immutable set.\n",
        "\n",
        "---\n",
        "\n",
        "### **5. Mapping Type (Dictionary)**\n",
        "21. **What is the output of `type({'a': 1})`?**  \n",
        "    a) `<class 'list'>`  \n",
        "    b) `<class 'dict'>`  \n",
        "    c) `<class 'set'>`  \n",
        "    d) `<class 'tuple'>`  \n",
        "    **Answer:** b) `<class 'dict'>`  \n",
        "    **Explanation:** Curly braces with key-value pairs denote a dictionary.\n",
        "\n",
        "---\n",
        "\n",
        "22. **Which of the following is a valid dictionary key?**  \n",
        "    a) `[1, 2]`  \n",
        "    b) `{'a': 1}`  \n",
        "    c) `(1, 2)`  \n",
        "    d) `{1, 2}`  \n",
        "    **Answer:** c) `(1, 2)`  \n",
        "    **Explanation:** Only immutable types can be dictionary keys.\n",
        "\n",
        "---\n",
        "\n",
        "23. **What is the output of `{} == dict()`?**  \n",
        "    a) `True`  \n",
        "    b) `False`  \n",
        "    c) `Error`  \n",
        "    d) `None`  \n",
        "    **Answer:** a) `True`  \n",
        "    **Explanation:** Both create empty dictionaries.\n",
        "\n",
        "---\n",
        "\n",
        "24. **How do you access the value for key `'a'` in `d = {'a': 1}`?**  \n",
        "    a) `d[0]`  \n",
        "    b) `d('a')`  \n",
        "    c) `d['a']`  \n",
        "    d) `d.a`  \n",
        "    **Answer:** c) `d['a']`  \n",
        "    **Explanation:** Dictionary values are accessed via keys in square brackets.\n",
        "\n",
        "---\n",
        "\n",
        "25. **What is the output of `len({'a': 1, 'b': 2})`?**  \n",
        "    a) `1`  \n",
        "    b) `2`  \n",
        "    c) `0`  \n",
        "    d) `Error`  \n",
        "    **Answer:** b) `2`  \n",
        "    **Explanation:** `len()` counts the number of key-value pairs.\n",
        "\n",
        "---\n",
        "\n",
        "### **6. Binary Types (Bytes, Bytearray, Memoryview)**\n",
        "26. **What is the output of `type(b'Hello')`?**  \n",
        "    a) `<class 'str'>`  \n",
        "    b) `<class 'bytes'>`  \n",
        "    c) `<class 'bytearray'>`  \n",
        "    d) `<class 'memoryview'>`  \n",
        "    **Answer:** b) `<class 'bytes'>`  \n",
        "    **Explanation:** The `b` prefix denotes a bytes object.\n",
        "\n",
        "---\n",
        "\n",
        "27. **Which of the following is mutable?**  \n",
        "    a) `bytes`  \n",
        "    b) `bytearray`  \n",
        "    c) `str`  \n",
        "    d) `tuple`  \n",
        "    **Answer:** b) `bytearray`  \n",
        "    **Explanation:** `bytearray` is mutable, unlike `bytes`.\n",
        "\n",
        "---\n",
        "\n",
        "28. **What is the output of `bytearray([65, 66])`?**  \n",
        "    a) `b'AB'`  \n",
        "    b) `bytearray(b'AB')`  \n",
        "    c) `[65, 66]`  \n",
        "    d) `Error`  \n",
        "    **Answer:** b) `bytearray(b'AB')`  \n",
        "    **Explanation:** `bytearray` converts integers to corresponding ASCII characters.\n",
        "\n",
        "---\n",
        "\n",
        "29. **What does `memoryview(b'Hello')` return?**  \n",
        "    a) A copy of the bytes object  \n",
        "    b) A view of the bytes object  \n",
        "    c) A list of integers  \n",
        "    d) A string  \n",
        "    **Answer:** b) A view of the bytes object  \n",
        "    **Explanation:** `memoryview` provides a direct view of the data without copying.\n",
        "\n",
        "---\n",
        "\n",
        "30. **How do you convert `bytearray(b'AB')` to a string?**  \n",
        "    a) `str(bytearray(b'AB'))`  \n",
        "    b) `bytearray(b'AB').decode()`  \n",
        "    c) `bytearray(b'AB').tostring()`  \n",
        "    d) `bytes(bytearray(b'AB'))`  \n",
        "    **Answer:** b) `bytearray(b'AB').decode()`  \n",
        "    **Explanation:** `decode()` converts bytes/bytearray to a string.\n",
        "\n",
        "---\n",
        "\n",
        "### **7. None Type**\n",
        "31. **What is the output of `type(None)`?**  \n",
        "    a) `<class 'None'>`  \n",
        "    b) `<class 'NoneType'>`  \n",
        "    c) `<class 'null'>`  \n",
        "    d) `<class 'object'>`  \n",
        "    **Answer:** b) `<class 'NoneType'>`  \n",
        "    **Explanation:** `None` is of type `NoneType`.\n",
        "\n",
        "---\n",
        "\n",
        "32. **What is the output of `None == False`?**  \n",
        "    a) `True`  \n",
        "    b) `False`  \n",
        "    c) `None`  \n",
        "    d) `Error`  \n",
        "    **Answer:** b) `False`  \n",
        "    **Explanation:** `None` is not equal to `False`.\n",
        "\n",
        "---\n",
        "\n",
        "33. **What is the output of `bool(None)`?**  \n",
        "    a) `True`  \n",
        "    b) `False`  \n",
        "    c) `None`  \n",
        "    d) `Error`  \n",
        "    **Answer:** b) `False`  \n",
        "    **Explanation:** `None` is falsy.\n",
        "\n",
        "---\n",
        "\n",
        "34. **What is the output of `id(None) == id(None)`?**  \n",
        "    a) `True`  \n",
        "    b) `False`  \n",
        "    c) `None`  \n",
        "    d) `Error`  \n",
        "    **Answer:** a) `True`  \n",
        "    **Explanation:** `None` is a singleton object.\n",
        "\n",
        "---\n",
        "\n",
        "35. **What is the output of `None is None`?**  \n",
        "    a) `True`  \n",
        "    b) `False`  \n",
        "    c) `None`  \n",
        "    d) `Error`  \n",
        "    **Answer:** a) `True`  \n",
        "    **Explanation:** `None` is the same object everywhere.\n",
        "\n",
        "---\n",
        "\n",
        "### **8. Type Casting**\n",
        "36. **What is the output of `int(3.9)`?**  \n",
        "    a) `3`  \n",
        "    b) `4`  \n",
        "    c) `3.0`  \n",
        "    d) `Error`  \n",
        "    **Answer:** a) `3`  \n",
        "    **Explanation:** `int()` truncates the decimal part.\n",
        "\n",
        "---\n",
        "\n",
        "37. **What is the output of `float('3.14')`?**  \n",
        "    a) `3`  \n",
        "    b) `3.14`  \n",
        "    c) `'3.14'`  \n",
        "    d) `Error`  \n",
        "    **Answer:** b) `3.14`  \n",
        "    **Explanation:** `float()` converts a string to a float.\n",
        "\n",
        "---\n",
        "\n",
        "38. **What is the output of `str(True)`?**  \n",
        "    a) `'1'`  \n",
        "    b) `'True'`  \n",
        "    c) `True`  \n",
        "    d) `Error`  \n",
        "    **Answer:** b) `'True'`  \n",
        "    **Explanation:** `str()` converts a boolean to its string representation.\n",
        "\n",
        "---\n",
        "\n",
        "39. **What is the output of `bool('False')`?**  \n",
        "    a) `False`  \n",
        "    b) `True`  \n",
        "    c) `None`  \n",
        "    d) `Error`  \n",
        "    **Answer:** b) `True`  \n",
        "    **Explanation:** Non-empty strings are truthy.\n",
        "\n",
        "---\n",
        "\n",
        "40. **What is the output of `list('Hello')`?**  \n",
        "    a) `['H', 'e', 'l', 'l', 'o']`  \n",
        "    b) `'Hello'`  \n",
        "    c) `Error`  \n",
        "    d) `None`  \n",
        "    **Answer:** a) `['H', 'e', 'l', 'l', 'o']`  \n",
        "    **Explanation:** `list()` splits a string into individual characters.\n",
        "\n",
        "---\n",
        "\n",
        "### **9. Integer Interning**\n",
        "41. **What is the output of `id(5) == id(5)`?**  \n",
        "    a) `True`  \n",
        "    b) `False`  \n",
        "    c) `None`  \n",
        "    d) `Error`  \n",
        "    **Answer:** a) `True`  \n",
        "    **Explanation:** Small integers (`-5` to `256`) are interned.\n",
        "\n",
        "---\n",
        "\n",
        "42. **What is the output of `id(1000) == id(1000)`?**  \n",
        "    a) `True`  \n",
        "    b) `False`  \n",
        "    c) `None`  \n",
        "    d) `Error`  \n",
        "    **Answer:** b) `False`  \n",
        "    **Explanation:** Integers outside `-5` to `256` are not interned.\n",
        "\n",
        "---\n",
        "\n",
        "43. **What is the output of `a = 256; b = 256; a is b`?**  \n",
        "    a) `True`  \n",
        "    b) `False`  \n",
        "    c) `None`  \n",
        "    d) `Error`  \n",
        "    **Answer:** a) `True`  \n",
        "    **Explanation:** `256` is within the interned range.\n",
        "\n",
        "---\n",
        "\n",
        "44. **What is the output of `a = 257; b = 257; a is b`?**  \n",
        "    a) `True`  \n",
        "    b) `False`  \n",
        "    c) `None`  \n",
        "    d) `Error`  \n",
        "    **Answer:** b) `False`  \n",
        "    **Explanation:** `257` is outside the interned range.\n",
        "\n",
        "---\n",
        "\n",
        "45. **What is the output of `a = -5; b = -5; a is b`?**  \n",
        "    a) `True`  \n",
        "    b) `False`  \n",
        "    c) `None`  \n",
        "    d) `Error`  \n",
        "    **Answer:** a) `True`  \n",
        "    **Explanation:** `-5` is within the interned range.\n",
        "\n",
        "---\n",
        "\n",
        "### **10. Miscellaneous**\n",
        "46. **What is the output of `isinstance(True, int)`?**  \n",
        "    a) `True`  \n",
        "    b) `False`  \n",
        "    c) `None`  \n",
        "    d) `Error`  \n",
        "    **Answer:** a) `True`  \n",
        "    **Explanation:** `bool` is a subclass of `int`.\n",
        "\n",
        "---\n",
        "\n",
        "47. **What is the output of `type(range(5))`?**  \n",
        "    a) `<class 'list'>`  \n",
        "    b) `<class 'range'>`  \n",
        "    c) `<class 'tuple'>`  \n",
        "    d) `<class 'generator'>`  \n",
        "    **Answer:** b) `<class 'range'>`  \n",
        "    **Explanation:** `range()` returns a `range` object.\n",
        "\n",
        "---\n",
        "\n",
        "48. **What is the output of `chr(65)`?**  \n",
        "    a) `'A'`  \n",
        "    b) `65`  \n",
        "    c) `'65'`  \n",
        "    d) `Error`  \n",
        "    **Answer:** a) `'A'`  \n",
        "    **Explanation:** `chr()` converts an ASCII code to its character.\n",
        "\n",
        "---\n",
        "\n",
        "49. **What is the output of `ord('A')`?**  \n",
        "    a) `'A'`  \n",
        "    b) `65`  \n",
        "    c) `'65'`  \n",
        "    d) `Error`  \n",
        "    **Answer:** b) `65`  \n",
        "    **Explanation:** `ord()` returns the ASCII code of a character.\n",
        "\n",
        "---\n",
        "\n",
        "50. **What is the output of `hex(255)`?**  \n",
        "    a) `'0xff'`  \n",
        "    b) `255`  \n",
        "    c) `'255'`  \n",
        "    d) `Error`  \n",
        "    **Answer:** a) `'0xff'`  \n",
        "    **Explanation:** `hex()` converts an integer to a hexadecimal string.\n",
        "\n",
        "---\n",
        "\n",
        "51. **What is the output of `oct(8)`?**  \n",
        "    a) `'0o10'`  \n",
        "    b) `'10'`  \n",
        "    c) `8`  \n",
        "    d) `Error`  \n",
        "    **Answer:** a) `'0o10'`  \n",
        "    **Explanation:** `oct()` converts an integer to an octal string.\n",
        "\n",
        "---\n",
        "\n",
        "52. **What is the output of `bin(5)`?**  \n",
        "    a) `'0b101'`  \n",
        "    b) `'101'`  \n",
        "    c) `5`  \n",
        "    d) `Error`  \n",
        "    **Answer:** a) `'0b101'`  \n",
        "    **Explanation:** `bin()` converts an integer to a binary string.\n",
        "\n",
        "---\n",
        "\n"
      ]
    },
    {
      "cell_type": "markdown",
      "metadata": {},
      "source": []
    }
  ],
  "metadata": {
    "colab": {
      "provenance": []
    },
    "kernelspec": {
      "display_name": "Python 3",
      "name": "python3"
    },
    "language_info": {
      "codemirror_mode": {
        "name": "ipython",
        "version": 3
      },
      "file_extension": ".py",
      "mimetype": "text/x-python",
      "name": "python",
      "nbconvert_exporter": "python",
      "pygments_lexer": "ipython3",
      "version": "3.12.2"
    }
  },
  "nbformat": 4,
  "nbformat_minor": 0
}
