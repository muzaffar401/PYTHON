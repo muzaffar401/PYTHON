{
  "cells": [
    {
      "cell_type": "markdown",
      "metadata": {
        "id": "138nAdtTpW1Y"
      },
      "source": [
        " **Strings in Python**\n",
        "======================\n",
        "\n",
        "In Python, a string is a sequence of characters enclosed in quotes (either single, double, or triple quotes). Strings are `immutable`, meaning they cannot be changed after they are created.\n",
        "\n",
        "**Creating Strings**\n",
        "-------------------\n",
        "\n",
        "There are several ways to create strings in Python:\n",
        "\n",
        "1. **Single Quotes**: `my_string = 'Hello, World!'`\n",
        "2. **Double Quotes**: `my_string = \"Hello, World!\"`\n",
        "3. **Triple Quotes**: `my_string = '''Hello, World!'''` (can span multiple lines)\n",
        "4. **Raw Strings**: `my_string = r'Hello, World!'` (treats backslashes as literal characters)"
      ]
    },
    {
      "cell_type": "code",
      "execution_count": null,
      "metadata": {
        "colab": {
          "base_uri": "https://localhost:8080/"
        },
        "id": "YNYElZBzk4ab",
        "outputId": "0461226c-5585-4b7e-d512-b15d1b1227e8"
      },
      "outputs": [
        {
          "name": "stdout",
          "output_type": "stream",
          "text": [
            "Hello,\n",
            "World!\n"
          ]
        }
      ],
      "source": [
        "#for multi line string use triple quotes '''any string'''\n",
        "my_string: str = '''Hello,\n",
        "World!'''\n",
        "print(my_string)"
      ]
    },
    {
      "cell_type": "code",
      "execution_count": null,
      "metadata": {
        "colab": {
          "base_uri": "https://localhost:8080/"
        },
        "id": "flo_kapbqZE3",
        "outputId": "3671bccd-d137-4eb7-ad00-2943ae66d024"
      },
      "outputs": [
        {
          "name": "stdout",
          "output_type": "stream",
          "text": [
            "Hello\\t,\\n Worl\\\\d!\n",
            "\n",
            "-----\n",
            "\n",
            "Hello,\n",
            " World!\n"
          ]
        }
      ],
      "source": [
        "my_string: str = r'Hello\\t,\\n Worl\\\\d!'\n",
        "print(my_string)\n",
        "\n",
        "print(\"\\n-----\\n\")\n",
        "\n",
        "my_string = 'Hello,\\n World!'\n",
        "print(my_string)"
      ]
    },
    {
      "cell_type": "markdown",
      "metadata": {
        "id": "18A-M8L2r-Vd"
      },
      "source": [
        "**Escape Sequence Characters in Python**\n",
        "======================================\n",
        "\n",
        "In Python, escape sequence characters are used to represent special characters that have a specific meaning in a string. These characters are denoted by a backslash (`\\`) followed by a character.\n"
      ]
    },
    {
      "cell_type": "code",
      "execution_count": null,
      "metadata": {
        "colab": {
          "base_uri": "https://localhost:8080/"
        },
        "id": "34f_1yH9rZvP",
        "outputId": "54739dd5-2533-4256-f765-8771b1c9be9e"
      },
      "outputs": [
        {
          "name": "stdout",
          "output_type": "stream",
          "text": [
            "Hello,\b World!\n",
            "Hello,\tWorld!\n",
            "Hello, \"World!\"\n",
            "Hello,\\ World!\n"
          ]
        }
      ],
      "source": [
        "print(\"Hello,\\b World!\") #\\b backspace\n",
        "print(\"Hello,\\tWorld!\")  #\\t tab\n",
        "print(\"Hello, \\\"World!\\\"\")\n",
        "print(\"Hello,\\\\ World!\")"
      ]
    },
    {
      "cell_type": "markdown",
      "metadata": {
        "id": "eQGztA0AtULD"
      },
      "source": [
        "### **Unicode characters**\n",
        "\n",
        "\n",
        "Python also supports Unicode escape sequence characters, which are used to represent `Unicode characters`. These characters are denoted by `\\u` followed by a four-digit hexadecimal code."
      ]
    },
    {
      "cell_type": "code",
      "execution_count": null,
      "metadata": {
        "colab": {
          "base_uri": "https://localhost:8080/"
        },
        "id": "jVa8b4l7tHmf",
        "outputId": "fb80447e-5fef-4bbd-f55b-a9d6aaa49bd9"
      },
      "outputs": [
        {
          "name": "stdout",
          "output_type": "stream",
          "text": [
            "\\u0041 =  A\n",
            "\\u0042 =  B\n",
            "\\u0043 =  C\n"
          ]
        }
      ],
      "source": [
        "print(r\"\\u0041 = \", \"\\u0041\")\n",
        "print(r\"\\u0042 = \", \"\\u0042\")\n",
        "print(r\"\\u0043 = \", \"\\u0043\")"
      ]
    },
    {
      "cell_type": "markdown",
      "metadata": {
        "id": "kpmOGHJGeQM5"
      },
      "source": [
        "### **Performing Differrent Operations on String Object**"
      ]
    },
    {
      "cell_type": "markdown",
      "metadata": {
        "id": "JrVx_2g0tv0z"
      },
      "source": [
        "\n",
        "\n",
        "\n",
        "| S# | Operation         | Example                                                                           |\n",
        "|----|-------------------|-----------------------------------------------------------------------------------|\n",
        "| 1  | **Concatenation** | `my_string = 'Hello, ' + 'World!'`                                                |\n",
        "| 2  | **Indexing**      | `my_string = 'Hello, World!'; print(my_string[0])  # prints 'H'`                  |\n",
        "| 3  | **Slicing**       | `my_string = 'Hello, World!'; print(my_string[7:])  # prints 'World!'`            |\n",
        "| 4  | **Length**        | `my_string = 'Hello, World!'; print(len(my_string))  # prints 13`                 |\n",
        "| 5  |  **Upper Case**   | `my_string = 'Hello, World!'; print(my_string.upper())  # prints 'HELLO, WORLD!'` |\n",
        "| 6  | **Lower Case**    | `my_string = 'Hello, World!'; print(my_string.lower())  # prints 'hello, world!'` |"
      ]
    },
    {
      "cell_type": "code",
      "execution_count": null,
      "metadata": {
        "colab": {
          "base_uri": "https://localhost:8080/"
        },
        "id": "wJdWOcOQtzNj",
        "outputId": "cd51039e-2fb1-4ce3-ea14-7c111de2c30d"
      },
      "outputs": [
        {
          "name": "stdout",
          "output_type": "stream",
          "text": [
            "Hello, World!\n"
          ]
        }
      ],
      "source": [
        "my_string = 'Hello, ' + 'World!' #Concatenation using + sign\n",
        "print(my_string)"
      ]
    },
    {
      "cell_type": "code",
      "execution_count": null,
      "metadata": {
        "colab": {
          "base_uri": "https://localhost:8080/"
        },
        "id": "MXj7fAc5xG2R",
        "outputId": "c0cd2a9c-2c2a-470d-e199-4d8d9014ad40"
      },
      "outputs": [
        {
          "name": "stdout",
          "output_type": "stream",
          "text": [
            "e\n"
          ]
        }
      ],
      "source": [
        "#Indexing, index value starts with 0 zero, so  the first character\n",
        "#have index vlaue 0, second character have index value 1 and the third one\n",
        "#have index value 2 and so on.\n",
        "print(my_string[1]) #It will print 'e'"
      ]
    },
    {
      "cell_type": "code",
      "execution_count": null,
      "metadata": {
        "colab": {
          "base_uri": "https://localhost:8080/"
        },
        "id": "0D8p9ltBxJH5",
        "outputId": "56b8f4da-8919-4f8d-b809-78fca72d3587"
      },
      "outputs": [
        {
          "name": "stdout",
          "output_type": "stream",
          "text": [
            "World!\n",
            "Hello\n"
          ]
        }
      ],
      "source": [
        "my_string: str = 'Hello, World!'\n",
        "print(my_string[7:]) #It starts from 7 till the end of the string\n",
        "print(my_string[0:5]) #It starts from 0 till the index 4 - (0,1,2,3,4) = 5 characters"
      ]
    },
    {
      "cell_type": "code",
      "execution_count": null,
      "metadata": {
        "colab": {
          "base_uri": "https://localhost:8080/"
        },
        "id": "YykTNOh8x5-5",
        "outputId": "c7d43f2c-3e37-475c-d2b0-5cc77e89e797"
      },
      "outputs": [
        {
          "name": "stdout",
          "output_type": "stream",
          "text": [
            "15\n"
          ]
        }
      ],
      "source": [
        "print(len(\" Hello, World! \"))#calculating length of a string even the space will be treated as character"
      ]
    },
    {
      "cell_type": "code",
      "execution_count": null,
      "metadata": {
        "colab": {
          "base_uri": "https://localhost:8080/"
        },
        "id": "hvLZPEqCytco",
        "outputId": "7875d557-8878-40d2-bc31-babe258ec785"
      },
      "outputs": [
        {
          "name": "stdout",
          "output_type": "stream",
          "text": [
            "HELLO, WORLD!\n",
            "hello, world!\n"
          ]
        }
      ],
      "source": [
        "print(my_string.upper()) #Upper Case\n",
        "print(my_string.lower()) #Lower Case"
      ]
    },
    {
      "cell_type": "markdown",
      "metadata": {
        "id": "jzk2Oa4wy__I"
      },
      "source": [
        "Here are some commonly used string methods:\n",
        "\n",
        "1. **`split()`**: splits a string into a list of substrings based on a delimiter\n",
        "2. **`join()`**: joins a list of strings into a single string\n",
        "3. **`replace()`**: replaces a substring with another substring\n",
        "4. **`find()`**: returns the index of a substring\n",
        "5. **`count()`**: returns the number of occurrences of a substring"
      ]
    },
    {
      "cell_type": "code",
      "execution_count": 2,
      "metadata": {
        "colab": {
          "base_uri": "https://localhost:8080/"
        },
        "id": "CSuuxqD2y-7X",
        "outputId": "7ad9c681-585e-4914-a189-4786feed5f78"
      },
      "outputs": [
        {
          "name": "stdout",
          "output_type": "stream",
          "text": [
            "my_string.split()    =  ['Hello!', 'World']\n",
            "my_string.split(\" \") =  ['Hello!', 'World']\n",
            "my_string.split(\"l\") =  ['He', '', 'o! Wor', 'd']\n"
          ]
        }
      ],
      "source": [
        "my_string: str = 'Hello! World'\n",
        "\n",
        "# split into a list of words\n",
        "words: str = my_string.split()\n",
        "print(\"my_string.split()    = \", words)\n",
        "\n",
        "words = my_string.split(\" \") # Space as a delimiter\n",
        "print('my_string.split(\" \") = ',words)\n",
        "\n",
        "words = my_string.split(\"l\") # Splitting using 'l' as the delimiter\n",
        "print('my_string.split(\"l\") = ', words)"
      ]
    },
    {
      "cell_type": "markdown",
      "metadata": {
        "id": "SFfUIqzL3KFz"
      },
      "source": [
        "**Steps of Execution:**\n",
        "\n",
        "- The split(\"l\") method breaks the string \"Hello! World\" wherever the letter l appears.\n",
        "\n",
        "<br>\n",
        "\n",
        "After splitting, the parts are:\n",
        "\n",
        "<br>\n",
        "\n",
        "**Before the first l**:\n",
        "- \"He\" Between the first and second l: \"\" (empty string, as there’s no character between the two ls)\n",
        "\n",
        "<br>\n",
        "\n",
        "**After the second l**: \"o! Wor\"\n",
        "\n",
        "- The resulting list is: [\"He\", \"\", \"o!, Wor\", \"d\"].\n",
        "\n",
        "<br>\n",
        "\n",
        "**Output:**"
      ]
    },
    {
      "cell_type": "code",
      "execution_count": 3,
      "metadata": {
        "colab": {
          "base_uri": "https://localhost:8080/"
        },
        "id": "I2x3GjmD3MoU",
        "outputId": "2830a3ab-3191-4339-ab10-7878ffe60bb9"
      },
      "outputs": [
        {
          "name": "stdout",
          "output_type": "stream",
          "text": [
            "['He', '', 'o! Wor', 'd']\n"
          ]
        }
      ],
      "source": [
        "words: str = my_string.split(\"l\") # Splitting using 'l' as the delimiter\n",
        "print(words)"
      ]
    },
    {
      "cell_type": "markdown",
      "metadata": {
        "id": "n7SmKAOh7eSh"
      },
      "source": [
        "The argument of join() is the iterable, and the my_string acts as a separator that is placed between the elements of the iterable.\n",
        "\n",
        "my_string = '`, `'\n",
        "\n",
        "The variable my_string is assigned the value '`, `'. This string (`comma followed by a space`) will be used as the `separator` for joining elements of a list."
      ]
    },
    {
      "cell_type": "code",
      "execution_count": null,
      "metadata": {
        "colab": {
          "base_uri": "https://localhost:8080/"
        },
        "id": "sCgkWE374GIT",
        "outputId": "eceb6436-433a-4ac0-f5fd-ecbb1a3ec90a"
      },
      "outputs": [
        {
          "name": "stdout",
          "output_type": "stream",
          "text": [
            "Pakistan, USA, Canada, France, Japan\n"
          ]
        }
      ],
      "source": [
        "# join the words back into a single string\n",
        "my_string: str = ', '\n",
        "joined_string: str = my_string.join(['Pakistan', 'USA', 'Canada', 'France', 'Japan'])\n",
        "print(joined_string)  # Pakistan, USA, Canada, France, Japan"
      ]
    },
    {
      "cell_type": "code",
      "execution_count": null,
      "metadata": {
        "colab": {
          "base_uri": "https://localhost:8080/"
        },
        "id": "PrhGZ0DT8ayI",
        "outputId": "76673273-9896-4c89-a00f-2616dbc678f6"
      },
      "outputs": [
        {
          "name": "stdout",
          "output_type": "stream",
          "text": [
            "P, a, k, i, s, t, a, n\n",
            "Apple-Banana-Cherry\n"
          ]
        }
      ],
      "source": [
        "joined_string: str = my_string.join('Pakistan') # my_string works as a seprator for each character in the word 'Pakistan', because string is a sequence of caharacter\n",
        "\n",
        "print(joined_string) # P, a, k, i, s, t, a, n\n",
        "\n",
        "print('-'.join(['Apple', 'Banana', 'Cherry'])); # ; The line terminitor"
      ]
    },
    {
      "cell_type": "code",
      "execution_count": null,
      "metadata": {
        "colab": {
          "base_uri": "https://localhost:8080/"
        },
        "id": "8eSkKJdO9WAA",
        "outputId": "52f99ba4-c221-4c51-ece5-5ed42359e9c2"
      },
      "outputs": [
        {
          "name": "stdout",
          "output_type": "stream",
          "text": [
            "Salam Walikum, World! Salam Walikum, Pakistan\n"
          ]
        }
      ],
      "source": [
        "my_string: str = \"Hello, World! Hello, Pakistan\"\n",
        "# replace a substring\n",
        "my_string = my_string.replace('Hello', 'Salam Walikum')\n",
        "print(my_string)  # prints 'Salam Walikum, World! Salam Walikum, Pakistan'"
      ]
    },
    {
      "cell_type": "code",
      "execution_count": null,
      "metadata": {
        "colab": {
          "base_uri": "https://localhost:8080/"
        },
        "id": "msjrC6Vk-COo",
        "outputId": "687d53e8-81aa-4bff-b644-f9f294526294"
      },
      "outputs": [
        {
          "name": "stdout",
          "output_type": "stream",
          "text": [
            "starting_index =  0\n"
          ]
        }
      ],
      "source": [
        "my_string: str = \"Hello, World! Hello, Pakistan\"\n",
        "# find the index of a substring\n",
        "starting_index = my_string.find('Hello') # Index value of the first occurance of the word 'Hello'\n",
        "print(\"starting_index = \", starting_index)  # prints 0"
      ]
    },
    {
      "cell_type": "code",
      "execution_count": null,
      "metadata": {
        "colab": {
          "base_uri": "https://localhost:8080/"
        },
        "id": "U3Arz_Ot-2TG",
        "outputId": "19afea51-b40e-4af9-dae9-21e2c89377c6"
      },
      "outputs": [
        {
          "name": "stdout",
          "output_type": "stream",
          "text": [
            ", World! Hello, Pakistan\n",
            "9\n"
          ]
        }
      ],
      "source": [
        "# Now lets find the second occurance of the word 'Hello'\n",
        "# index value start from zero\n",
        "\n",
        "starting_index2: str = starting_index + len(\"Hello\") #len=5\n",
        "\n",
        "print(my_string[starting_index2:] ) # after slicing \", World! Hello, Pakistan\n",
        "print(my_string[starting_index2:].find(\"Hello\")) # Starting index 9, because of slicing \", World! Hello, Pakistan\""
      ]
    },
    {
      "cell_type": "code",
      "execution_count": null,
      "metadata": {
        "colab": {
          "base_uri": "https://localhost:8080/"
        },
        "id": "y-CQMyzNxE0S",
        "outputId": "e77e41b6-327b-465d-e1fe-9eba619b7d3b"
      },
      "outputs": [
        {
          "name": "stdout",
          "output_type": "stream",
          "text": [
            "Hello, World! Hello, Pakistan\n",
            "29\n",
            "\n",
            "-----\n",
            "\n",
            "Substring to search    =  Hello\n",
            "Starting index         =  5\n",
            "End index              =  29\n",
            "Second Occurance index =  14\n"
          ]
        }
      ],
      "source": [
        "print(my_string)\n",
        "print(len(my_string)) #character count = 29\n",
        "\n",
        "print('\\n-----\\n')\n",
        "\n",
        "print(\"Substring to search    = \", \"Hello\")\n",
        "print(\"Starting index         = \", len(\"Hello\")) # 5\n",
        "print(\"End index              = \", len(my_string))\n",
        "print(\"Second Occurance index = \", my_string.index((\"Hello\"), len(\"Hello\"), len(my_string))) # (substring, start, end) - print 14\n",
        "\n",
        "#Uncomment to see ValueError: substring not found\n",
        "#print(\"Second Occurance index = \", my_string.index((\"Hello7\"), len(\"Hello\"), len(my_string))) # (substring, start, end)"
      ]
    },
    {
      "cell_type": "code",
      "execution_count": null,
      "metadata": {
        "colab": {
          "base_uri": "https://localhost:8080/"
        },
        "id": "9aHC2q4CxRKB",
        "outputId": "b136620d-0db6-408b-d3b7-1a8d4747fc94"
      },
      "outputs": [
        {
          "name": "stdout",
          "output_type": "stream",
          "text": [
            "-1\n"
          ]
        }
      ],
      "source": [
        "print(my_string.find(\"Hello7\")) # -1 for not found"
      ]
    },
    {
      "cell_type": "markdown",
      "metadata": {
        "id": "4tL4bZxuxryB"
      },
      "source": [
        "## Conclusion\n",
        "-  index() → Finds substring, raises error if not found.\n",
        "-  find() → Finds substring, returns -1 if not found (safer).\n",
        "-  Can specify start and end positions for more control.\n",
        "-  Use a loop if you need all occurrences of a substring."
      ]
    },
    {
      "cell_type": "code",
      "execution_count": null,
      "metadata": {
        "colab": {
          "base_uri": "https://localhost:8080/"
        },
        "id": "bNoFycvyBbhd",
        "outputId": "f14d2634-6148-4d58-be07-aa99a5c3787d"
      },
      "outputs": [
        {
          "name": "stdout",
          "output_type": "stream",
          "text": [
            "my_string.count('Hello') =  2\n",
            "my_string.count('P')     =  1\n",
            "my_string.count('o')     =  3\n",
            "my_string.count('hello') =  0\n"
          ]
        }
      ],
      "source": [
        "my_string = \"Hello, World! Hello, Pakistan\"\n",
        "# count the occurrences of a substring\n",
        "count = my_string.count('Hello')\n",
        "print(\"my_string.count('Hello') = \", count)  # prints 2\n",
        "\n",
        "# count the occurrences of a substring\n",
        "count = my_string.count('P')\n",
        "print(\"my_string.count('P')     = \", count)  # prints 1\n",
        "\n",
        "# count the occurrences of a substring\n",
        "count = my_string.count('o')\n",
        "print(\"my_string.count('o')     = \", count)  # prints 2\n",
        "\n",
        "# count the occurrences of a substring\n",
        "count = my_string.count('hello') # case sensitive\n",
        "print(\"my_string.count('hello') = \", count)  # prints 0"
      ]
    },
    {
      "cell_type": "markdown",
      "metadata": {
        "id": "Cg7I6A0nCKPA"
      },
      "source": [
        "**String Formatting**\n",
        "-------------------\n",
        "\n",
        "Python provides several ways to format strings:\n",
        "\n",
        "1. **`%` Operator**: `my_string = 'Hello, %s!' % 'World'`\n",
        "  * In Python, `%s`, `%d`, `%c`, `%f` are placeholders for values in a string. They are used with the `%` operator to insert values into a string.\n",
        "  * **Note**: The `%` operator is an older way of formatting strings in Python. The newer and more recommended way is to use the `str.format()` method or f-strings (introduced in Python 3.6). For example:\n",
        "2. **`str.format()`**: `my_string = 'Hello, {}!'.format('World')`\n",
        "3. **f-Strings**: `my_string = f'Hello, {\"World\"}!'`\n",
        "\n",
        "\n",
        "<br>\n",
        "\n",
        "| Placeholder | Meaning                              | Example                                |\n",
        "|-------------|--------------------------------------|----------------------------------------|\n",
        "| %s          | String                               | \"Hello, %s\" % \"Alice\" → \"Hello, Alice\" |\n",
        "| %d          | Integer (Decimal)                    | \"Age: %d\" % 25 → \"Age: 25\"             |\n",
        "| %c          | Character                            | \"Letter: %c\" % 'A' → \"Letter: A\"       |\n",
        "| %f          | Floating-point                       | \"Pi: %f\" % 3.14159 → \"Pi: 3.141590\"    |\n",
        "| %.nf        | Floating-point with n decimal places | \"%.2f\" % 3.14159 → \"3.14\"              |\n"
      ]
    },
    {
      "cell_type": "markdown",
      "metadata": {
        "id": "l80EguI76_FI"
      },
      "source": [
        "## **% Operator**"
      ]
    },
    {
      "cell_type": "code",
      "execution_count": null,
      "metadata": {
        "colab": {
          "base_uri": "https://localhost:8080/"
        },
        "id": "zOwlOmsHCNSk",
        "outputId": "57c0da6c-c534-49e1-ce52-24533c6a23e3"
      },
      "outputs": [
        {
          "name": "stdout",
          "output_type": "stream",
          "text": [
            "My name is John, first letter of my name is 'J', I am 20 years old and my weight id 70.532000 Kg.\n",
            "My name is John, first letter of my name is 'J', I am 20 years old and my weight id 70.53 Kg.\n"
          ]
        }
      ],
      "source": [
        "name: str = 'John'\n",
        "age: int = 20\n",
        "first_letter: str = name[0]\n",
        "my_weight: float = 70.532000 # 70.536000\n",
        "\n",
        "#uncomment to see type\n",
        "#print(type((name, first_letter, age, my_weight)))\n",
        "\n",
        "# using % operator\n",
        "my_string: str = '''My name is %s, first letter of my name is \\'%c\\', I am %d years old and my weight id %f Kg.''' % (name, first_letter, age, my_weight)\n",
        "print(my_string)\n",
        "\n",
        "my_string = '''My name is %s, first letter of my name is \\'%c\\', I am %d years old and my weight id %.2f Kg.''' % (name, first_letter, age, my_weight) # Dont forget period %.2f\n",
        "print(my_string)"
      ]
    },
    {
      "cell_type": "markdown",
      "metadata": {
        "id": "y0m4SsgR7lV_"
      },
      "source": [
        "## **String Formatting in Python – Does Order Matter?**\n",
        "\n",
        "**Yes**, order matters when using string formatting in Python, especially with the % operator, .format(), and f-strings (f\"\"). Let's break it down:"
      ]
    },
    {
      "cell_type": "code",
      "execution_count": null,
      "metadata": {
        "colab": {
          "base_uri": "https://localhost:8080/",
          "height": 158
        },
        "id": "H41z6N-e7ZSA",
        "outputId": "ffe4caef-e355-48f5-ba46-20f8293430aa"
      },
      "outputs": [
        {
          "ename": "TypeError",
          "evalue": "%d format: a real number is required, not str",
          "output_type": "error",
          "traceback": [
            "\u001b[0;31m---------------------------------------------------------------------------\u001b[0m",
            "\u001b[0;31mTypeError\u001b[0m                                 Traceback (most recent call last)",
            "\u001b[0;32m<ipython-input-32-1b4d8349b177>\u001b[0m in \u001b[0;36m<cell line: 0>\u001b[0;34m()\u001b[0m\n\u001b[1;32m      1\u001b[0m \u001b[0;31m# Error: TypeError: %d format: a real number is required, not str\u001b[0m\u001b[0;34m\u001b[0m\u001b[0;34m\u001b[0m\u001b[0m\n\u001b[0;32m----> 2\u001b[0;31m \u001b[0mmy_string\u001b[0m\u001b[0;34m:\u001b[0m \u001b[0mstr\u001b[0m \u001b[0;34m=\u001b[0m \u001b[0;34m'''My name is %s, first letter of my name is \\'%c\\', I am %d years old and my weight id %f Kg.'''\u001b[0m \u001b[0;34m%\u001b[0m \u001b[0;34m(\u001b[0m\u001b[0mmy_weight\u001b[0m\u001b[0;34m,\u001b[0m \u001b[0mage\u001b[0m\u001b[0;34m,\u001b[0m \u001b[0mname\u001b[0m\u001b[0;34m,\u001b[0m \u001b[0mfirst_letter\u001b[0m\u001b[0;34m)\u001b[0m\u001b[0;34m\u001b[0m\u001b[0;34m\u001b[0m\u001b[0m\n\u001b[0m",
            "\u001b[0;31mTypeError\u001b[0m: %d format: a real number is required, not str"
          ]
        }
      ],
      "source": [
        "# Error: TypeError: %d format: a real number is required, not str\n",
        "my_string: str = '''My name is %s, first letter of my name is \\'%c\\', I am %d years old and my weight id %f Kg.''' % (my_weight, age, name, first_letter)"
      ]
    },
    {
      "cell_type": "markdown",
      "metadata": {
        "id": "3Ia3zPGc6qvw"
      },
      "source": [
        "## **str.format()**"
      ]
    },
    {
      "cell_type": "code",
      "execution_count": null,
      "metadata": {
        "colab": {
          "base_uri": "https://localhost:8080/"
        },
        "id": "BaqeU4azPCAR",
        "outputId": "2ea9a738-e13a-4348-8fd4-ab464fb57ac0"
      },
      "outputs": [
        {
          "name": "stdout",
          "output_type": "stream",
          "text": [
            "line 1:  My name is 20 and I am John years old.\n",
            "line 2:  My name is John and I am 20 years old.\n"
          ]
        }
      ],
      "source": [
        "# using str.format()\n",
        "my_string: str = 'My name is {} and I am {} years old.'.format(age, name) #order matters\n",
        "print(\"line 1: \",my_string)\n",
        "\n",
        "my_string: str = 'My name is {1} and I am {0} years old.'.format(age, name) #use indexing\n",
        "print(\"line 2: \",my_string)"
      ]
    },
    {
      "cell_type": "markdown",
      "metadata": {
        "id": "cODPan2Z6lEx"
      },
      "source": [
        "## **F-String**"
      ]
    },
    {
      "cell_type": "code",
      "execution_count": null,
      "metadata": {
        "colab": {
          "base_uri": "https://localhost:8080/"
        },
        "id": "oktR-yZ26fbL",
        "outputId": "fc13e422-fd94-488b-fe6e-e0f40f846bd1"
      },
      "outputs": [
        {
          "name": "stdout",
          "output_type": "stream",
          "text": [
            "line 3:  My name is John and I am 20 years old.\n",
            "line 4:  My \\name is John and I am 20\\n \\t years \\old.\n"
          ]
        }
      ],
      "source": [
        "# using f-strings\n",
        "my_string: str = f'My name is {name} and I am {age} years old.' #Using Named Placeholders (Best for Readability)\n",
        "print(\"line 3: \",my_string)\n",
        "\n",
        "my_string: str = fr'My \\name is {name} and I am {age}\\n \\t years \\old.' #At the same time it could be f and r as well\n",
        "print(\"line 4: \",my_string)"
      ]
    },
    {
      "cell_type": "markdown",
      "metadata": {
        "id": "vIn3O8UOB6hM"
      },
      "source": [
        "\n",
        "---\n",
        "\n",
        "### 🔤 **String Literal Pool ka matlab kya hai?**\n",
        "\n",
        "Python mein jab aap koi **string** likhtay ho (jaise `\"hello\"`), to Python yeh check karta hai:\n",
        "\n",
        "> **\"Kya yeh string pehle se memory mein maujood hai?\"**\n",
        "\n",
        "Agar haan, to **nayi string create nahi karta**, balke **pehli wali string ka reference** (link) de deta hai. Is process ko kehtay hain: **String Interning**.\n",
        "\n",
        "---\n",
        "\n",
        "### 🔧 **Kaise kaam karta hai?**\n",
        "\n",
        "Jab Python koi string dekhta hai to yeh 3 steps follow karta hai:\n",
        "\n",
        "---\n",
        "\n",
        "#### **1. Interning Check**  \n",
        "Sabse pehle yeh dekhta hai:\n",
        "> Kya yeh string pehle se intern (yaani stored) hai?\n",
        "\n",
        "Agar haan:  \n",
        "✅ to **wahi purani string ka link de deta hai**\n",
        "\n",
        "---\n",
        "\n",
        "#### **2. String Literal Pool Check**  \n",
        "Agar interned string nahi milti, to:\n",
        "> Python ek **pool** (yaani ek chhoti si memory list) check karta hai jisme recent strings hoti hain.\n",
        "\n",
        "Agar wahan mil gayi:  \n",
        "✅ to **uska reference de deta hai**\n",
        "\n",
        "---\n",
        "\n",
        "#### **3. New String Banani**  \n",
        "Agar dono jaga string nahi milti:  \n",
        "❌ to Python **nayi string banata hai** aur memory mein daal deta hai.\n",
        "\n",
        "---\n",
        "\n",
        "### 🎁 **Fayda kya hai? (Benefits)**\n",
        "\n",
        "#### ✅ Memory bachti hai  \n",
        "Ek hi string bar bar likhne par nayi memory nahi leti → **memory save hoti hai**\n",
        "\n",
        "#### ⚡ Fast hota hai  \n",
        "Purani string ka link lena zyada fast hota hai → **performance improve hoti hai**\n",
        "\n",
        "#### 💡 Comparisons easy  \n",
        "Jab 2 same strings compare karo, Python easily check kar leta hai (kyunke dono ka reference same hota hai)\n",
        "\n",
        "---\n",
        "\n",
        "### 🧠 Simple Example:\n",
        "```python\n",
        "a = \"hello\"\n",
        "b = \"hello\"\n",
        "print(a is b)  # Output: True\n",
        "```\n",
        "Dono same string likhi hai, to Python `a` aur `b` ko **ek hi jagah se point karwata hai** → isiliye `a is b` = `True`\n",
        "\n",
        "---\n",
        "\n"
      ]
    },
    {
      "cell_type": "code",
      "execution_count": null,
      "metadata": {
        "colab": {
          "base_uri": "https://localhost:8080/"
        },
        "id": "wiEAD0YgB8qr",
        "outputId": "7b26e869-6b3f-4bf3-ec98-0c4463e3f859"
      },
      "outputs": [
        {
          "name": "stdout",
          "output_type": "stream",
          "text": [
            "140381252799536\n",
            "140381252799536\n"
          ]
        }
      ],
      "source": [
        "a: str = \"hello\"\n",
        "b: str = \"hello\"\n",
        "\n",
        "#Both variable a and b have same id.\n",
        "print(id(a))\n",
        "print(id(b))"
      ]
    },
    {
      "cell_type": "code",
      "execution_count": null,
      "metadata": {
        "colab": {
          "base_uri": "https://localhost:8080/"
        },
        "id": "GdpzXbJFCYqz",
        "outputId": "5f4263e9-9c74-48a4-c4ae-8e39cce1102a"
      },
      "outputs": [
        {
          "name": "stdout",
          "output_type": "stream",
          "text": [
            "140381252799536\n"
          ]
        }
      ],
      "source": [
        "c: str = a +\"\" # Nothing happen because we are appending a empty string.\n",
        "print(id(c))"
      ]
    },
    {
      "cell_type": "code",
      "execution_count": null,
      "metadata": {
        "colab": {
          "base_uri": "https://localhost:8080/"
        },
        "id": "ndBthA9-6L_L",
        "outputId": "54763870-702b-4912-85d9-26e6ecd0e481"
      },
      "outputs": [
        {
          "name": "stdout",
          "output_type": "stream",
          "text": [
            "140380450274224\n"
          ]
        }
      ],
      "source": [
        "c: str = a +\" \" # A new string object is created in the pool.\n",
        "print(id(c))"
      ]
    },
    {
      "cell_type": "markdown",
      "metadata": {
        "id": "vpOmLF2E2xdg"
      },
      "source": [
        "## **Interning in Python**\n",
        "\n",
        "### **1.  What is Interning?**\n",
        "\n",
        "Interning is a process where Python stores only one copy of certain strings in memory and reuses them whenever the same string is used again. This is done to save memory and speed up comparisons.\n",
        "\n",
        "### **2. Which Strings are Interned?**\n",
        "\n",
        "* **Short strings**: Usually strings that are **`20 characters or fewer`**.\n",
        "* **Identifiers**: Strings that look like variable names (e.g., \"x\", \"my_var\").\n",
        "* **Explicit interning**: You can manually intern a string using the sys.intern() function.\n",
        "\n",
        "### **3. Example of Manual Interning:**"
      ]
    },
    {
      "cell_type": "code",
      "execution_count": null,
      "metadata": {
        "colab": {
          "base_uri": "https://localhost:8080/"
        },
        "id": "mgCOW_qt60Ov",
        "outputId": "1bde4889-6da0-4d96-f2da-7cb4f3c4e263"
      },
      "outputs": [
        {
          "name": "stdout",
          "output_type": "stream",
          "text": [
            "True\n"
          ]
        }
      ],
      "source": [
        "import sys\n",
        "a = sys.intern(\"hello world!\")\n",
        "b = sys.intern(\"hello world!\")\n",
        "print(a is b)  # True (manually interned)"
      ]
    },
    {
      "cell_type": "markdown",
      "metadata": {
        "id": "i8lMf0YF7SOd"
      },
      "source": [
        "## **String Literal Pool in Python**\n",
        "\n",
        "### **1.  What is the String Literal Pool?**\n",
        "\n",
        "The string literal pool is a cache of string literals that appear in the code. When Python encounters a string literal (e.g., \"hello\"), it checks the pool to see if the string already exists. If it does, Python reuses the existing string instead of creating a new one.\n",
        "\n",
        "### **2. How Does It Work?**\n",
        "\n",
        "* **The pool is used for string literals explicitly written in the code** (e.g., \"hello\", \"world\").\n",
        "* **It does not apply to dynamically created strings** (e.g., \"hello\" + \"world\").\n",
        "\n",
        "### **3. Example of String Literal Pool:**"
      ]
    },
    {
      "cell_type": "code",
      "execution_count": null,
      "metadata": {
        "colab": {
          "base_uri": "https://localhost:8080/"
        },
        "id": "-FeGQAtD8LXE",
        "outputId": "5faa8d70-772d-4781-e4b2-1da1b45c1f05"
      },
      "outputs": [
        {
          "name": "stdout",
          "output_type": "stream",
          "text": [
            "True\n"
          ]
        }
      ],
      "source": [
        "a = \"hello\"\n",
        "b = \"hello\"\n",
        "print(a is b)  # True (both refer to the same string in the pool)"
      ]
    },
    {
      "cell_type": "markdown",
      "metadata": {},
      "source": [
        "\n",
        "\n",
        "---\n",
        "\n",
        "## 🧵 **1. String Pool kya hota hai?**\n",
        "\n",
        "> **String pool ek memory area hota hai jahan Python kuch special strings ko store karta hai.**\n",
        "\n",
        "- Jab aap koi string literal likhtay ho, jaise `\"hello\"`, Python usko string pool mein store karta hai.\n",
        "- Taake agar future mein dubara `\"hello\"` likha jaye, to **nayi string banani na pare**.\n",
        "- Yeh automatic hota hai. **Aapko kuch nahi karna parta.**\n",
        "\n",
        "🧠 **Example:**\n",
        "```python\n",
        "a = \"hello\"\n",
        "b = \"hello\"\n",
        "print(a is b)  # True\n",
        "```\n",
        "Yahan `a` aur `b` same string pool wali jagah ko point kar rahe hain.\n",
        "\n",
        "---\n",
        "\n",
        "## 🔧 **2. `intern()` function kya karta hai?**\n",
        "\n",
        "> `intern()` ek built-in function hai jo **aapki banai hui string ko manually string pool mein daal deta hai.**\n",
        "\n",
        "Agar aap kisi string ko concatenate karke ya kisi aur tareeke se banate ho, to wo **automatic string pool mein nahi jaati**.\n",
        "\n",
        "Aise mein, agar aap chaho to `sys.intern()` use karke manually usay string pool mein daal saktay ho.\n",
        "\n",
        "🧠 **Example:**\n",
        "```python\n",
        "import sys\n",
        "\n",
        "a = \"hello world\"\n",
        "b = \"hello\" + \" world\"\n",
        "c = sys.intern(a)\n",
        "\n",
        "print(a is b)  # True hoga agar Python ne optimize kiya ho\n",
        "print(a is c)  # Yeh hamesha True hoga, kyunke intern() se force kiya\n",
        "```\n",
        "\n",
        "---\n",
        "\n",
        "## 📊 **Fark Summary Table:**\n",
        "\n",
        "| Feature               | String Pool                             | `intern()` Function                   |\n",
        "|-----------------------|------------------------------------------|----------------------------------------|\n",
        "| **Definition**         | Memory jahan Python common strings rakhta hai | Function to forcefully put a string into that pool |\n",
        "| **Kaam hota hai?**     | Automatic                                | Manually karna padta hai (`sys.intern()`) |\n",
        "| **Kab useful?**        | Jab string literals ho                  | Jab runtime mein string ban rahi ho    |\n",
        "| **Control kis ke paas?** | Python interpreter                     | Aap ke paas (`intern()` use kar ke)     |\n",
        "\n",
        "---\n",
        "\n"
      ]
    },
    {
      "cell_type": "markdown",
      "metadata": {
        "id": "_CqyTHzJAyzB"
      },
      "source": [
        "## **String Interning vs String Pool:**\n",
        "\n",
        "String interning and string pool are two concepts that are often confused with each other, but they are not exactly the same thing.\n",
        "\n",
        "### **String Interning:**\n",
        "\n",
        "String interning is a process where the **`compiler or interpreter`** checks if a string already exists in memory before creating a new one. If the string already exists, the compiler or interpreter returns a reference to the existing string instead of creating a new one. This process is also known as \"string caching\" or \"string sharing\".\n"
      ]
    },
    {
      "cell_type": "markdown",
      "metadata": {
        "id": "jeYY2Ji8A-6q"
      },
      "source": [
        "### **String Pool:**\n",
        "\n",
        "A string pool, on the other hand, is a memory space where all the strings in a program are stored. When a string is created, it is added to the string pool. The string pool is used to manage the memory for string objects."
      ]
    },
    {
      "cell_type": "markdown",
      "metadata": {
        "id": "TocAy2NQBIfh"
      },
      "source": [
        "### **Here are the key differences between string interning and string pool:**\n",
        "\n",
        "1. **Scope:** String interning is a process that can be applied to **`any type of object`**, **`not just strings`**. String pool, on the other hand, is a memory space specifically designed for strings.\n",
        "\n",
        "2. **Purpose:** The purpose of string interning is to optimize memory usage by avoiding duplicate objects. The purpose of a string pool is to manage the memory for string objects.\n",
        "\n",
        "3. **Implementation:** String interning can be implemented using a hash table or a dictionary, where the keys are the strings and the values are the corresponding string objects. A string pool, on the other hand, is typically implemented as a contiguous block of memory where all the strings are stored.\n",
        "\n",
        "4. **Behavior:** String interning can be enabled or disabled depending on the language or framework. A string pool, on the other hand, is typically always enabled for strings.\n",
        "\n",
        "<br>\n",
        "\n",
        "### **Process = Interning**\n",
        "### **Memory Space = Pool of String Litrels**\n",
        "\n",
        "\n",
        "\n",
        "\n",
        "---\n",
        "\n",
        "### 🔹 **String Interning kya hota hai?**\n",
        "\n",
        "**Interning** ka matlab hota hai:  \n",
        "> \"Ek hi cheez ko dobara dobara na banana — agar pehle se hai to wahi use karo.\"\n",
        "\n",
        "Jab hum string interning karte hain, to agar koi **same string pehle se memory me maujood hai**, to **new copy banane ke bajaye** wohi purani string ka reference de diya jata hai.\n",
        "\n",
        "Yani:  \n",
        "```\n",
        "agar \"Hello\" already hai → to new \"Hello\" nahi banega  \n",
        "→ bas purana \"Hello\" ka reference use hoga\n",
        "```\n",
        "\n",
        "---\n",
        "\n",
        "### 🔹 **String Pool kya hota hai?**\n",
        "\n",
        "**String Pool** ek **special jagah (memory area)** hoti hai jahan **saari string literals** store hoti hain.\n",
        "\n",
        "Jab tum koi string **literal** likhtay ho jaise `\"apple\"` ya `\"hello\"`:\n",
        "> woh **automatically String Pool** me chali jati hai.\n",
        "\n",
        "---\n",
        "\n",
        "### 🔁 **Interning vs Pool ka Asaan Farq**\n",
        "\n",
        "| Feature          | String Interning                        | String Pool                             |\n",
        "|------------------|------------------------------------------|------------------------------------------|\n",
        "| **Kaam kya karta hai?** | Duplicate string banne se rokta hai | Strings ko store karnay ki jagah hoti hai |\n",
        "| **Kahan use hota hai?** | Har type ke object me ho sakta hai | Sirf strings ke saath hota hai           |\n",
        "| **Kaise hota hai?** | Hash Table ya Dictionary se            | Ek special memory block me               |\n",
        "| **Enable/Disable?** | Language per depend karta hai          | Strings ke liye usually always on        |\n",
        "\n",
        "---\n",
        "\n",
        "### 🧪 **Python Code Example**\n",
        "\n",
        "```python\n",
        "# Do strings banaye\n",
        "a = \"hello\"\n",
        "b = \"hello\"\n",
        "\n",
        "print(a is b)  # True because both come from string pool\n",
        "\n",
        "# Ab ek new string object banaye using str()\n",
        "c = str(\"hello\")\n",
        "\n",
        "print(b is c)  # Still True in CPython (due to interning)\n",
        "\n",
        "# Ab explicitly intern karte hain\n",
        "import sys\n",
        "\n",
        "x = sys.intern(\"world\")\n",
        "y = sys.intern(\"world\")\n",
        "\n",
        "print(x is y)  # True, dono interned hain\n",
        "\n",
        "# Without interning\n",
        "m = \"world\"\n",
        "n = \"\".join([\"w\", \"o\", \"r\", \"l\", \"d\"])  # creates new string object\n",
        "\n",
        "print(m is n)  # False, kyunke n interned nahi hai\n",
        "```\n",
        "\n",
        "---\n",
        "\n",
        "### 🎯 **Ek Line me Summary**\n",
        "\n",
        "📌 `String Pool` ek jagah hai jahan string literals store hote hain.  \n",
        "📌 `String Interning` ek process hai jisse **duplicate strings** avoid ki jati hain.\n",
        "\n"
      ]
    },
    {
      "cell_type": "markdown",
      "metadata": {
        "id": "QPWY9Vse8QD8"
      },
      "source": [
        "## **When Are Strings Not Interned or Pooled?**\n",
        "\n",
        "1.  **Long Strings**: Strings longer than **`20 characters`** are usually not interned automatically."
      ]
    },
    {
      "cell_type": "code",
      "execution_count": null,
      "metadata": {
        "colab": {
          "base_uri": "https://localhost:8080/"
        },
        "id": "SbFYkJ-n8YRs",
        "outputId": "700b860b-c96f-455d-d703-632cef32d754"
      },
      "outputs": [
        {
          "name": "stdout",
          "output_type": "stream",
          "text": [
            "False\n",
            "id(a) 132179098748208\n",
            "id(b) 132178196687376\n"
          ]
        }
      ],
      "source": [
        "a = \"this is a very long string\"\n",
        "b = \"this is a very long string\"\n",
        "print(a is b)  # False (not interned)\n",
        "print(\"id(a)\", id(a))\n",
        "print(\"id(b)\", id(b))"
      ]
    },
    {
      "cell_type": "code",
      "execution_count": 4,
      "metadata": {
        "colab": {
          "base_uri": "https://localhost:8080/"
        },
        "id": "RzldPkygCNlZ",
        "outputId": "15715b55-8a9c-44f5-edd1-e42310461352"
      },
      "outputs": [
        {
          "name": "stdout",
          "output_type": "stream",
          "text": [
            "True\n",
            "id(a) 2044050013472\n",
            "id(b) 2044050013472\n"
          ]
        }
      ],
      "source": [
        "import sys\n",
        "\n",
        "a = sys.intern(\"this is a very long string\")\n",
        "b = sys.intern(\"this is a very long string\")\n",
        "\n",
        "print(a is b)  # True (manually interned)\n",
        "print(\"id(a)\", id(a))\n",
        "print(\"id(b)\", id(b))"
      ]
    },
    {
      "cell_type": "markdown",
      "metadata": {
        "id": "nwAEY-jg9BeP"
      },
      "source": [
        "2. **Dynamically Created Strings**: Strings created at runtime (e.g., concatenation) are not interned or pooled."
      ]
    },
    {
      "cell_type": "code",
      "execution_count": null,
      "metadata": {
        "colab": {
          "base_uri": "https://localhost:8080/"
        },
        "id": "JYlp0djr9O3T",
        "outputId": "fb679b83-bd4b-4456-a9c8-7075b5bee2d4"
      },
      "outputs": [
        {
          "name": "stdout",
          "output_type": "stream",
          "text": [
            "c is d =  False\n",
            "helloworld  - id(c) 132178196390256\n",
            "helloworld  - id(d) 132178748685680\n"
          ]
        }
      ],
      "source": [
        "a = \"hello\"\n",
        "b = \"world\"\n",
        "c = a + b  # Dynamically created string\n",
        "d = \"helloworld\"\n",
        "print(\"c is d = \", c is d)  # False (not interned or pooled)\n",
        "print(c, \" - id(c)\", id(c))\n",
        "print(d, \" - id(d)\", id(d))"
      ]
    },
    {
      "cell_type": "code",
      "execution_count": null,
      "metadata": {
        "colab": {
          "base_uri": "https://localhost:8080/"
        },
        "id": "8FXccZ_0-B6z",
        "outputId": "9ee4aadc-d32e-467a-f69b-44aed6178ae0"
      },
      "outputs": [
        {
          "name": "stdout",
          "output_type": "stream",
          "text": [
            "c is c1 =  False\n",
            "helloworld  - id(c1) 132178196306416\n",
            "helloworld  - id(c)  132178196390256\n",
            "is contant same =  True\n"
          ]
        }
      ],
      "source": [
        "c1 = a + b\n",
        "print(\"c is c1 = \",  c is c1)\n",
        "\n",
        "print(c1, \" - id(c1)\", id(c1))\n",
        "print(c,  \" - id(c) \", id(c))\n",
        "\n",
        "print(\"is contant same = \", c == c1)"
      ]
    },
    {
      "cell_type": "code",
      "execution_count": null,
      "metadata": {
        "colab": {
          "base_uri": "https://localhost:8080/"
        },
        "id": "IjKXdnMopdD3",
        "outputId": "1d0351a2-d33d-4781-c512-3e57cb147458"
      },
      "outputs": [
        {
          "data": {
            "text/plain": [
              "['capitalize',\n",
              " 'casefold',\n",
              " 'center',\n",
              " 'count',\n",
              " 'encode',\n",
              " 'endswith',\n",
              " 'expandtabs',\n",
              " 'find',\n",
              " 'format',\n",
              " 'format_map',\n",
              " 'index',\n",
              " 'isalnum',\n",
              " 'isalpha',\n",
              " 'isascii',\n",
              " 'isdecimal',\n",
              " 'isdigit',\n",
              " 'isidentifier',\n",
              " 'islower',\n",
              " 'isnumeric',\n",
              " 'isprintable',\n",
              " 'isspace',\n",
              " 'istitle',\n",
              " 'isupper',\n",
              " 'join',\n",
              " 'ljust',\n",
              " 'lower',\n",
              " 'lstrip',\n",
              " 'maketrans',\n",
              " 'partition',\n",
              " 'removeprefix',\n",
              " 'removesuffix',\n",
              " 'replace',\n",
              " 'rfind',\n",
              " 'rindex',\n",
              " 'rjust',\n",
              " 'rpartition',\n",
              " 'rsplit',\n",
              " 'rstrip',\n",
              " 'split',\n",
              " 'splitlines',\n",
              " 'startswith',\n",
              " 'strip',\n",
              " 'swapcase',\n",
              " 'title',\n",
              " 'translate',\n",
              " 'upper',\n",
              " 'zfill']"
            ]
          },
          "execution_count": 31,
          "metadata": {},
          "output_type": "execute_result"
        }
      ],
      "source": [
        "# prompt: print list of str functions using dir(), dont show function starting with\"__\"\n",
        "\n",
        "# Get the list of string methods\n",
        "string_methods: str = dir(str)\n",
        "\n",
        "# Filter out methods starting with \"__\"\n",
        "filtered_methods: str = [method for method in string_methods if not method.startswith(\"__\")]\n",
        "\n",
        "# Print the filtered list\n",
        "filtered_methods"
      ]
    },
    {
      "cell_type": "markdown",
      "metadata": {
        "id": "kFtopQLpO4Mx"
      },
      "source": [
        "## **String Repetition**"
      ]
    },
    {
      "cell_type": "markdown",
      "metadata": {
        "id": "N6QXho3rO-cT"
      },
      "source": [
        "String repetition in Python is a straightforward way to create a new string by concatenating multiple copies of an existing string. You achieve this using the asterisk (`*`) operator.\n",
        "\n",
        "Here's a concise breakdown:\n",
        "\n",
        "-   **The Basics:**\n",
        "    \n",
        "    -   You take a string and multiply it by an integer.\n",
        "    -   The result is a new string containing the original string repeated the specified number of times.\n",
        "-   **Example:**\n",
        "    \n",
        "    -   `\"abc\" * 3` results in `\"abcabcabc\"`.\n",
        "    -   `\"Python! \" * 2` results in `\"Python! Python! \"`.\n",
        "-   **Key Points:**\n",
        "    \n",
        "    -   The `*` operator requires an integer as the multiplier.\n",
        "    -   Multiplying a string by zero results in an empty string.\n",
        "    -   This is a very efficient way to create a longer string when you need repeating patterns.\n",
        "-   **Use Cases:**\n",
        "    \n",
        "    -   Creating visual separators (e.g., `\"-\" * 20`).\n",
        "    -   Generating repetitive patterns for text-based displays.\n",
        "    -   Quickly building strings with repeated elements.\n",
        "\n",
        "\n",
        "\n",
        "---\n",
        "\n",
        "### 🔹 **String Repetition kya hoti hai?**\n",
        "\n",
        "**String repetition** ka matlab hota hai:\n",
        "> \"Ek string ko baar baar repeat karna (dobara likhna) without copy-pasting.\"\n",
        "\n",
        "Python mein hum **`*` (asterisk)** ka use kar ke ye kaam karte hain.\n",
        "\n",
        "---\n",
        "\n",
        "### 🧠 **Kaise kaam karta hai?**\n",
        "\n",
        "Tum likhtay ho:  \n",
        "```python\n",
        "\"string\" * number\n",
        "```\n",
        "\n",
        "Yani:\n",
        "- `\"hello\" * 3` → `\"hellohellohello\"`\n",
        "- `\"A! \" * 5` → `\"A! A! A! A! A! \"`\n",
        "\n",
        "---\n",
        "\n",
        "### 📌 **Important Baatain**\n",
        "\n",
        "| Rule | Asaan Samajh |\n",
        "|------|--------------|\n",
        "| `*` ka right side me **number hona chahiye** | `\"hi\" * 3` — ✅ thik hai |\n",
        "| Agar **0 se multiply karoge**, to khaali string milegi | `\"hi\" * 0` → `\"\"` |\n",
        "| Integers ke ilawa kuch aur diya to error milega | `\"hi\" * \"2\"` — ❌ wrong |\n",
        "\n",
        "---\n",
        "\n",
        "### ✅ **Use Cases / Kahan kaam aata hai?**\n",
        "\n",
        "- Visual line banana:  \n",
        "  `\"=\" * 30` → `==============================`\n",
        "\n",
        "- Design pattern banana:  \n",
        "  `\"abc-\" * 4` → `\"abc-abc-abc-abc-\"`\n",
        "\n",
        "- Empty string banana:  \n",
        "  `\"test\" * 0` → `\"\"` (useful in condition check)\n",
        "\n",
        "---\n",
        "\n",
        "### 💻 **Simple Python Example**\n",
        "\n",
        "```python\n",
        "print(\"Hello \" * 3)\n",
        "# Output: Hello Hello Hello \n",
        "\n",
        "print(\"-\" * 20)\n",
        "# Output: --------------------\n",
        "\n",
        "stars = \"* \" * 5\n",
        "print(stars)\n",
        "# Output: * * * * * \n",
        "\n",
        "pattern = \"abc-\" * 2\n",
        "print(pattern)\n",
        "# Output: abc-abc-\n",
        "```\n",
        "\n",
        "---\n",
        "\n",
        "### 🪄 **Ek Line Summary**\n",
        "\n",
        "📌 `string * number` se tum ek string ko repeat kar sakte ho — bohat simple aur fast tareeqa!\n",
        "\n"
      ]
    },
    {
      "cell_type": "markdown",
      "metadata": {
        "id": "iMM7TKkgFITU"
      },
      "source": [
        "\n",
        "\n",
        "---\n",
        "\n"
      ]
    },
    {
      "cell_type": "code",
      "execution_count": null,
      "metadata": {
        "colab": {
          "base_uri": "https://localhost:8080/"
        },
        "id": "Pe2bX9sQPMrC",
        "outputId": "f9aff93d-3a89-4915-cf16-fb73fda9fc69"
      },
      "outputs": [
        {
          "name": "stdout",
          "output_type": "stream",
          "text": [
            "Original string: Hello\n",
            "Repeated string: HelloHelloHello\n",
            "------------------------------\n",
            "* * * * * \n",
            "Empty string: ''\n",
            "*\n",
            "**\n",
            "***\n",
            "****\n",
            "*****\n"
          ]
        }
      ],
      "source": [
        "# String repetition examples\n",
        "\n",
        "base_string = \"Hello\"\n",
        "repetition_count = 3\n",
        "\n",
        "repeated_string = base_string * repetition_count\n",
        "\n",
        "print(f\"Original string: {base_string}\")\n",
        "print(f\"Repeated string: {repeated_string}\")\n",
        "\n",
        "# Using repetition for visual separators\n",
        "separator = \"-\" * 30\n",
        "print(separator)\n",
        "\n",
        "# Repeating with different strings and counts\n",
        "pattern = \"* \"\n",
        "repeated_pattern = pattern * 5\n",
        "print(repeated_pattern)\n",
        "\n",
        "# Repeating zero times\n",
        "empty_string = \"Test\" * 0\n",
        "print(f\"Empty string: '{empty_string}'\")\n",
        "\n",
        "#using string repetition in a loop.\n",
        "for i in range(1,6):\n",
        "  print(\"*\"*i)"
      ]
    },
    {
      "cell_type": "markdown",
      "metadata": {
        "id": "m4bA1RblPXFB"
      },
      "source": [
        "## **Explanation:**\n",
        "\n",
        "1.  **Basic Repetition:**\n",
        "    -   We define a `base_string` and a `repetition_count`.\n",
        "    -   The `*` operator multiplies the string by the count, creating `repeated_string`.\n",
        "    -   f-strings are used to print the results.\n",
        "2.  **Visual Separators:**\n",
        "    -   We create a separator line using `\"-\" * 30`.\n",
        "3.  **Different Patterns:**\n",
        "    -   We demostrate creating a different repeating pattern.\n",
        "4.  **Zero Repetition:**\n",
        "    -   Demonstrates that multiplying by zero results in an empty string.\n",
        "5.  **Loop Example**\n",
        "    -   A for loop is used to print an increasing number of asterisks on each line, creating a triangle like pattern."
      ]
    },
    {
      "cell_type": "markdown",
      "metadata": {
        "id": "oRwET4FHrsf4"
      },
      "source": [
        "\n",
        "### **Comparison Operators for Strings in Python**\n",
        "\n",
        "In Python, comparison operators work with **strings** based on **lexicographical order** (dictionary order), which follows the **Unicode values** of characters.\n",
        "\n",
        "### **Examples of String Comparisons**"
      ]
    },
    {
      "cell_type": "code",
      "execution_count": null,
      "metadata": {
        "colab": {
          "base_uri": "https://localhost:8080/"
        },
        "id": "BQ0rMPzSruyQ",
        "outputId": "1cd9e247-b005-48c0-f358-10f109a70bba"
      },
      "outputs": [
        {
          "name": "stdout",
          "output_type": "stream",
          "text": [
            "str1 == str2 =  False\n",
            "str1 != str2 =  True\n",
            "str1 > str2  =  False\n",
            "str1 < str2  =  True\n"
          ]
        }
      ],
      "source": [
        "# Define two strings\n",
        "str1 = \"apple\"\n",
        "str2 = \"banana\"\n",
        "\n",
        "print(\"str1 == str2 = \",str1 == str2)  # False (because \"apple\" is not equal to \"banana\")\n",
        "print(\"str1 != str2 = \",str1 != str2)  # True  (because \"apple\" is different from \"banana\")\n",
        "print(\"str1 > str2  = \", str1 > str2)   # False (because \"apple\" comes before \"banana\" in dictionary order)\n",
        "print(\"str1 < str2  = \", str1 < str2)   # True  (because \"apple\" comes before \"banana\")\n"
      ]
    },
    {
      "cell_type": "markdown",
      "metadata": {},
      "source": [
        "\n",
        "---\n",
        "\n",
        "### 🔡 **Strings kya hoti hain?**\n",
        "\n",
        "String matlab: **Alphabets ka group**  \n",
        "Jaise: `\"apple\"`, `\"banana\"`, `\"car\"`, `\"zebra\"`\n",
        "\n",
        "---\n",
        "\n",
        "### 📖 **Alphabetical Order kya hota hai?**\n",
        "\n",
        "Socho ke tumhara paas dictionary (qaamoos) hai.  \n",
        "Usme words kis order mein hote hain?\n",
        "\n",
        "```text\n",
        "apple  \n",
        "banana  \n",
        "cat  \n",
        "dog  \n",
        "```\n",
        "\n",
        "➡️ Pehle **\"a\" wale** words  \n",
        "➡️ Phir **\"b\" wale**  \n",
        "➡️ Phir **\"c\" wale**\n",
        "\n",
        "Yani:\n",
        "\n",
        "🟢 `\"apple\"` < `\"banana\"`  \n",
        "🔴 `\"zebra\"` > `\"apple\"`\n",
        "\n",
        "---\n",
        "\n",
        "### 🧠 **Code Example Samjho Jaise Real Life**\n",
        "\n",
        "```python\n",
        "str1 = \"apple\"\n",
        "str2 = \"banana\"\n",
        "```\n",
        "\n",
        "Ye dono **words** hain jaise dictionary mein hote hain.\n",
        "\n",
        "---\n",
        "\n",
        "### 💬 Comparison One by One:\n",
        "\n",
        "#### 1. `str1 == str2`\n",
        "\n",
        "```python\n",
        "\"apple\" == \"banana\"\n",
        "```\n",
        "\n",
        "🤔 Kya dono same hain?\n",
        "\n",
        "❌ **Nahi!** Apple aur banana alag alag cheezein hain.  \n",
        "✅ Output: `False`\n",
        "\n",
        "---\n",
        "\n",
        "#### 2. `str1 != str2`\n",
        "\n",
        "```python\n",
        "\"apple\" != \"banana\"\n",
        "```\n",
        "\n",
        "🤔 Kya dono alag hain?\n",
        "\n",
        "✅ **Haan!** Apple ≠ Banana  \n",
        "➡️ Output: `True`\n",
        "\n",
        "---\n",
        "\n",
        "#### 3. `str1 > str2`\n",
        "\n",
        "```python\n",
        "\"apple\" > \"banana\"\n",
        "```\n",
        "\n",
        "🤔 Kya \"apple\" dictionary mein \"banana\" ke baad aata hai?\n",
        "\n",
        "❌ **Nahi!** Apple to pehle aata hai  \n",
        "➡️ Output: `False`\n",
        "\n",
        "---\n",
        "\n",
        "#### 4. `str1 < str2`\n",
        "\n",
        "```python\n",
        "\"apple\" < \"banana\"\n",
        "```\n",
        "\n",
        "🤔 Kya \"apple\" pehle aata hai \"banana\" se?\n",
        "\n",
        "✅ **Haan!** Apple pehle aata hai  \n",
        "➡️ Output: `True`\n",
        "\n",
        "---\n",
        "\n",
        "### 🎯 Super Simple Summary:\n",
        "\n",
        "| Comparison       | Matlab kya hai?               | Result        |\n",
        "|------------------|-------------------------------|---------------|\n",
        "| `\"apple\" == \"banana\"` | Kya dono same hain?              | ❌ `False` |\n",
        "| `\"apple\" != \"banana\"` | Kya dono alag hain?              | ✅ `True`  |\n",
        "| `\"apple\" > \"banana\"`  | Kya apple dictionary mein baad aata hai? | ❌ `False` |\n",
        "| `\"apple\" < \"banana\"`  | Kya apple dictionary mein pehle aata hai? | ✅ `True`  |\n",
        "\n",
        "---\n",
        "\n"
      ]
    },
    {
      "cell_type": "markdown",
      "metadata": {
        "id": "XAIhrD-cryRb"
      },
      "source": [
        "\n",
        "### **How String Comparison Works?**\n",
        "\n",
        "-   **Python compares strings character by character** using their **Unicode values**.\n",
        "    \n",
        "-   `'a' < 'b'` because the Unicode value of `'a'` (97) is smaller than that of `'b'` (98).\n",
        "    \n",
        "-   `'apple' < 'banana'` → `'a' < 'b'`, so Python stops there.\n",
        "    \n",
        "\n",
        "### **Comparing Strings with Different Cases**"
      ]
    },
    {
      "cell_type": "code",
      "execution_count": null,
      "metadata": {
        "colab": {
          "base_uri": "https://localhost:8080/"
        },
        "id": "y7gfAqE8sLCK",
        "outputId": "cf8df863-01ba-4b30-ed3b-3f65f375fcc0"
      },
      "outputs": [
        {
          "name": "stdout",
          "output_type": "stream",
          "text": [
            "\"Apple\" > \"apple\"   =  False\n",
            "\"apple\" == \"APPLE\") =  False\n",
            "\"abc\" < \"abd\"       =  True\n"
          ]
        }
      ],
      "source": [
        "print('\"Apple\" > \"apple\"   = ', \"Apple\" > \"apple\")  # False ('A' has a smaller Unicode value than 'a')\n",
        "print('\"apple\" == \"APPLE\") = ', \"apple\" == \"APPLE\") # False (case-sensitive)\n",
        "print('\"abc\" < \"abd\"       = ', \"abc\" < \"abd\")      # True ('c' < 'd')\n"
      ]
    },
    {
      "cell_type": "markdown",
      "metadata": {
        "id": "NDz7jQQlslGo"
      },
      "source": [
        "## **Using Comparison Operators in an If Statement**"
      ]
    },
    {
      "cell_type": "code",
      "execution_count": null,
      "metadata": {
        "colab": {
          "base_uri": "https://localhost:8080/"
        },
        "id": "SjIJxjyhsnVH",
        "outputId": "38f079a2-681e-4f48-9088-4ae925f961cd"
      },
      "outputs": [
        {
          "name": "stdout",
          "output_type": "stream",
          "text": [
            "mango comes after apple in alphabetical order\n"
          ]
        }
      ],
      "source": [
        "word = \"mango\"\n",
        "\n",
        "if word > \"apple\":\n",
        "    print(f\"{word} comes after apple in alphabetical order\")\n",
        "else:\n",
        "    print(f\"{word} comes before apple in alphabetical order\")\n"
      ]
    },
    {
      "cell_type": "markdown",
      "metadata": {},
      "source": [
        "\n",
        "\n",
        "---\n",
        "\n",
        "## 🔄 **1. Type Casting (General)**\n",
        "\n",
        "🧠 **Type casting** ka matlab hota hai:\n",
        "\n",
        "> **Ek data type ko doosray data type mein convert karna.**\n",
        "\n",
        "### ✅ Examples:\n",
        "\n",
        "```python\n",
        "x = 5        # integer\n",
        "y = float(x) # ab y ban gaya 5.0 (float)\n",
        "\n",
        "a = \"123\"\n",
        "b = int(a)   # ab b ban gaya 123 (integer)\n",
        "```\n",
        "\n",
        "📌 Yani:\n",
        "- `int()`: kisi cheez ko number banata hai\n",
        "- `float()`: point waala number banata hai\n",
        "- `str()`: kisi bhi cheez ko string banata hai\n",
        "\n",
        "---\n",
        "\n",
        "## 📝 **2. String Casting (Specific Type of Casting)**\n",
        "\n",
        "📌 **String casting** type casting ka ek part hai — jahan **kisi bhi data ko string mein convert** kiya jata hai.\n",
        "\n",
        "> Kisi number, float, ya boolean ko `str()` function se string bana dete hain.\n",
        "\n",
        "### ✅ Examples:\n",
        "\n",
        "```python\n",
        "num = 99\n",
        "s = str(num)  # ab s ban gaya \"99\" (ye ab text hai, number nahi)\n",
        "```\n",
        "\n",
        "---\n",
        "\n",
        "## 📊 **Farak Table (Simple Words)**\n",
        "\n",
        "| Feature              | Type Casting                      | String Casting                    |\n",
        "|----------------------|-----------------------------------|-----------------------------------|\n",
        "| Matlab kya hai?      | Kisi bhi type ko doosray type mein badalna | Kisi bhi value ko **string** mein badalna |\n",
        "| Example              | `int(\"123\")`, `float(10)`         | `str(123)`, `str(True)`           |\n",
        "| Scope                | Har data type pe lagta hai        | Sirf string banane ke liye hota hai |\n",
        "| Function             | `int()`, `float()`, `bool()`, `str()` | `str()`                            |\n",
        "\n",
        "---\n",
        "\n",
        "## 💡 Real-Life Example:\n",
        "\n",
        "Socho tumhara paas number hai:\n",
        "\n",
        "```python\n",
        "age = 18\n",
        "```\n",
        "\n",
        "Ab agar tum ye likho:\n",
        "\n",
        "```python\n",
        "print(\"Your age is \" + age)   # ❌ Error aayega (string + number nahi hota)\n",
        "```\n",
        "\n",
        "To ye galat hai!\n",
        "\n",
        "**Sahi tarika (string casting):**\n",
        "\n",
        "```python\n",
        "print(\"Your age is \" + str(age))  # ✅ \"Your age is 18\"\n",
        "```\n",
        "\n",
        "---\n",
        "\n",
        "## 🔚 Easy Summary:\n",
        "\n",
        "🟢 **Type Casting** = Har type mein convert karna (int, float, str, bool)  \n",
        "🟢 **String Casting** = Sirf string banane ke liye use hota hai (`str()`)\n",
        "\n",
        "---\n",
        "\n"
      ]
    },
    {
      "cell_type": "markdown",
      "metadata": {
        "id": "gb2Aqq8uZXtl"
      },
      "source": [
        "#**Comprehensive Guide to Type Casting in Python** 🚀\n",
        "\n",
        "## **What is Type Casting?**\n",
        "\n",
        "Type casting (or type conversion) is the process of converting one data type into another. Python supports two types of type casting:\n",
        "\n",
        "- **`Implicit`** Type Casting – Done `automatically` by Python.\n",
        "- **`Explicit`** Type Casting – Done `manually using built-in functions`."
      ]
    },
    {
      "cell_type": "markdown",
      "metadata": {
        "id": "Otvt9DWkaDKN"
      },
      "source": [
        "##1️⃣ **Implicit Type Casting (Automatic Conversion)**\n",
        "\n",
        "Python automatically converts one data type to another `when no data loss occurs.`\n",
        "\n",
        "Example 1: Converting int to float (`Safe Conversion`)"
      ]
    },
    {
      "cell_type": "code",
      "execution_count": null,
      "metadata": {
        "colab": {
          "base_uri": "https://localhost:8080/"
        },
        "id": "XKNrIGXaaUcY",
        "outputId": "fde8e662-2d9a-4578-dadb-20b5aee262bd"
      },
      "outputs": [
        {
          "name": "stdout",
          "output_type": "stream",
          "text": [
            "15.5 <class 'float'>\n"
          ]
        }
      ],
      "source": [
        "num_int: int = 10\n",
        "num_float = num_int + 5.5  # int + float = float. skipped type hint to see what data type is assigned at runtime\n",
        "print(num_float, type(num_float))"
      ]
    },
    {
      "cell_type": "markdown",
      "metadata": {
        "id": "ZC55wkblae8E"
      },
      "source": [
        "### **Example 2: Converting int to complex**\n",
        "\n",
        "✅ Python automatically promotes int to complex, as complex numbers `cannot be downgraded`."
      ]
    },
    {
      "cell_type": "code",
      "execution_count": null,
      "metadata": {
        "colab": {
          "base_uri": "https://localhost:8080/"
        },
        "id": "L_5mk7HxahAz",
        "outputId": "7d38bae3-cad8-4ed7-c78f-95a6e031f6e2"
      },
      "outputs": [
        {
          "name": "stdout",
          "output_type": "stream",
          "text": [
            "(7+3j) <class 'complex'>\n",
            "(7+3j) <class 'complex'>\n"
          ]
        }
      ],
      "source": [
        "num_int: int = 7\n",
        "num_complex: complex = num_int + 3j  # int + complex → complex\n",
        "print(num_complex, type(num_complex))\n",
        "\n",
        "# num_int automatically promotes int to complex type\n",
        "num_int = num_complex\n",
        "print(num_int, type(num_int))"
      ]
    },
    {
      "cell_type": "markdown",
      "metadata": {
        "id": "3hnvNlipbIXE"
      },
      "source": [
        "### **Example 3: No Implicit Conversion Between str and int**\n",
        "\n",
        "❌ Error: Python does NOT implicitly convert str to int. We must convert explicitly.\n",
        "\n"
      ]
    },
    {
      "cell_type": "code",
      "execution_count": null,
      "metadata": {
        "colab": {
          "base_uri": "https://localhost:8080/",
          "height": 176
        },
        "id": "R7bg2sKSbKrD",
        "outputId": "db785ac0-3ed5-4966-979f-dc68e3a526f1"
      },
      "outputs": [
        {
          "ename": "TypeError",
          "evalue": "can only concatenate str (not \"int\") to str",
          "output_type": "error",
          "traceback": [
            "\u001b[0;31m---------------------------------------------------------------------------\u001b[0m",
            "\u001b[0;31mTypeError\u001b[0m                                 Traceback (most recent call last)",
            "\u001b[0;32m<ipython-input-37-d5cc3d5334f4>\u001b[0m in \u001b[0;36m<cell line: 0>\u001b[0;34m()\u001b[0m\n\u001b[1;32m      2\u001b[0m \u001b[0mnum_int\u001b[0m \u001b[0;34m=\u001b[0m \u001b[0;36m5\u001b[0m\u001b[0;34m\u001b[0m\u001b[0;34m\u001b[0m\u001b[0m\n\u001b[1;32m      3\u001b[0m \u001b[0;34m\u001b[0m\u001b[0m\n\u001b[0;32m----> 4\u001b[0;31m \u001b[0mprint\u001b[0m\u001b[0;34m(\u001b[0m\u001b[0mnum_str\u001b[0m \u001b[0;34m+\u001b[0m \u001b[0mnum_int\u001b[0m\u001b[0;34m)\u001b[0m  \u001b[0;31m# ❌ TypeError\u001b[0m\u001b[0;34m\u001b[0m\u001b[0;34m\u001b[0m\u001b[0m\n\u001b[0m",
            "\u001b[0;31mTypeError\u001b[0m: can only concatenate str (not \"int\") to str"
          ]
        }
      ],
      "source": [
        "num_str = \"100\"\n",
        "num_int = 5\n",
        "\n",
        "print(num_str + num_int)  # ❌ TypeError"
      ]
    },
    {
      "cell_type": "code",
      "execution_count": null,
      "metadata": {
        "colab": {
          "base_uri": "https://localhost:8080/"
        },
        "id": "PIHiTR72poV4",
        "outputId": "16e584b8-c87f-4d2a-92b2-a66be0f214db"
      },
      "outputs": [
        {
          "name": "stdout",
          "output_type": "stream",
          "text": [
            "105\n",
            "1005\n"
          ]
        }
      ],
      "source": [
        "print(int(num_str) + num_int) # ✅  casting str to int, arthmitic operation perfomed\n",
        "print(num_str + str(num_int)) # ✅  casting int to str, string concatenation performed"
      ]
    },
    {
      "cell_type": "markdown",
      "metadata": {
        "id": "dfYy7o5mbfKj"
      },
      "source": [
        "## **2️⃣ Explicit Type Casting (Manual Conversion)**\n",
        "\n",
        "Python provides several built-in functions for type conversion:\n",
        "\n",
        "<br>\n",
        "\n",
        "| function   | type           |   |\n",
        "|------------|----------------|---|\n",
        "| int(x)     | Integer        |   |\n",
        "| float(x)   | Float          |   |\n",
        "| complex(x) | Complex number |   |\n",
        "| str(x)     | String         |   |\n",
        "| bool(x)    | Boolean        |   |\n",
        "| list(x)    | List           |   |\n",
        "| tuple(x)   | Tuple          |   |\n",
        "| set(x)     | Set            |   |\n",
        "| dict(x)    | Dictionary     |   |\n",
        "|            |                |   |"
      ]
    },
    {
      "cell_type": "markdown",
      "metadata": {
        "id": "-LLBnWY8cS4L"
      },
      "source": [
        "### **Integer Conversion (int())**\n",
        "\n",
        "Used to convert float, string (`if valid number`), and boolean values to integers.\n",
        "\n",
        "✅ Example 1: Float → Integer (`Removes Decimal Part`)\n",
        "\n",
        "\n",
        "🔹 Note: int() `truncates` (removes) the decimal part, it does not round."
      ]
    },
    {
      "cell_type": "code",
      "execution_count": null,
      "metadata": {
        "colab": {
          "base_uri": "https://localhost:8080/"
        },
        "id": "deGTKUr8ci3y",
        "outputId": "294c0413-bca9-458f-88b7-3518eb5217ea"
      },
      "outputs": [
        {
          "name": "stdout",
          "output_type": "stream",
          "text": [
            "9 <class 'int'>\n",
            "int(b) =  1\n"
          ]
        }
      ],
      "source": [
        "num_float: float = 9.8\n",
        "num_int = int(num_float) # skipped type hint to see what data type is assigned at runtime\n",
        "print(num_int, type(num_int))\n",
        "\n",
        "b: bool = True\n",
        "print(\"int(b) = \", int(b))"
      ]
    },
    {
      "cell_type": "markdown",
      "metadata": {
        "id": "CjY7L1TndMOC"
      },
      "source": [
        "✅ Example 2: String → Integer (Only Valid Numbers)\n",
        "\n",
        "❌ Invalid Case: \"123abc\" cannot be converted to int(). It will raise a ValueError."
      ]
    },
    {
      "cell_type": "code",
      "execution_count": null,
      "metadata": {
        "colab": {
          "base_uri": "https://localhost:8080/"
        },
        "id": "5TzFWnDPdQtB",
        "outputId": "d18f9e50-7468-42c1-c942-2043f21a46ad"
      },
      "outputs": [
        {
          "name": "stdout",
          "output_type": "stream",
          "text": [
            "123 <class 'int'>\n"
          ]
        }
      ],
      "source": [
        "num_str: str = \"123\"\n",
        "#num_str = \"123abc\" #uncomment to see error\n",
        "\n",
        "num_int = int(num_str) # skipped type hint to see what data type is assigned at runtime\n",
        "print(num_int, type(num_int))"
      ]
    },
    {
      "cell_type": "markdown",
      "metadata": {
        "id": "Zt0s0v0RdqpI"
      },
      "source": [
        "✅ Example 3: Boolean → Integer"
      ]
    },
    {
      "cell_type": "code",
      "execution_count": null,
      "metadata": {
        "colab": {
          "base_uri": "https://localhost:8080/"
        },
        "id": "cnXuFumQdrrZ",
        "outputId": "5a2916af-bf89-4a00-b70f-2ccf93148a43"
      },
      "outputs": [
        {
          "name": "stdout",
          "output_type": "stream",
          "text": [
            "1\n",
            "0\n"
          ]
        }
      ],
      "source": [
        "print(int(True))   # Output: 1\n",
        "print(int(False))  # Output: 0"
      ]
    },
    {
      "cell_type": "markdown",
      "metadata": {
        "id": "Veo9mMeFdzuB"
      },
      "source": [
        "## **Float Conversion (float())**\n",
        "\n",
        "Converts integers, strings, and booleans to floating-point numbers.\n",
        "\n",
        "✅ Example 1: Integer → Float"
      ]
    },
    {
      "cell_type": "code",
      "execution_count": null,
      "metadata": {
        "colab": {
          "base_uri": "https://localhost:8080/"
        },
        "id": "CidK0FEwd_0p",
        "outputId": "3e9df966-a334-44ab-ca4c-69fdc30ad36a"
      },
      "outputs": [
        {
          "name": "stdout",
          "output_type": "stream",
          "text": [
            "5.0 <class 'float'>\n"
          ]
        }
      ],
      "source": [
        "num_int: int = 5\n",
        "num_float = float(num_int) # skipped type hint to see what data type is assigned at runtime\n",
        "print(num_float, type(num_float))"
      ]
    },
    {
      "cell_type": "markdown",
      "metadata": {
        "id": "glnFs5f0eFla"
      },
      "source": [
        "✅ Example 2: String → Float"
      ]
    },
    {
      "cell_type": "code",
      "execution_count": null,
      "metadata": {
        "colab": {
          "base_uri": "https://localhost:8080/"
        },
        "id": "EA0jXo-ZeGyZ",
        "outputId": "fa42e3ae-9bd9-42a6-ef15-51aed725f57f"
      },
      "outputs": [
        {
          "name": "stdout",
          "output_type": "stream",
          "text": [
            "3.14 <class 'float'>\n"
          ]
        }
      ],
      "source": [
        "num_str: str = \"3.14\"\n",
        "num_float = float(num_str) # skipped type hint to see what data type is assigned at runtime\n",
        "print(num_float, type(num_float))"
      ]
    },
    {
      "cell_type": "markdown",
      "metadata": {
        "id": "YiJT9OURewkQ"
      },
      "source": [
        "## **String Conversion (str())**\n",
        "\n",
        "Converts numbers, lists, tuples, dictionaries, and booleans to strings.\n",
        "\n",
        "✅ Example 1: Number → String"
      ]
    },
    {
      "cell_type": "code",
      "execution_count": null,
      "metadata": {
        "colab": {
          "base_uri": "https://localhost:8080/"
        },
        "id": "t4qR-fkVe3NR",
        "outputId": "87e80fc1-6430-44a9-e538-fef5d475a78c"
      },
      "outputs": [
        {
          "name": "stdout",
          "output_type": "stream",
          "text": [
            "100 <class 'str'>\n"
          ]
        }
      ],
      "source": [
        "num: int = 100\n",
        "num_str = str(num) # skipped type hint to see what data type is assigned at runtime\n",
        "print(num_str, type(num_str))"
      ]
    },
    {
      "cell_type": "markdown",
      "metadata": {
        "id": "fhO-bTfvfECI"
      },
      "source": [
        "✅ Example 2: Boolean → String"
      ]
    },
    {
      "cell_type": "code",
      "execution_count": null,
      "metadata": {
        "colab": {
          "base_uri": "https://localhost:8080/"
        },
        "id": "KgArrCZsfEyA",
        "outputId": "88ae29ec-38d4-45e8-f880-f6263d84bf14"
      },
      "outputs": [
        {
          "name": "stdout",
          "output_type": "stream",
          "text": [
            "True\n",
            "False\n"
          ]
        }
      ],
      "source": [
        "print(str(True))   # Output: \"True\"\n",
        "print(str(False))  # Output: \"False\""
      ]
    },
    {
      "cell_type": "markdown",
      "metadata": {
        "id": "GDBtpnYdg84A"
      },
      "source": [
        "## **Boolean Conversion (bool())**\n",
        "\n",
        "Converts other data types to boolean (True or False).\n",
        "\n",
        "✅ Example:"
      ]
    },
    {
      "cell_type": "code",
      "execution_count": null,
      "metadata": {
        "colab": {
          "base_uri": "https://localhost:8080/"
        },
        "id": "IFegAIo0hFFu",
        "outputId": "709875f0-af92-4a95-ab1b-2695530755b8"
      },
      "outputs": [
        {
          "name": "stdout",
          "output_type": "stream",
          "text": [
            "bool(1)       =  True\n",
            "bool(0)       =  False\n",
            "bool(-10)     =  True\n",
            "bool(\"\")      =  False\n",
            "bool(\"Hello\") =  True\n",
            "bool([])      =  False\n",
            "bool([1, 2])  =  True\n"
          ]
        }
      ],
      "source": [
        "print(\"bool(1)       = \", bool(1))       # True\n",
        "print(\"bool(0)       = \", bool(0))       # False\n",
        "print(\"bool(-10)     = \", bool(-10))     # True (Non-zero numbers are True)\n",
        "print('bool(\"\")      = ', bool(\"\"))      # False (Empty string)\n",
        "print('bool(\"Hello\") = ', bool(\"Hello\")) # True (Non-empty string)\n",
        "print(\"bool([])      = \", bool([]))      # False (Empty list)\n",
        "print(\"bool([1, 2])  = \", bool([1, 2]))  # True (Non-empty list)"
      ]
    },
    {
      "cell_type": "markdown",
      "metadata": {
        "id": "cpPnDqbWhyY2"
      },
      "source": [
        "## **List, Tuple & Set Conversions**\n",
        "\n",
        "Python allows converting between lists, tuples, and sets.\n",
        "\n",
        "✅ Example 1: Tuple → List"
      ]
    },
    {
      "cell_type": "code",
      "execution_count": null,
      "metadata": {
        "colab": {
          "base_uri": "https://localhost:8080/"
        },
        "id": "SIWxhS_Ih4eV",
        "outputId": "42ec7b60-4bc5-48a2-9fcb-04f375d322f7"
      },
      "outputs": [
        {
          "name": "stdout",
          "output_type": "stream",
          "text": [
            "[1, 2.7, 3, 'OB'] <class 'list'>\n"
          ]
        }
      ],
      "source": [
        "tup: tuple = (1, 2.7, 3, 'OB')\n",
        "lst = list(tup) # skipped type hint to see what data type is assigned at runtime\n",
        "print(lst, type(lst))"
      ]
    },
    {
      "cell_type": "markdown",
      "metadata": {
        "id": "MW6YF0sviXut"
      },
      "source": [
        "✅ Example 3: List → Set (Removes Duplicates)"
      ]
    },
    {
      "cell_type": "code",
      "execution_count": null,
      "metadata": {
        "colab": {
          "base_uri": "https://localhost:8080/"
        },
        "id": "JndUM-whiZh9",
        "outputId": "9b9fc62d-2b40-401c-b9a4-3b2e8256a151"
      },
      "outputs": [
        {
          "name": "stdout",
          "output_type": "stream",
          "text": [
            "{1, 2, 3, 4, 5, 'Agentic AI'} <class 'set'>\n"
          ]
        }
      ],
      "source": [
        "lst: list = [1, 2, 2, 3, 4, 4, 5, \"Agentic AI\"]\n",
        "s = set(lst)      # skipped type hint to see what data type is assigned at runtime\n",
        "print(s, type(s))"
      ]
    },
    {
      "cell_type": "markdown",
      "metadata": {
        "id": "gZ8rV8j4ifpd"
      },
      "source": [
        "## **Dictionary Conversion (dict())**\n",
        "\n",
        "You can convert lists of key-value pairs into a dictionary.\n",
        "\n",
        "✅ Example: List of Tuples → Dictionary"
      ]
    },
    {
      "cell_type": "code",
      "execution_count": null,
      "metadata": {
        "colab": {
          "base_uri": "https://localhost:8080/"
        },
        "id": "1zfvjtD6ipSF",
        "outputId": "6c7623db-c724-4e4b-bf75-089ba116f6a7"
      },
      "outputs": [
        {
          "name": "stdout",
          "output_type": "stream",
          "text": [
            "{'name': 'Alice', 'age': 25} <class 'dict'>\n"
          ]
        }
      ],
      "source": [
        "lst: list = [(\"name\", \"Alice\"), (\"age\", 25)]\n",
        "d = dict(lst)       # skipped type hint to see what data type is assigned at runtime\n",
        "print(d, type(d))"
      ]
    },
    {
      "cell_type": "markdown",
      "metadata": {
        "id": "UuP6hkX9i6YW"
      },
      "source": [
        "## **Complex Number Conversion (complex())**\n",
        "\n",
        "Used to convert numbers into complex numbers (a + bj).\n",
        "\n",
        "✅ Example:"
      ]
    },
    {
      "cell_type": "code",
      "execution_count": null,
      "metadata": {
        "colab": {
          "base_uri": "https://localhost:8080/"
        },
        "id": "unkRtmmHi-yc",
        "outputId": "44d98ed9-013d-42a6-8a7d-6570c9f0e727"
      },
      "outputs": [
        {
          "name": "stdout",
          "output_type": "stream",
          "text": [
            "(5+0j) <class 'complex'>\n"
          ]
        }
      ],
      "source": [
        "num: int = 5\n",
        "comp = complex(num)   # skipped type hint to see what data type is assigned at runtime\n",
        "print(comp, type(comp))  # Output: (5+0j) <class 'complex'>"
      ]
    },
    {
      "cell_type": "code",
      "execution_count": null,
      "metadata": {
        "colab": {
          "base_uri": "https://localhost:8080/",
          "height": 35
        },
        "id": "f3C8devAs4IO",
        "outputId": "80bce847-4cef-4e81-a173-e244e6ecd1d5"
      },
      "outputs": [
        {
          "data": {
            "application/vnd.google.colaboratory.intrinsic+json": {
              "type": "string"
            },
            "text/plain": [
              "'(5+0j)'"
            ]
          },
          "execution_count": 56,
          "metadata": {},
          "output_type": "execute_result"
        }
      ],
      "source": [
        "num = str(comp)     # skipped type hint to see what data type is assigned at runtime\n",
        "num"
      ]
    },
    {
      "cell_type": "code",
      "execution_count": null,
      "metadata": {
        "colab": {
          "base_uri": "https://localhost:8080/",
          "height": 176
        },
        "id": "ChmWB7sKtRwG",
        "outputId": "ab36b30f-a9b0-4697-a3a1-5f1558880bba"
      },
      "outputs": [
        {
          "ename": "TypeError",
          "evalue": "int() argument must be a string, a bytes-like object or a real number, not 'complex'",
          "output_type": "error",
          "traceback": [
            "\u001b[0;31m---------------------------------------------------------------------------\u001b[0m",
            "\u001b[0;31mTypeError\u001b[0m                                 Traceback (most recent call last)",
            "\u001b[0;32m<ipython-input-55-f307523f2868>\u001b[0m in \u001b[0;36m<cell line: 0>\u001b[0;34m()\u001b[0m\n\u001b[1;32m      1\u001b[0m \u001b[0;31m# TypeError: int() argument must be a string, a bytes-like object or a real number, not 'complex'\u001b[0m\u001b[0;34m\u001b[0m\u001b[0;34m\u001b[0m\u001b[0m\n\u001b[0;32m----> 2\u001b[0;31m \u001b[0mnum\u001b[0m \u001b[0;34m=\u001b[0m \u001b[0mint\u001b[0m\u001b[0;34m(\u001b[0m\u001b[0mcomp\u001b[0m\u001b[0;34m)\u001b[0m\u001b[0;34m\u001b[0m\u001b[0;34m\u001b[0m\u001b[0m\n\u001b[0m\u001b[1;32m      3\u001b[0m \u001b[0mnum\u001b[0m\u001b[0;34m\u001b[0m\u001b[0;34m\u001b[0m\u001b[0m\n",
            "\u001b[0;31mTypeError\u001b[0m: int() argument must be a string, a bytes-like object or a real number, not 'complex'"
          ]
        }
      ],
      "source": [
        "# TypeError: int() argument must be a string, a bytes-like object or a real number, not 'complex'\n",
        "num = int(comp)\n",
        "num"
      ]
    },
    {
      "cell_type": "markdown",
      "metadata": {
        "id": "ATErGBH4jJJU"
      },
      "source": [
        "## **Conclusion**\n",
        "\n",
        "✅ Implicit Conversion (Automatic, No Data Loss)\n",
        "\n",
        "✅ Explicit Conversion (int(), float(), str(), etc.) for manual control\n",
        "\n",
        "✅ Be careful when converting strings (avoid invalid format errors)"
      ]
    },
    {
      "cell_type": "markdown",
      "metadata": {},
      "source": [
        "\n",
        "---\n",
        "\n",
        "### ✅ **Python Type Conversion Table (Implicit vs Explicit)**\n",
        "\n",
        "| 🔢 From Type | 🔄 To Type | ⚙️ Conversion Type | ✅ Function / Example         |\n",
        "|-------------|------------|--------------------|-------------------------------|\n",
        "| `int`       | `float`    | Implicit           | `x = 5 + 2.0` → `7.0`         |\n",
        "| `int`       | `complex`  | Implicit           | `complex(5)` → `(5+0j)`       |\n",
        "| `bool`      | `int`      | Implicit           | `int(True)` → `1`            |\n",
        "| `int`       | `str`      | Explicit           | `str(123)` → `\"123\"`         |\n",
        "| `str`       | `int`      | Explicit           | `int(\"456\")` → `456`         |\n",
        "| `float`     | `int`      | Explicit           | `int(5.9)` → `5`             |\n",
        "| `str`       | `float`    | Explicit           | `float(\"3.14\")` → `3.14`     |\n",
        "| `list`      | `set`      | Explicit           | `set([1, 2, 2])` → `{1, 2}`   |\n",
        "| `tuple`     | `list`     | Explicit           | `list((1, 2))` → `[1, 2]`     |\n",
        "| `str`       | `list`     | Explicit           | `list(\"abc\")` → `['a','b','c']`|\n",
        "| `str`       | `tuple`    | Explicit           | `tuple(\"ab\")` → `('a','b')`  |\n",
        "| `int`       | `bool`     | Explicit           | `bool(0)` → `False`          |\n",
        "| `float`     | `str`      | Explicit           | `str(2.5)` → `\"2.5\"`         |\n",
        "\n",
        "---\n",
        "\n"
      ]
    },
    {
      "cell_type": "markdown",
      "metadata": {},
      "source": [
        "\n",
        "\n",
        "---\n",
        "\n",
        "### **String Basics**\n",
        "1. What will be the output of `print('Hello\\\\nWorld!')`?\n",
        "   a) Hello\\\\nWorld!  \n",
        "   b) Hello World!  \n",
        "   c) Hello  \n",
        "      World!  \n",
        "   d) Error  \n",
        "   **Answer:** c) Hello (newline) World!  \n",
        "   **Explanation:** `\\n` is an escape sequence for a newline character.\n",
        "\n",
        "2. Which of these creates a multi-line string in Python?\n",
        "   a) `'''Hello\\\\nWorld'''`  \n",
        "   b) `'Hello World'`  \n",
        "   c) `r'Hello\\\\nWorld'`  \n",
        "   d) `'Hello' + 'World'`  \n",
        "   **Answer:** a) `'''Hello\\nWorld'''`  \n",
        "   **Explanation:** Triple quotes allow multi-line strings, and `\\n` adds a newline.\n",
        "\n",
        "3. What does `r'Hello\\\\tWorld'` print?  \n",
        "   a) Hello    World  \n",
        "   b) Hello\\\\tWorld  \n",
        "   c) Hello World  \n",
        "   d) Error  \n",
        "   **Answer:** b) Hello\\\\tWorld  \n",
        "   **Explanation:** Raw strings (`r`) treat backslashes as literal characters.\n",
        "\n",
        "---\n",
        "\n",
        "### **String Operations**\n",
        "4. What is the output of `'Hello'[1:4]`?  \n",
        "   a) 'ell'  \n",
        "   b) 'Hel'  \n",
        "   c) 'ello'  \n",
        "   d) 'llo'  \n",
        "   **Answer:** a) 'ell'  \n",
        "   **Explanation:** Slicing from index 1 to 3 (4 is exclusive).\n",
        "\n",
        "5. What does `len(' Hello ')` return?  \n",
        "   a) 5  \n",
        "   b) 6  \n",
        "   c) 7  \n",
        "   d) 8  \n",
        "   **Answer:** c) 7  \n",
        "   **Explanation:** Spaces are counted as characters.\n",
        "\n",
        "6. What is the result of `'Hello'.upper().lower()`?  \n",
        "   a) 'HELLO'  \n",
        "   b) 'hello'  \n",
        "   c) 'Hello'  \n",
        "   d) Error  \n",
        "   **Answer:** b) 'hello'  \n",
        "   **Explanation:** `upper()` converts to uppercase, then `lower()` converts back to lowercase.\n",
        "\n",
        "---\n",
        "\n",
        "### **String Methods**\n",
        "7. What does `'Hello,World'.split(',')` return?  \n",
        "   a) `['Hello', 'World']`  \n",
        "   b) `['Hello,World']`  \n",
        "   c) `['H', 'e', 'l', 'l', 'o', 'W', 'o', 'r', 'l', 'd']`  \n",
        "   d) Error  \n",
        "   **Answer:** a) `['Hello', 'World']`  \n",
        "   **Explanation:** `split(',')` splits the string at commas.\n",
        "\n",
        "8. What is the output of `'-'.join(['A', 'B', 'C'])`?  \n",
        "   a) 'A-B-C'  \n",
        "   b) 'A B C'  \n",
        "   c) 'ABC'  \n",
        "   d) Error  \n",
        "   **Answer:** a) 'A-B-C'  \n",
        "   **Explanation:** `join()` concatenates list elements with the specified separator.\n",
        "\n",
        "9. What does `'Hello'.replace('l', 'x', 1)` return?  \n",
        "   a) 'Hexlo'  \n",
        "   b) 'Hexxo'  \n",
        "   c) 'He llo'  \n",
        "   d) 'Hello'  \n",
        "   **Answer:** a) 'Hexlo'  \n",
        "   **Explanation:** Only the first occurrence of 'l' is replaced due to the count parameter `1`.\n",
        "\n",
        "---\n",
        "\n",
        "### **String Formatting**\n",
        "10. What is the output of `f'{\\\"Hello\\\"}'`?  \n",
        "    a) 'Hello'  \n",
        "    b) '{Hello}'  \n",
        "    c) Error  \n",
        "    d) 'fHello'  \n",
        "    **Answer:** a) 'Hello'  \n",
        "    **Explanation:** f-strings evaluate expressions inside curly braces.\n",
        "\n",
        "11. Which line correctly formats a string with `%` operator?  \n",
        "    a) `'Name: %d' % 'Alice'`  \n",
        "    b) `'Name: %s' % 'Alice'`  \n",
        "    c) `'Name: %f' % 'Alice'`  \n",
        "    d) `'Name: %c' % 'Alice'`  \n",
        "    **Answer:** b) `'Name: %s' % 'Alice'`  \n",
        "    **Explanation:** `%s` is the placeholder for strings.\n",
        "\n",
        "12. What does `'%.2f' % 3.14159` return?  \n",
        "    a) '3.14'  \n",
        "    b) '3.14159'  \n",
        "    c) '3.1'  \n",
        "    d) '3'  \n",
        "    **Answer:** a) '3.14'  \n",
        "    **Explanation:** `%.2f` rounds to 2 decimal places.\n",
        "\n",
        "---\n",
        "\n",
        "### **String Interning & Pool**\n",
        "13. What is the output of `a = 'hello'; b = 'hello'; print(a is b)`?  \n",
        "    a) True  \n",
        "    b) False  \n",
        "    c) Error  \n",
        "    d) None  \n",
        "    **Answer:** a) True  \n",
        "    **Explanation:** Short strings are interned, so `a` and `b` point to the same object.\n",
        "\n",
        "14. Which string will NOT be interned automatically?  \n",
        "    a) `'x'`  \n",
        "    b) `'hello'`  \n",
        "    c) `'this is a very long string'`  \n",
        "    d) `'python'`  \n",
        "    **Answer:** c) `'this is a very long string'`  \n",
        "    **Explanation:** Strings longer than 20 characters are not interned by default.\n",
        "\n",
        "15. How can you manually intern a string?  \n",
        "    a) `intern('hello')`  \n",
        "    b) `sys.intern('hello')`  \n",
        "    c) `str.intern('hello')`  \n",
        "    d) `'hello'.intern()`  \n",
        "    **Answer:** b) `sys.intern('hello')`  \n",
        "    **Explanation:** The `sys.intern()` function forces interning.\n",
        "\n",
        "---\n",
        "\n",
        "### **Type Casting**\n",
        "16. What does `int(3.9)` return?  \n",
        "    a) 3  \n",
        "    b) 4  \n",
        "    c) 3.9  \n",
        "    d) Error  \n",
        "    **Answer:** a) 3  \n",
        "    **Explanation:** `int()` truncates the decimal part.\n",
        "\n",
        "17. What is the output of `bool('False')`?  \n",
        "    a) False  \n",
        "    b) True  \n",
        "    c) Error  \n",
        "    d) None  \n",
        "    **Answer:** b) True  \n",
        "    **Explanation:** Non-empty strings evaluate to `True`.\n",
        "\n",
        "18. Which conversion will raise a `ValueError`?  \n",
        "    a) `int('123')`  \n",
        "    b) `float('3.14')`  \n",
        "    c) `int('abc')`  \n",
        "    d) `str(100)`  \n",
        "    **Answer:** c) `int('abc')`  \n",
        "    **Explanation:** `'abc'` cannot be converted to an integer.\n",
        "\n",
        "19. What does `list('hello')` return?  \n",
        "    a) `['h', 'e', 'l', 'l', 'o']`  \n",
        "    b) `['hello']`  \n",
        "    c) `'hello'`  \n",
        "    d) Error  \n",
        "    **Answer:** a) `['h', 'e', 'l', 'l', 'o']`  \n",
        "    **Explanation:** Strings are iterable; `list()` converts each character to a list element.\n",
        "\n",
        "20. What is the output of `set([1, 2, 2, 3])`?  \n",
        "    a) `{1, 2, 2, 3}`  \n",
        "    b) `{1, 2, 3}`  \n",
        "    c) `[1, 2, 3]`  \n",
        "    d) Error  \n",
        "    **Answer:** b) `{1, 2, 3}`  \n",
        "    **Explanation:** Sets remove duplicates.\n",
        "\n",
        "---\n",
        "\n",
        "### **Advanced String Questions**\n",
        "21. What does `'Hello'.find('l')` return?  \n",
        "    a) 2  \n",
        "    b) 3  \n",
        "    c) [2, 3]  \n",
        "    d) -1  \n",
        "    **Answer:** a) 2  \n",
        "    **Explanation:** Returns the index of the first occurrence of 'l'.\n",
        "\n",
        "22. What is the output of `'Hello'.index('x')`?  \n",
        "    a) -1  \n",
        "    b) None  \n",
        "    c) Error  \n",
        "    d) 0  \n",
        "    **Answer:** c) Error  \n",
        "    **Explanation:** `index()` raises a `ValueError` if the substring is not found.\n",
        "\n",
        "23. What does `'Hello'.count('l')` return?  \n",
        "    a) 1  \n",
        "    b) 2  \n",
        "    c) 0  \n",
        "    d) Error  \n",
        "    **Answer:** b) 2  \n",
        "    **Explanation:** There are two 'l' characters in \"Hello\".\n",
        "\n",
        "24. What is the result of `'Hello' + 1`?  \n",
        "    a) 'Hello1'  \n",
        "    b) 'Hellow'  \n",
        "    c) Error  \n",
        "    d) 'Hello '  \n",
        "    **Answer:** c) Error  \n",
        "    **Explanation:** Cannot concatenate string and integer directly.\n",
        "\n",
        "25. What does `'Hello' * 3` return?  \n",
        "    a) 'HelloHelloHello'  \n",
        "    b) 'Hello3'  \n",
        "    c) Error  \n",
        "    d) 'Hello Hello Hello'  \n",
        "    **Answer:** a) 'HelloHelloHello'  \n",
        "    **Explanation:** String repetition concatenates the string `n` times.\n",
        "\n",
        "---\n",
        "\n",
        "### **Tricky Comparisons**\n",
        "26. What is the output of `'apple' > 'banana'`?  \n",
        "    a) True  \n",
        "    b) False  \n",
        "    c) Error  \n",
        "    d) None  \n",
        "    **Answer:** b) False  \n",
        "    **Explanation:** 'a' (apple) has a lower Unicode value than 'b' (banana).\n",
        "\n",
        "27. What does `'A' == 'a'` return?  \n",
        "    a) True  \n",
        "    b) False  \n",
        "    c) Error  \n",
        "    d) None  \n",
        "    **Answer:** b) False  \n",
        "    **Explanation:** String comparisons are case-sensitive.\n",
        "\n",
        "28. What is the result of `'10' < '2'`?  \n",
        "    a) True  \n",
        "    b) False  \n",
        "    c) Error  \n",
        "    d) None  \n",
        "    **Answer:** a) True  \n",
        "    **Explanation:** Strings are compared lexicographically; '1' < '2'.\n",
        "\n",
        "---\n",
        "\n",
        "### **Type Casting Scenarios**\n",
        "29. What does `float(True)` return?  \n",
        "    a) 1.0  \n",
        "    b) True  \n",
        "    c) Error  \n",
        "    d) None  \n",
        "    **Answer:** a) 1.0  \n",
        "    **Explanation:** `True` is converted to `1.0` in float.\n",
        "\n",
        "30. What is the output of `str(3.14)[::-1]`?  \n",
        "    a) '3.14'  \n",
        "    b) '41.3'  \n",
        "    c) Error  \n",
        "    d) '31.4'  \n",
        "    **Answer:** b) '41.3'  \n",
        "    **Explanation:** `[::-1]` reverses the string `'3.14'`.\n",
        "\n",
        "31. What does `bool(' ')` return?  \n",
        "    a) False  \n",
        "    b) True  \n",
        "    c) Error  \n",
        "    d) None  \n",
        "    **Answer:** b) True  \n",
        "    **Explanation:** A space is a non-empty string.\n",
        "\n",
        "32. What is the result of `int('0b101', 2)`?  \n",
        "    a) 5  \n",
        "    b) 101  \n",
        "    c) Error  \n",
        "    d) 0  \n",
        "    **Answer:** a) 5  \n",
        "    **Explanation:** `int()` with base 2 converts binary to decimal.\n",
        "\n",
        "---\n",
        "\n",
        "### **String Pool & Interning**\n",
        "33. What is the output of `a = 'hello'; b = 'hello'; print(id(a) == id(b))`?  \n",
        "    a) True  \n",
        "    b) False  \n",
        "    c) Error  \n",
        "    d) None  \n",
        "    **Answer:** a) True  \n",
        "    **Explanation:** Short strings are interned, so `a` and `b` share the same memory.\n",
        "\n",
        "34. Which of these strings will NOT be interned automatically?  \n",
        "    a) `'x'`  \n",
        "    b) `'python'`  \n",
        "    c) `'a' * 20`  \n",
        "    d) `'a' * 21`  \n",
        "    **Answer:** d) `'a' * 21`  \n",
        "    **Explanation:** Strings longer than 20 characters are not interned by default.\n",
        "\n",
        "---\n",
        "\n",
        "\n",
        "### **Escape Sequences**\n",
        "35. What does `print('Hello\\\\bWorld')` output?  \n",
        "    a) HelloWorld  \n",
        "    b) HellWorld  \n",
        "    c) Hello\\bWorld  \n",
        "    d) Error  \n",
        "    **Answer:** b) HellWorld  \n",
        "    **Explanation:** `\\b` is a backspace escape sequence.\n",
        "\n",
        "36. What is the output of `print('\\u0041')`?  \n",
        "    a) 'A'  \n",
        "    b) '\\\\u0041'  \n",
        "    c) Error  \n",
        "    d) None  \n",
        "    **Answer:** a) 'A'  \n",
        "    **Explanation:** `\\u0041` is the Unicode for 'A'.\n",
        "\n",
        "---\n",
        "\n",
        "### **String Methods Deep Dive**\n",
        "37. What does `'Hello'.isalpha()` return?  \n",
        "    a) True  \n",
        "    b) False  \n",
        "    c) Error  \n",
        "    d) None  \n",
        "    **Answer:** a) True  \n",
        "    **Explanation:** All characters in 'Hello' are alphabetic.\n",
        "\n",
        "38. What is the output of `'123'.isdigit()`?  \n",
        "    a) True  \n",
        "    b) False  \n",
        "    c) Error  \n",
        "    d) None  \n",
        "    **Answer:** a) True  \n",
        "    **Explanation:** The string consists only of digits.\n",
        "\n",
        "39. What does `'Hello World'.title()` return?  \n",
        "    a) 'Hello world'  \n",
        "    b) 'Hello World'  \n",
        "    c) 'HELLO WORLD'  \n",
        "    d) 'Hello World'  \n",
        "    **Answer:** b) 'Hello World'  \n",
        "    **Explanation:** `title()` capitalizes the first letter of each word.\n",
        "\n",
        "---\n",
        "\n",
        "### **Complex Type Casting**\n",
        "40. What is the output of `complex(5)`?  \n",
        "    a) `5`  \n",
        "    b) `5 + 0j`  \n",
        "    c) `5j`  \n",
        "    d) Error  \n",
        "    **Answer:** b) `5 + 0j`  \n",
        "    **Explanation:** `complex()` converts integers to complex numbers.\n",
        "\n",
        "41. What does `str(True) + str(False)` return?  \n",
        "    a) 'TrueFalse'  \n",
        "    b) '10'  \n",
        "    c) Error  \n",
        "    d) '1'  \n",
        "    **Answer:** a) 'TrueFalse'  \n",
        "    **Explanation:** Boolean values are converted to strings and concatenated.\n",
        "\n",
        "---\n",
        "\n",
        "### **String Slicing Tricks**\n",
        "42. What is the output of `'Hello'[100:]`?  \n",
        "    a) Error  \n",
        "    b) 'Hello'  \n",
        "    c) ''  \n",
        "    d) 'o'  \n",
        "    **Answer:** c) ''  \n",
        "    **Explanation:** Out-of-bounds slicing returns an empty string.\n",
        "\n",
        "43. What does `'Hello'[::-1]` return?  \n",
        "    a) 'Hello'  \n",
        "    b) 'olleH'  \n",
        "    c) Error  \n",
        "    d) 'H'  \n",
        "    **Answer:** b) 'olleH'  \n",
        "    **Explanation:** `[::-1]` reverses the string.\n",
        "\n",
        "---\n",
        "\n",
        "### **String Formatting Nuances**\n",
        "44. What is the output of `'{} {}'.format(1, 2, 3)`?  \n",
        "    a) '1 2'  \n",
        "    b) '1 2 3'  \n",
        "    c) Error  \n",
        "    d) '3 2'  \n",
        "    **Answer:** a) '1 2'  \n",
        "    **Explanation:** Extra arguments are ignored in `format()`.\n",
        "\n",
        "45. What does `f'{10 + 5}'` return?  \n",
        "    a) '10 + 5'  \n",
        "    b) '15'  \n",
        "    c) Error  \n",
        "    d) '105'  \n",
        "    **Answer:** b) '15'  \n",
        "    **Explanation:** f-strings evaluate expressions inside curly braces.\n",
        "\n",
        "---\n",
        "\n",
        "### **Advanced Comparisons**\n",
        "46. What is the output of `'a' < 'A'`?  \n",
        "    a) True  \n",
        "    b) False  \n",
        "    c) Error  \n",
        "    d) None  \n",
        "    **Answer:** b) False  \n",
        "    **Explanation:** 'a' (97) has a higher Unicode value than 'A' (65).\n",
        "\n",
        "47. What does `'10' == 10` return?  \n",
        "    a) True  \n",
        "    b) False  \n",
        "    c) Error  \n",
        "    d) None  \n",
        "    **Answer:** b) False  \n",
        "    **Explanation:** String and integer are not equal.\n",
        "\n",
        "---\n",
        "\n",
        "### **String Repetition**\n",
        "48. What is the output of `'Hi' * 0`?  \n",
        "    a) 'Hi'  \n",
        "    b) ''  \n",
        "    c) Error  \n",
        "    d) '0'  \n",
        "    **Answer:** b) ''  \n",
        "    **Explanation:** Multiplying a string by 0 returns an empty string.\n",
        "\n",
        "49. What does `'A' * 3 + 'B' * 2` return?  \n",
        "    a) 'AAABB'  \n",
        "    b) 'ABABAB'  \n",
        "    c) 'A3B2'  \n",
        "    d) Error  \n",
        "    **Answer:** a) 'AAABB'  \n",
        "    **Explanation:** String repetition is performed before concatenation.\n",
        "\n",
        "---\n",
        "\n",
        "### **Final Tricky Question**\n",
        "50. What is the output of `print('Hello\\\\n'.strip())`?  \n",
        "    a) 'Hello\\\\n'  \n",
        "    b) 'Hello'  \n",
        "    c) 'Hell'  \n",
        "    d) Error  \n",
        "    **Answer:** b) 'Hello'  \n",
        "    **Explanation:** `strip()` removes leading/trailing whitespace, including `\\n`.\n",
        "\n",
        "---\n",
        "\n"
      ]
    },
    {
      "cell_type": "markdown",
      "metadata": {},
      "source": []
    }
  ],
  "metadata": {
    "colab": {
      "provenance": []
    },
    "kernelspec": {
      "display_name": "Python 3",
      "name": "python3"
    },
    "language_info": {
      "codemirror_mode": {
        "name": "ipython",
        "version": 3
      },
      "file_extension": ".py",
      "mimetype": "text/x-python",
      "name": "python",
      "nbconvert_exporter": "python",
      "pygments_lexer": "ipython3",
      "version": "3.12.2"
    }
  },
  "nbformat": 4,
  "nbformat_minor": 0
}
